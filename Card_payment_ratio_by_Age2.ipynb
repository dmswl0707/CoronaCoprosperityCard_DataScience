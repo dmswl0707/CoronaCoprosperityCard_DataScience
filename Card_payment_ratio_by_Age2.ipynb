{
  "nbformat": 4,
  "nbformat_minor": 0,
  "metadata": {
    "colab": {
      "name": "Card_payment_ratio_by Age2.ipynb",
      "provenance": [],
      "private_outputs": true,
      "authorship_tag": "ABX9TyMZzHZ/3C0UHuRs2P5UhmUn",
      "include_colab_link": true
    },
    "kernelspec": {
      "name": "python3",
      "display_name": "Python 3"
    }
  },
  "cells": [
    {
      "cell_type": "markdown",
      "metadata": {
        "id": "view-in-github",
        "colab_type": "text"
      },
      "source": [
        "<a href=\"https://colab.research.google.com/github/dmswl0707/CoronaCoprosperityCard_DataScience/blob/main/Card_payment_ratio_by_Age2.ipynb\" target=\"_parent\"><img src=\"https://colab.research.google.com/assets/colab-badge.svg\" alt=\"Open In Colab\"/></a>"
      ]
    },
    {
      "cell_type": "code",
      "metadata": {
        "id": "mkxBfJDlM_i4"
      },
      "source": [
        "#1. data1에서 결제건수와 판매업종 추출\n",
        "#2. data2에서 나이와 이용업종 추출 (판매업종=이용업종)\n",
        "#3. 반복된 값 정리 -ing\n",
        "#4. 판매량이 많은 연령 추출 \n",
        "#   ex) 판매액, 판매건수 : (20,1위),(40,2위),(30,3위),(50,4위),(60,5위)\n",
        "#5. 소비성향(k-means)\n",
        "#   ex) 5개 업종 군집으로 구분\n",
        "\n",
        "###가게분류_list=data1['receipt_dttm']\n",
        "#가게분류_val==가게분류_list.values.tolist()\n",
        "#mrhst_induty_cl_nm 재분류(caltm '업종'카테고리에 맞게)\n",
        "#비율\n",
        "\n",
        "###소비성향...\n"
      ],
      "execution_count": null,
      "outputs": []
    }
  ]
}