{
  "nbformat": 4,
  "nbformat_minor": 0,
  "metadata": {
    "colab": {
      "name": "2019,2020년도_분기별_업종_전처리.ipynb",
      "provenance": [],
      "collapsed_sections": [
        "kBzLZCKrOH1Y",
        "28YrDetdOH1m",
        "NGRAR-3BY1hv",
        "UrNOz-cSY1iK",
        "f_dtP2lfY1ie",
        "3BRU3uoiY1jA",
        "QPOdfaf0Y1jk",
        "fp3Re9n5Y1kF"
      ],
      "include_colab_link": true
    },
    "kernelspec": {
      "display_name": "Python 3",
      "language": "python",
      "name": "python3"
    },
    "language_info": {
      "codemirror_mode": {
        "name": "ipython",
        "version": 3
      },
      "file_extension": ".py",
      "mimetype": "text/x-python",
      "name": "python",
      "nbconvert_exporter": "python",
      "pygments_lexer": "ipython3",
      "version": "3.8.3"
    }
  },
  "cells": [
    {
      "cell_type": "markdown",
      "metadata": {
        "id": "view-in-github",
        "colab_type": "text"
      },
      "source": [
        "<a href=\"https://colab.research.google.com/github/dmswl0707/CoronaCoprosperityCard_DataScience/blob/main/2019%2C2020%EB%85%84%EB%8F%84_%EB%B6%84%EA%B8%B0%EB%B3%84_%EC%97%85%EC%A2%85_%EC%A0%84%EC%B2%98%EB%A6%AC.ipynb\" target=\"_parent\"><img src=\"https://colab.research.google.com/assets/colab-badge.svg\" alt=\"Open In Colab\"/></a>"
      ]
    },
    {
      "cell_type": "code",
      "metadata": {
        "id": "ST3UVLe4OH0W"
      },
      "source": [
        "import pandas as pd\n",
        "import numpy as np"
      ],
      "execution_count": null,
      "outputs": []
    },
    {
      "cell_type": "code",
      "metadata": {
        "id": "DIyTCD2tOH0d"
      },
      "source": [
        "s20= pd.read_csv('seoul2020.csv',encoding='euc-kr') #euc-kr\n",
        "s19= pd.read_csv('seoul2019.csv',encoding='euc-kr')"
      ],
      "execution_count": null,
      "outputs": []
    },
    {
      "cell_type": "code",
      "metadata": {
        "id": "5AvuyjBiOH0k",
        "outputId": "e56c49de-55dc-4366-8096-2664e37e3ffa"
      },
      "source": [
        "s19.head(3)"
      ],
      "execution_count": null,
      "outputs": [
        {
          "output_type": "execute_result",
          "data": {
            "text/html": [
              "<div>\n",
              "<style scoped>\n",
              "    .dataframe tbody tr th:only-of-type {\n",
              "        vertical-align: middle;\n",
              "    }\n",
              "\n",
              "    .dataframe tbody tr th {\n",
              "        vertical-align: top;\n",
              "    }\n",
              "\n",
              "    .dataframe thead th {\n",
              "        text-align: right;\n",
              "    }\n",
              "</style>\n",
              "<table border=\"1\" class=\"dataframe\">\n",
              "  <thead>\n",
              "    <tr style=\"text-align: right;\">\n",
              "      <th></th>\n",
              "      <th>기준_년_코드</th>\n",
              "      <th>기준_분기_코드</th>\n",
              "      <th>상권_구분_코드</th>\n",
              "      <th>상권_구분_코드_명</th>\n",
              "      <th>상권_코드</th>\n",
              "      <th>상권_코드_명</th>\n",
              "      <th>서비스_업종_코드</th>\n",
              "      <th>서비스_업종_코드_명</th>\n",
              "      <th>당월_매출_금액</th>\n",
              "      <th>당월_매출_건수</th>\n",
              "      <th>...</th>\n",
              "      <th>시간대_건수~24_매출_건수</th>\n",
              "      <th>남성_매출_건수</th>\n",
              "      <th>여성_매출_건수</th>\n",
              "      <th>연령대_10_매출_건수</th>\n",
              "      <th>연령대_20_매출_건수</th>\n",
              "      <th>연령대_30_매출_건수</th>\n",
              "      <th>연령대_40_매출_건수</th>\n",
              "      <th>연령대_50_매출_건수</th>\n",
              "      <th>연령대_60_이상_매출_건수</th>\n",
              "      <th>점포수</th>\n",
              "    </tr>\n",
              "  </thead>\n",
              "  <tbody>\n",
              "    <tr>\n",
              "      <th>0</th>\n",
              "      <td>2019</td>\n",
              "      <td>1</td>\n",
              "      <td>A</td>\n",
              "      <td>골목상권</td>\n",
              "      <td>1000365</td>\n",
              "      <td>도봉로169나길</td>\n",
              "      <td>CS100002</td>\n",
              "      <td>중식음식점</td>\n",
              "      <td>25690326</td>\n",
              "      <td>1441</td>\n",
              "      <td>...</td>\n",
              "      <td>0</td>\n",
              "      <td>912</td>\n",
              "      <td>379</td>\n",
              "      <td>6</td>\n",
              "      <td>58</td>\n",
              "      <td>337</td>\n",
              "      <td>420</td>\n",
              "      <td>336</td>\n",
              "      <td>134</td>\n",
              "      <td>3</td>\n",
              "    </tr>\n",
              "    <tr>\n",
              "      <th>1</th>\n",
              "      <td>2019</td>\n",
              "      <td>1</td>\n",
              "      <td>A</td>\n",
              "      <td>골목상권</td>\n",
              "      <td>1000067</td>\n",
              "      <td>원효로53길</td>\n",
              "      <td>CS100006</td>\n",
              "      <td>패스트푸드점</td>\n",
              "      <td>580603245</td>\n",
              "      <td>31183</td>\n",
              "      <td>...</td>\n",
              "      <td>1691</td>\n",
              "      <td>14973</td>\n",
              "      <td>13349</td>\n",
              "      <td>457</td>\n",
              "      <td>6954</td>\n",
              "      <td>7736</td>\n",
              "      <td>6489</td>\n",
              "      <td>5041</td>\n",
              "      <td>1649</td>\n",
              "      <td>10</td>\n",
              "    </tr>\n",
              "    <tr>\n",
              "      <th>2</th>\n",
              "      <td>2019</td>\n",
              "      <td>1</td>\n",
              "      <td>A</td>\n",
              "      <td>골목상권</td>\n",
              "      <td>1000206</td>\n",
              "      <td>제기로21길</td>\n",
              "      <td>CS300018</td>\n",
              "      <td>의약품</td>\n",
              "      <td>570668039</td>\n",
              "      <td>36759</td>\n",
              "      <td>...</td>\n",
              "      <td>0</td>\n",
              "      <td>19488</td>\n",
              "      <td>17138</td>\n",
              "      <td>87</td>\n",
              "      <td>2716</td>\n",
              "      <td>4773</td>\n",
              "      <td>8301</td>\n",
              "      <td>9009</td>\n",
              "      <td>11741</td>\n",
              "      <td>13</td>\n",
              "    </tr>\n",
              "  </tbody>\n",
              "</table>\n",
              "<p>3 rows × 80 columns</p>\n",
              "</div>"
            ],
            "text/plain": [
              "   기준_년_코드  기준_분기_코드 상권_구분_코드 상권_구분_코드_명    상권_코드   상권_코드_명 서비스_업종_코드  \\\n",
              "0     2019         1        A       골목상권  1000365  도봉로169나길  CS100002   \n",
              "1     2019         1        A       골목상권  1000067    원효로53길  CS100006   \n",
              "2     2019         1        A       골목상권  1000206    제기로21길  CS300018   \n",
              "\n",
              "  서비스_업종_코드_명   당월_매출_금액  당월_매출_건수  ...  시간대_건수~24_매출_건수  남성_매출_건수  여성_매출_건수  \\\n",
              "0       중식음식점   25690326      1441  ...                0       912       379   \n",
              "1      패스트푸드점  580603245     31183  ...             1691     14973     13349   \n",
              "2         의약품  570668039     36759  ...                0     19488     17138   \n",
              "\n",
              "   연령대_10_매출_건수  연령대_20_매출_건수  연령대_30_매출_건수  연령대_40_매출_건수  연령대_50_매출_건수  \\\n",
              "0             6            58           337           420           336   \n",
              "1           457          6954          7736          6489          5041   \n",
              "2            87          2716          4773          8301          9009   \n",
              "\n",
              "   연령대_60_이상_매출_건수  점포수  \n",
              "0              134    3  \n",
              "1             1649   10  \n",
              "2            11741   13  \n",
              "\n",
              "[3 rows x 80 columns]"
            ]
          },
          "metadata": {
            "tags": []
          },
          "execution_count": 30
        }
      ]
    },
    {
      "cell_type": "markdown",
      "metadata": {
        "id": "kbgfSbAyOH0q"
      },
      "source": [
        "# 2019년도 데이터의 상권코드를 오름차순으로 정렬한다."
      ]
    },
    {
      "cell_type": "code",
      "metadata": {
        "id": "-8nl5x5aOH0r"
      },
      "source": [
        "seoul2019= s19.sort_values(by=['상권_코드'])\n",
        "seoul2020= s20.sort_values(by=['상권_코드'])"
      ],
      "execution_count": null,
      "outputs": []
    },
    {
      "cell_type": "code",
      "metadata": {
        "id": "5sR_te_LOH0w",
        "outputId": "ca4fac3b-1d36-4bfe-abe1-51883c36aaa4"
      },
      "source": [
        "seoul2019.head(3)"
      ],
      "execution_count": null,
      "outputs": [
        {
          "output_type": "execute_result",
          "data": {
            "text/html": [
              "<div>\n",
              "<style scoped>\n",
              "    .dataframe tbody tr th:only-of-type {\n",
              "        vertical-align: middle;\n",
              "    }\n",
              "\n",
              "    .dataframe tbody tr th {\n",
              "        vertical-align: top;\n",
              "    }\n",
              "\n",
              "    .dataframe thead th {\n",
              "        text-align: right;\n",
              "    }\n",
              "</style>\n",
              "<table border=\"1\" class=\"dataframe\">\n",
              "  <thead>\n",
              "    <tr style=\"text-align: right;\">\n",
              "      <th></th>\n",
              "      <th>기준_년_코드</th>\n",
              "      <th>기준_분기_코드</th>\n",
              "      <th>상권_구분_코드</th>\n",
              "      <th>상권_구분_코드_명</th>\n",
              "      <th>상권_코드</th>\n",
              "      <th>상권_코드_명</th>\n",
              "      <th>서비스_업종_코드</th>\n",
              "      <th>서비스_업종_코드_명</th>\n",
              "      <th>당월_매출_금액</th>\n",
              "      <th>당월_매출_건수</th>\n",
              "      <th>...</th>\n",
              "      <th>시간대_건수~24_매출_건수</th>\n",
              "      <th>남성_매출_건수</th>\n",
              "      <th>여성_매출_건수</th>\n",
              "      <th>연령대_10_매출_건수</th>\n",
              "      <th>연령대_20_매출_건수</th>\n",
              "      <th>연령대_30_매출_건수</th>\n",
              "      <th>연령대_40_매출_건수</th>\n",
              "      <th>연령대_50_매출_건수</th>\n",
              "      <th>연령대_60_이상_매출_건수</th>\n",
              "      <th>점포수</th>\n",
              "    </tr>\n",
              "  </thead>\n",
              "  <tbody>\n",
              "    <tr>\n",
              "      <th>31901</th>\n",
              "      <td>2019</td>\n",
              "      <td>1</td>\n",
              "      <td>A</td>\n",
              "      <td>골목상권</td>\n",
              "      <td>1000001</td>\n",
              "      <td>계동길</td>\n",
              "      <td>CS300022</td>\n",
              "      <td>화장품</td>\n",
              "      <td>266653743</td>\n",
              "      <td>8797</td>\n",
              "      <td>...</td>\n",
              "      <td>194</td>\n",
              "      <td>1678</td>\n",
              "      <td>7051</td>\n",
              "      <td>106</td>\n",
              "      <td>2650</td>\n",
              "      <td>2619</td>\n",
              "      <td>1693</td>\n",
              "      <td>1125</td>\n",
              "      <td>537</td>\n",
              "      <td>15</td>\n",
              "    </tr>\n",
              "    <tr>\n",
              "      <th>15167</th>\n",
              "      <td>2019</td>\n",
              "      <td>1</td>\n",
              "      <td>A</td>\n",
              "      <td>골목상권</td>\n",
              "      <td>1000001</td>\n",
              "      <td>계동길</td>\n",
              "      <td>CS200008</td>\n",
              "      <td>한의원</td>\n",
              "      <td>274558800</td>\n",
              "      <td>3498</td>\n",
              "      <td>...</td>\n",
              "      <td>0</td>\n",
              "      <td>2079</td>\n",
              "      <td>1419</td>\n",
              "      <td>55</td>\n",
              "      <td>393</td>\n",
              "      <td>575</td>\n",
              "      <td>1409</td>\n",
              "      <td>360</td>\n",
              "      <td>706</td>\n",
              "      <td>6</td>\n",
              "    </tr>\n",
              "    <tr>\n",
              "      <th>59567</th>\n",
              "      <td>2019</td>\n",
              "      <td>2</td>\n",
              "      <td>A</td>\n",
              "      <td>골목상권</td>\n",
              "      <td>1000001</td>\n",
              "      <td>계동길</td>\n",
              "      <td>CS300024</td>\n",
              "      <td>운동/경기용품</td>\n",
              "      <td>719106</td>\n",
              "      <td>10</td>\n",
              "      <td>...</td>\n",
              "      <td>0</td>\n",
              "      <td>10</td>\n",
              "      <td>0</td>\n",
              "      <td>0</td>\n",
              "      <td>0</td>\n",
              "      <td>0</td>\n",
              "      <td>10</td>\n",
              "      <td>0</td>\n",
              "      <td>0</td>\n",
              "      <td>3</td>\n",
              "    </tr>\n",
              "  </tbody>\n",
              "</table>\n",
              "<p>3 rows × 80 columns</p>\n",
              "</div>"
            ],
            "text/plain": [
              "       기준_년_코드  기준_분기_코드 상권_구분_코드 상권_구분_코드_명    상권_코드 상권_코드_명 서비스_업종_코드  \\\n",
              "31901     2019         1        A       골목상권  1000001     계동길  CS300022   \n",
              "15167     2019         1        A       골목상권  1000001     계동길  CS200008   \n",
              "59567     2019         2        A       골목상권  1000001     계동길  CS300024   \n",
              "\n",
              "      서비스_업종_코드_명   당월_매출_금액  당월_매출_건수  ...  시간대_건수~24_매출_건수  남성_매출_건수  \\\n",
              "31901         화장품  266653743      8797  ...              194      1678   \n",
              "15167         한의원  274558800      3498  ...                0      2079   \n",
              "59567     운동/경기용품     719106        10  ...                0        10   \n",
              "\n",
              "       여성_매출_건수  연령대_10_매출_건수  연령대_20_매출_건수  연령대_30_매출_건수  연령대_40_매출_건수  \\\n",
              "31901      7051           106          2650          2619          1693   \n",
              "15167      1419            55           393           575          1409   \n",
              "59567         0             0             0             0            10   \n",
              "\n",
              "       연령대_50_매출_건수  연령대_60_이상_매출_건수  점포수  \n",
              "31901          1125              537   15  \n",
              "15167           360              706    6  \n",
              "59567             0                0    3  \n",
              "\n",
              "[3 rows x 80 columns]"
            ]
          },
          "metadata": {
            "tags": []
          },
          "execution_count": 32
        }
      ]
    },
    {
      "cell_type": "markdown",
      "metadata": {
        "id": "KNi4Vg0qOH00"
      },
      "source": [
        "# 2019년도 1분기와 2분기만을 추출"
      ]
    },
    {
      "cell_type": "code",
      "metadata": {
        "id": "B6lGVRyCOH01"
      },
      "source": [
        "seoul2019_1=seoul2019[seoul2019['기준_분기_코드']==1]\n",
        "seoul2019_2=seoul2019[seoul2019['기준_분기_코드']==2]"
      ],
      "execution_count": null,
      "outputs": []
    },
    {
      "cell_type": "code",
      "metadata": {
        "id": "ONeh0tuXOH07",
        "scrolled": true,
        "outputId": "c67b5fea-db8f-40d0-e422-6d59b9125238"
      },
      "source": [
        "seoul2019_2.head(3)"
      ],
      "execution_count": null,
      "outputs": [
        {
          "output_type": "execute_result",
          "data": {
            "text/html": [
              "<div>\n",
              "<style scoped>\n",
              "    .dataframe tbody tr th:only-of-type {\n",
              "        vertical-align: middle;\n",
              "    }\n",
              "\n",
              "    .dataframe tbody tr th {\n",
              "        vertical-align: top;\n",
              "    }\n",
              "\n",
              "    .dataframe thead th {\n",
              "        text-align: right;\n",
              "    }\n",
              "</style>\n",
              "<table border=\"1\" class=\"dataframe\">\n",
              "  <thead>\n",
              "    <tr style=\"text-align: right;\">\n",
              "      <th></th>\n",
              "      <th>기준_년_코드</th>\n",
              "      <th>기준_분기_코드</th>\n",
              "      <th>상권_구분_코드</th>\n",
              "      <th>상권_구분_코드_명</th>\n",
              "      <th>상권_코드</th>\n",
              "      <th>상권_코드_명</th>\n",
              "      <th>서비스_업종_코드</th>\n",
              "      <th>서비스_업종_코드_명</th>\n",
              "      <th>당월_매출_금액</th>\n",
              "      <th>당월_매출_건수</th>\n",
              "      <th>...</th>\n",
              "      <th>시간대_건수~24_매출_건수</th>\n",
              "      <th>남성_매출_건수</th>\n",
              "      <th>여성_매출_건수</th>\n",
              "      <th>연령대_10_매출_건수</th>\n",
              "      <th>연령대_20_매출_건수</th>\n",
              "      <th>연령대_30_매출_건수</th>\n",
              "      <th>연령대_40_매출_건수</th>\n",
              "      <th>연령대_50_매출_건수</th>\n",
              "      <th>연령대_60_이상_매출_건수</th>\n",
              "      <th>점포수</th>\n",
              "    </tr>\n",
              "  </thead>\n",
              "  <tbody>\n",
              "    <tr>\n",
              "      <th>59567</th>\n",
              "      <td>2019</td>\n",
              "      <td>2</td>\n",
              "      <td>A</td>\n",
              "      <td>골목상권</td>\n",
              "      <td>1000001</td>\n",
              "      <td>계동길</td>\n",
              "      <td>CS300024</td>\n",
              "      <td>운동/경기용품</td>\n",
              "      <td>719106</td>\n",
              "      <td>10</td>\n",
              "      <td>...</td>\n",
              "      <td>0</td>\n",
              "      <td>10</td>\n",
              "      <td>0</td>\n",
              "      <td>0</td>\n",
              "      <td>0</td>\n",
              "      <td>0</td>\n",
              "      <td>10</td>\n",
              "      <td>0</td>\n",
              "      <td>0</td>\n",
              "      <td>3</td>\n",
              "    </tr>\n",
              "    <tr>\n",
              "      <th>79376</th>\n",
              "      <td>2019</td>\n",
              "      <td>2</td>\n",
              "      <td>A</td>\n",
              "      <td>골목상권</td>\n",
              "      <td>1000001</td>\n",
              "      <td>계동길</td>\n",
              "      <td>CS300018</td>\n",
              "      <td>의약품</td>\n",
              "      <td>58469796</td>\n",
              "      <td>6860</td>\n",
              "      <td>...</td>\n",
              "      <td>0</td>\n",
              "      <td>4111</td>\n",
              "      <td>2578</td>\n",
              "      <td>24</td>\n",
              "      <td>1116</td>\n",
              "      <td>2439</td>\n",
              "      <td>1279</td>\n",
              "      <td>1493</td>\n",
              "      <td>336</td>\n",
              "      <td>2</td>\n",
              "    </tr>\n",
              "    <tr>\n",
              "      <th>60712</th>\n",
              "      <td>2019</td>\n",
              "      <td>2</td>\n",
              "      <td>A</td>\n",
              "      <td>골목상권</td>\n",
              "      <td>1000001</td>\n",
              "      <td>계동길</td>\n",
              "      <td>CS100006</td>\n",
              "      <td>패스트푸드점</td>\n",
              "      <td>502472994</td>\n",
              "      <td>35702</td>\n",
              "      <td>...</td>\n",
              "      <td>0</td>\n",
              "      <td>15526</td>\n",
              "      <td>19732</td>\n",
              "      <td>1049</td>\n",
              "      <td>14985</td>\n",
              "      <td>9503</td>\n",
              "      <td>5276</td>\n",
              "      <td>3546</td>\n",
              "      <td>900</td>\n",
              "      <td>7</td>\n",
              "    </tr>\n",
              "  </tbody>\n",
              "</table>\n",
              "<p>3 rows × 80 columns</p>\n",
              "</div>"
            ],
            "text/plain": [
              "       기준_년_코드  기준_분기_코드 상권_구분_코드 상권_구분_코드_명    상권_코드 상권_코드_명 서비스_업종_코드  \\\n",
              "59567     2019         2        A       골목상권  1000001     계동길  CS300024   \n",
              "79376     2019         2        A       골목상권  1000001     계동길  CS300018   \n",
              "60712     2019         2        A       골목상권  1000001     계동길  CS100006   \n",
              "\n",
              "      서비스_업종_코드_명   당월_매출_금액  당월_매출_건수  ...  시간대_건수~24_매출_건수  남성_매출_건수  \\\n",
              "59567     운동/경기용품     719106        10  ...                0        10   \n",
              "79376         의약품   58469796      6860  ...                0      4111   \n",
              "60712      패스트푸드점  502472994     35702  ...                0     15526   \n",
              "\n",
              "       여성_매출_건수  연령대_10_매출_건수  연령대_20_매출_건수  연령대_30_매출_건수  연령대_40_매출_건수  \\\n",
              "59567         0             0             0             0            10   \n",
              "79376      2578            24          1116          2439          1279   \n",
              "60712     19732          1049         14985          9503          5276   \n",
              "\n",
              "       연령대_50_매출_건수  연령대_60_이상_매출_건수  점포수  \n",
              "59567             0                0    3  \n",
              "79376          1493              336    2  \n",
              "60712          3546              900    7  \n",
              "\n",
              "[3 rows x 80 columns]"
            ]
          },
          "metadata": {
            "tags": []
          },
          "execution_count": 34
        }
      ]
    },
    {
      "cell_type": "code",
      "metadata": {
        "id": "5m6fnsRpOH0-",
        "outputId": "86062dff-ac17-4877-c3fd-a713744f5770"
      },
      "source": [
        "print(type(seoul2019_1))"
      ],
      "execution_count": null,
      "outputs": [
        {
          "output_type": "stream",
          "text": [
            "<class 'pandas.core.frame.DataFrame'>\n"
          ],
          "name": "stdout"
        }
      ]
    },
    {
      "cell_type": "markdown",
      "metadata": {
        "id": "tcIukAbwOH1D"
      },
      "source": [
        "# 필요한 열만을 추출"
      ]
    },
    {
      "cell_type": "code",
      "metadata": {
        "id": "-Dfc96dXOH1E"
      },
      "source": [
        "seoul2019_1=seoul2019_1[['기준_년_코드','기준_분기_코드','상권_구분_코드','상권_구분_코드_명','상권_코드','상권_코드_명','서비스_업종_코드','서비스_업종_코드_명','당월_매출_금액','당월_매출_건수','점포수']]\n",
        "seoul2019_2=seoul2019_2[['기준_년_코드','기준_분기_코드','상권_구분_코드','상권_구분_코드_명','상권_코드','상권_코드_명','서비스_업종_코드','서비스_업종_코드_명','당월_매출_금액','당월_매출_건수','점포수']]"
      ],
      "execution_count": null,
      "outputs": []
    },
    {
      "cell_type": "code",
      "metadata": {
        "id": "2lBV51bmOH1J",
        "outputId": "b8641804-0016-4524-af93-de1ba140d66d"
      },
      "source": [
        "seoul2019_2.head(3)"
      ],
      "execution_count": null,
      "outputs": [
        {
          "output_type": "execute_result",
          "data": {
            "text/html": [
              "<div>\n",
              "<style scoped>\n",
              "    .dataframe tbody tr th:only-of-type {\n",
              "        vertical-align: middle;\n",
              "    }\n",
              "\n",
              "    .dataframe tbody tr th {\n",
              "        vertical-align: top;\n",
              "    }\n",
              "\n",
              "    .dataframe thead th {\n",
              "        text-align: right;\n",
              "    }\n",
              "</style>\n",
              "<table border=\"1\" class=\"dataframe\">\n",
              "  <thead>\n",
              "    <tr style=\"text-align: right;\">\n",
              "      <th></th>\n",
              "      <th>기준_년_코드</th>\n",
              "      <th>기준_분기_코드</th>\n",
              "      <th>상권_구분_코드</th>\n",
              "      <th>상권_구분_코드_명</th>\n",
              "      <th>상권_코드</th>\n",
              "      <th>상권_코드_명</th>\n",
              "      <th>서비스_업종_코드</th>\n",
              "      <th>서비스_업종_코드_명</th>\n",
              "      <th>당월_매출_금액</th>\n",
              "      <th>당월_매출_건수</th>\n",
              "      <th>점포수</th>\n",
              "    </tr>\n",
              "  </thead>\n",
              "  <tbody>\n",
              "    <tr>\n",
              "      <th>59567</th>\n",
              "      <td>2019</td>\n",
              "      <td>2</td>\n",
              "      <td>A</td>\n",
              "      <td>골목상권</td>\n",
              "      <td>1000001</td>\n",
              "      <td>계동길</td>\n",
              "      <td>CS300024</td>\n",
              "      <td>운동/경기용품</td>\n",
              "      <td>719106</td>\n",
              "      <td>10</td>\n",
              "      <td>3</td>\n",
              "    </tr>\n",
              "    <tr>\n",
              "      <th>79376</th>\n",
              "      <td>2019</td>\n",
              "      <td>2</td>\n",
              "      <td>A</td>\n",
              "      <td>골목상권</td>\n",
              "      <td>1000001</td>\n",
              "      <td>계동길</td>\n",
              "      <td>CS300018</td>\n",
              "      <td>의약품</td>\n",
              "      <td>58469796</td>\n",
              "      <td>6860</td>\n",
              "      <td>2</td>\n",
              "    </tr>\n",
              "    <tr>\n",
              "      <th>60712</th>\n",
              "      <td>2019</td>\n",
              "      <td>2</td>\n",
              "      <td>A</td>\n",
              "      <td>골목상권</td>\n",
              "      <td>1000001</td>\n",
              "      <td>계동길</td>\n",
              "      <td>CS100006</td>\n",
              "      <td>패스트푸드점</td>\n",
              "      <td>502472994</td>\n",
              "      <td>35702</td>\n",
              "      <td>7</td>\n",
              "    </tr>\n",
              "  </tbody>\n",
              "</table>\n",
              "</div>"
            ],
            "text/plain": [
              "       기준_년_코드  기준_분기_코드 상권_구분_코드 상권_구분_코드_명    상권_코드 상권_코드_명 서비스_업종_코드  \\\n",
              "59567     2019         2        A       골목상권  1000001     계동길  CS300024   \n",
              "79376     2019         2        A       골목상권  1000001     계동길  CS300018   \n",
              "60712     2019         2        A       골목상권  1000001     계동길  CS100006   \n",
              "\n",
              "      서비스_업종_코드_명   당월_매출_금액  당월_매출_건수  점포수  \n",
              "59567     운동/경기용품     719106        10    3  \n",
              "79376         의약품   58469796      6860    2  \n",
              "60712      패스트푸드점  502472994     35702    7  "
            ]
          },
          "metadata": {
            "tags": []
          },
          "execution_count": 37
        }
      ]
    },
    {
      "cell_type": "markdown",
      "metadata": {
        "id": "_Q4kAAcOOH1N"
      },
      "source": [
        "# 상권리스트를 추출"
      ]
    },
    {
      "cell_type": "code",
      "metadata": {
        "id": "gjsrpz_nOH1O",
        "scrolled": true,
        "outputId": "01305876-3da1-441e-dd32-82aae87ff74a"
      },
      "source": [
        "region1_list=seoul2019_1['상권_코드'].unique().tolist()\n",
        "region2_list=seoul2019_2['상권_코드'].unique().tolist()\n",
        "print(len(region1_list),len(region2_list))"
      ],
      "execution_count": null,
      "outputs": [
        {
          "output_type": "stream",
          "text": [
            "1010 1010\n"
          ],
          "name": "stdout"
        }
      ]
    },
    {
      "cell_type": "code",
      "metadata": {
        "id": "XEem0XAfOH1T",
        "outputId": "18a6292a-36ff-4ca3-f292-5014328bf8de"
      },
      "source": [
        "i=0\n",
        "different=0\n",
        "#누락된 상권이 있는지 체크\n",
        "for i in range(0,len(region2_list)):\n",
        "    if region1_list[i]!=region2_list[i]:\n",
        "        different=1\n",
        "\n",
        "print(different)"
      ],
      "execution_count": null,
      "outputs": [
        {
          "output_type": "stream",
          "text": [
            "0\n"
          ],
          "name": "stdout"
        }
      ]
    },
    {
      "cell_type": "markdown",
      "metadata": {
        "id": "kBzLZCKrOH1Y"
      },
      "source": [
        "# 2019 1,2분기 상권별로 업종비교"
      ]
    },
    {
      "cell_type": "markdown",
      "metadata": {
        "id": "8dMILgMBOH1Z"
      },
      "source": [
        "중복이 아닌 업종 삭제 전 업종 리스트와 갯수가 상이"
      ]
    },
    {
      "cell_type": "code",
      "metadata": {
        "id": "gnEmw_ApOH1a",
        "outputId": "92fb8578-d702-4932-86eb-9055447af26f",
        "colab": {
          "base_uri": "https://localhost:8080/",
          "height": 251
        }
      },
      "source": [
        "group1 = seoul2019_1[seoul2019_1['상권_코드']==region1_list[70]]\n",
        "group2 = seoul2019_2[seoul2019_2['상권_코드']==region1_list[70]]\n",
        "\n",
        "#print(group1.head(3))\n",
        "\n",
        "group1= group1.sort_values(by=['서비스_업종_코드'])\n",
        "group2= group2.sort_values(by=['서비스_업종_코드'])\n",
        "\n",
        "print(group1['상권_코드_명'].unique())\n",
        "\n",
        "list1=group1['서비스_업종_코드'].unique().tolist()\n",
        "list2=group2['서비스_업종_코드'].unique().tolist()\n",
        "\n",
        "print('1분기',list1,'\\n\\n 2분기',list2)\n",
        "print(len(list1),len(list2))"
      ],
      "execution_count": null,
      "outputs": [
        {
          "output_type": "stream",
          "text": [
            "['이태원로54길']\n",
            "1분기 ['CS100001', 'CS100002', 'CS100003', 'CS100004', 'CS100005', 'CS100006', 'CS100007', 'CS100008', 'CS100009', 'CS100010', 'CS200001', 'CS200006', 'CS200007', 'CS200008', 'CS200016', 'CS200017', 'CS200019', 'CS200024', 'CS200028', 'CS200029', 'CS200030', 'CS200031', 'CS200034', 'CS200037', 'CS300001', 'CS300002', 'CS300004', 'CS300007', 'CS300010', 'CS300011', 'CS300014', 'CS300015', 'CS300016', 'CS300017', 'CS300018', 'CS300020', 'CS300022', 'CS300024', 'CS300028', 'CS300029', 'CS300043'] \n",
            "\n",
            " 2분기 ['CS100001', 'CS100002', 'CS100003', 'CS100004', 'CS100005', 'CS100006', 'CS100008', 'CS100009', 'CS100010', 'CS200006', 'CS200007', 'CS200008', 'CS200016', 'CS200017', 'CS200019', 'CS200024', 'CS200028', 'CS200029', 'CS200030', 'CS200031', 'CS200034', 'CS200037', 'CS300001', 'CS300002', 'CS300004', 'CS300007', 'CS300011', 'CS300014', 'CS300015', 'CS300016', 'CS300017', 'CS300018', 'CS300020', 'CS300022', 'CS300024', 'CS300028', 'CS300043']\n",
            "41 37\n"
          ],
          "name": "stdout"
        }
      ]
    },
    {
      "cell_type": "code",
      "metadata": {
        "id": "c6z58526OH1e"
      },
      "source": [
        "for i in range(0,len(region1_list)):\n",
        "\n",
        "    #하나의 지역을 추출해낸다 (EX) 이태원로54길\n",
        "    group1 = seoul2019_1[seoul2019_1['상권_코드']==region1_list[i]]\n",
        "    group2 = seoul2019_2[seoul2019_2['상권_코드']==region1_list[i]]\n",
        "\n",
        "    # 서비스업종코드 비교를 위해 서비스 업종 코드를 오름차순으로 정렬한다\n",
        "    group1= group1.sort_values(by=['서비스_업종_코드'])\n",
        "    group2= group2.sort_values(by=['서비스_업종_코드'])\n",
        "\n",
        "    \n",
        "    #seoul2019데이터에서 삭제하기 위해 기존 index를 index 칼럼으로 생성한다\n",
        "    group1=group1.reset_index()\n",
        "    group2=group2.reset_index()\n",
        "\n",
        "\n",
        "    j1=0 #group1의 행\n",
        "    j2=0 #group2의 행\n",
        "    \n",
        "    while True:\n",
        "        if group1.iloc[j1,7]== group2.iloc[j2,7]: #동일 지역의 서비스업종 코드 비교\n",
        "            j1=j1+1\n",
        "            j2=j2+1\n",
        "        elif group1.iloc[j1,7] > group2.iloc[j2,7]: #1분기에 해당 업종이 존재하지 않을 경우 2분기 데이터에서 해당업종 삭제\n",
        "            seoul2019_2.drop([group2.iloc[j2,0]],axis=0,inplace=True)\n",
        "            j2=j2+1\n",
        "        else:                                       #2분기에 해당 업종이 존재하지 않을 경우 1분기 데이터에서 해당업종 삭제\n",
        "            seoul2019_1.drop([group1.iloc[j1,0]],axis=0,inplace=True)\n",
        "            j1=j1+1\n",
        "    \n",
        "        if j1==len(group1) or j2==len(group2):\n",
        "            break"
      ],
      "execution_count": null,
      "outputs": []
    },
    {
      "cell_type": "markdown",
      "metadata": {
        "id": "xdESvJTgOH1i"
      },
      "source": [
        "중복이 아닌 업종 삭제 후 업종리스트와 갯수 동일"
      ]
    },
    {
      "cell_type": "code",
      "metadata": {
        "id": "ZFfWXV77OH1j",
        "scrolled": false,
        "outputId": "8db1b72f-6caa-49af-abce-f4ae3542f7a5"
      },
      "source": [
        "group1 = seoul2019_1[seoul2019_1['상권_코드']==region1_list[70]]\n",
        "group2 = seoul2019_2[seoul2019_2['상권_코드']==region1_list[70]]\n",
        "\n",
        "group1= group1.sort_values(by=['서비스_업종_코드'])\n",
        "group2= group2.sort_values(by=['서비스_업종_코드'])\n",
        "\n",
        "print(group1['상권_코드_명'].unique())\n",
        "\n",
        "list1=group1['서비스_업종_코드'].unique().tolist()\n",
        "list2=group2['서비스_업종_코드'].unique().tolist()\n",
        "\n",
        "print('1분기',list1,'\\n\\n 2분기',list2)\n",
        "print(len(list1),len(list2))"
      ],
      "execution_count": null,
      "outputs": [
        {
          "output_type": "stream",
          "text": [
            "['이태원로54길']\n",
            "1분기 ['CS100001', 'CS100002', 'CS100003', 'CS100004', 'CS100005', 'CS100006', 'CS100008', 'CS100009', 'CS100010', 'CS200006', 'CS200007', 'CS200008', 'CS200016', 'CS200017', 'CS200019', 'CS200024', 'CS200028', 'CS200029', 'CS200030', 'CS200031', 'CS200034', 'CS200037', 'CS300001', 'CS300002', 'CS300004', 'CS300007', 'CS300011', 'CS300014', 'CS300015', 'CS300016', 'CS300017', 'CS300018', 'CS300020', 'CS300022', 'CS300024', 'CS300028', 'CS300043'] \n",
            "\n",
            " 2분기 ['CS100001', 'CS100002', 'CS100003', 'CS100004', 'CS100005', 'CS100006', 'CS100008', 'CS100009', 'CS100010', 'CS200006', 'CS200007', 'CS200008', 'CS200016', 'CS200017', 'CS200019', 'CS200024', 'CS200028', 'CS200029', 'CS200030', 'CS200031', 'CS200034', 'CS200037', 'CS300001', 'CS300002', 'CS300004', 'CS300007', 'CS300011', 'CS300014', 'CS300015', 'CS300016', 'CS300017', 'CS300018', 'CS300020', 'CS300022', 'CS300024', 'CS300028', 'CS300043']\n",
            "37 37\n"
          ],
          "name": "stdout"
        }
      ]
    },
    {
      "cell_type": "markdown",
      "metadata": {
        "id": "28YrDetdOH1m"
      },
      "source": [
        "# 2020년 상권코드 오름차순 정렬 후 1,2분기 추출"
      ]
    },
    {
      "cell_type": "code",
      "metadata": {
        "id": "tx0n0h5dY1hk",
        "outputId": "59ef4144-988f-476b-eee5-66f97515d381"
      },
      "source": [
        "seoul2020= s20.sort_values(by=['상권_코드'])\n",
        "\n",
        "seoul2020_1=seoul2020[seoul2020['기준_분기_코드']==1]\n",
        "seoul2020_2=seoul2020[seoul2020['기준_분기_코드']==2]\n",
        "\n",
        "#seoul2020_1.head(3)\n",
        "seoul2020_2.head(3)"
      ],
      "execution_count": null,
      "outputs": [
        {
          "output_type": "execute_result",
          "data": {
            "text/html": [
              "<div>\n",
              "<style scoped>\n",
              "    .dataframe tbody tr th:only-of-type {\n",
              "        vertical-align: middle;\n",
              "    }\n",
              "\n",
              "    .dataframe tbody tr th {\n",
              "        vertical-align: top;\n",
              "    }\n",
              "\n",
              "    .dataframe thead th {\n",
              "        text-align: right;\n",
              "    }\n",
              "</style>\n",
              "<table border=\"1\" class=\"dataframe\">\n",
              "  <thead>\n",
              "    <tr style=\"text-align: right;\">\n",
              "      <th></th>\n",
              "      <th>기준_년_코드</th>\n",
              "      <th>기준_분기_코드</th>\n",
              "      <th>상권_구분_코드</th>\n",
              "      <th>상권_구분_코드_명</th>\n",
              "      <th>상권_코드</th>\n",
              "      <th>상권_코드_명</th>\n",
              "      <th>서비스_업종_코드</th>\n",
              "      <th>서비스_업종_코드_명</th>\n",
              "      <th>당월_매출_금액</th>\n",
              "      <th>당월_매출_건수</th>\n",
              "      <th>...</th>\n",
              "      <th>시간대_건수~24_매출_건수</th>\n",
              "      <th>남성_매출_건수</th>\n",
              "      <th>여성_매출_건수</th>\n",
              "      <th>연령대_10_매출_건수</th>\n",
              "      <th>연령대_20_매출_건수</th>\n",
              "      <th>연령대_30_매출_건수</th>\n",
              "      <th>연령대_40_매출_건수</th>\n",
              "      <th>연령대_50_매출_건수</th>\n",
              "      <th>연령대_60_이상_매출_건수</th>\n",
              "      <th>점포수</th>\n",
              "    </tr>\n",
              "  </thead>\n",
              "  <tbody>\n",
              "    <tr>\n",
              "      <th>33255</th>\n",
              "      <td>2020</td>\n",
              "      <td>2</td>\n",
              "      <td>A</td>\n",
              "      <td>골목상권</td>\n",
              "      <td>1000001</td>\n",
              "      <td>계동길</td>\n",
              "      <td>CS300010</td>\n",
              "      <td>반찬가게</td>\n",
              "      <td>434129685</td>\n",
              "      <td>10094</td>\n",
              "      <td>...</td>\n",
              "      <td>0</td>\n",
              "      <td>2169</td>\n",
              "      <td>7925</td>\n",
              "      <td>0</td>\n",
              "      <td>167</td>\n",
              "      <td>1085</td>\n",
              "      <td>2419</td>\n",
              "      <td>2169</td>\n",
              "      <td>4254</td>\n",
              "      <td>3</td>\n",
              "    </tr>\n",
              "    <tr>\n",
              "      <th>33266</th>\n",
              "      <td>2020</td>\n",
              "      <td>2</td>\n",
              "      <td>A</td>\n",
              "      <td>골목상권</td>\n",
              "      <td>1000001</td>\n",
              "      <td>계동길</td>\n",
              "      <td>CS100003</td>\n",
              "      <td>일식음식점</td>\n",
              "      <td>46343892</td>\n",
              "      <td>1296</td>\n",
              "      <td>...</td>\n",
              "      <td>167</td>\n",
              "      <td>481</td>\n",
              "      <td>556</td>\n",
              "      <td>0</td>\n",
              "      <td>99</td>\n",
              "      <td>320</td>\n",
              "      <td>271</td>\n",
              "      <td>260</td>\n",
              "      <td>87</td>\n",
              "      <td>3</td>\n",
              "    </tr>\n",
              "    <tr>\n",
              "      <th>33265</th>\n",
              "      <td>2020</td>\n",
              "      <td>2</td>\n",
              "      <td>A</td>\n",
              "      <td>골목상권</td>\n",
              "      <td>1000001</td>\n",
              "      <td>계동길</td>\n",
              "      <td>CS100004</td>\n",
              "      <td>양식음식점</td>\n",
              "      <td>188904583</td>\n",
              "      <td>4529</td>\n",
              "      <td>...</td>\n",
              "      <td>58</td>\n",
              "      <td>1783</td>\n",
              "      <td>2516</td>\n",
              "      <td>41</td>\n",
              "      <td>1823</td>\n",
              "      <td>1338</td>\n",
              "      <td>417</td>\n",
              "      <td>443</td>\n",
              "      <td>236</td>\n",
              "      <td>3</td>\n",
              "    </tr>\n",
              "  </tbody>\n",
              "</table>\n",
              "<p>3 rows × 80 columns</p>\n",
              "</div>"
            ],
            "text/plain": [
              "       기준_년_코드  기준_분기_코드 상권_구분_코드 상권_구분_코드_명    상권_코드 상권_코드_명 서비스_업종_코드  \\\n",
              "33255     2020         2        A       골목상권  1000001     계동길  CS300010   \n",
              "33266     2020         2        A       골목상권  1000001     계동길  CS100003   \n",
              "33265     2020         2        A       골목상권  1000001     계동길  CS100004   \n",
              "\n",
              "      서비스_업종_코드_명   당월_매출_금액  당월_매출_건수  ...  시간대_건수~24_매출_건수  남성_매출_건수  \\\n",
              "33255        반찬가게  434129685     10094  ...                0      2169   \n",
              "33266       일식음식점   46343892      1296  ...              167       481   \n",
              "33265       양식음식점  188904583      4529  ...               58      1783   \n",
              "\n",
              "       여성_매출_건수  연령대_10_매출_건수  연령대_20_매출_건수  연령대_30_매출_건수  연령대_40_매출_건수  \\\n",
              "33255      7925             0           167          1085          2419   \n",
              "33266       556             0            99           320           271   \n",
              "33265      2516            41          1823          1338           417   \n",
              "\n",
              "       연령대_50_매출_건수  연령대_60_이상_매출_건수  점포수  \n",
              "33255          2169             4254    3  \n",
              "33266           260               87    3  \n",
              "33265           443              236    3  \n",
              "\n",
              "[3 rows x 80 columns]"
            ]
          },
          "metadata": {
            "tags": []
          },
          "execution_count": 53
        }
      ]
    },
    {
      "cell_type": "markdown",
      "metadata": {
        "id": "NGRAR-3BY1hv"
      },
      "source": [
        "# 필요한 열 추출"
      ]
    },
    {
      "cell_type": "code",
      "metadata": {
        "id": "vgi3RGOvY1hx"
      },
      "source": [
        "seoul2020_1=seoul2020_1[['기준_년_코드','기준_분기_코드','상권_구분_코드','상권_구분_코드_명','상권_코드','상권_코드_명','서비스_업종_코드','서비스_업종_코드_명','당월_매출_금액','당월_매출_건수','점포수']]\n",
        "seoul2020_2=seoul2020_2[['기준_년_코드','기준_분기_코드','상권_구분_코드','상권_구분_코드_명','상권_코드','상권_코드_명','서비스_업종_코드','서비스_업종_코드_명','당월_매출_금액','당월_매출_건수','점포수']]"
      ],
      "execution_count": null,
      "outputs": []
    },
    {
      "cell_type": "code",
      "metadata": {
        "id": "P4ISPFePY1iC",
        "outputId": "5dd7cf47-1bb0-44db-9d7a-b6e16825045d"
      },
      "source": [
        "seoul2020_1.head(3)"
      ],
      "execution_count": null,
      "outputs": [
        {
          "output_type": "execute_result",
          "data": {
            "text/html": [
              "<div>\n",
              "<style scoped>\n",
              "    .dataframe tbody tr th:only-of-type {\n",
              "        vertical-align: middle;\n",
              "    }\n",
              "\n",
              "    .dataframe tbody tr th {\n",
              "        vertical-align: top;\n",
              "    }\n",
              "\n",
              "    .dataframe thead th {\n",
              "        text-align: right;\n",
              "    }\n",
              "</style>\n",
              "<table border=\"1\" class=\"dataframe\">\n",
              "  <thead>\n",
              "    <tr style=\"text-align: right;\">\n",
              "      <th></th>\n",
              "      <th>기준_년_코드</th>\n",
              "      <th>기준_분기_코드</th>\n",
              "      <th>상권_구분_코드</th>\n",
              "      <th>상권_구분_코드_명</th>\n",
              "      <th>상권_코드</th>\n",
              "      <th>상권_코드_명</th>\n",
              "      <th>서비스_업종_코드</th>\n",
              "      <th>서비스_업종_코드_명</th>\n",
              "      <th>당월_매출_금액</th>\n",
              "      <th>당월_매출_건수</th>\n",
              "      <th>점포수</th>\n",
              "    </tr>\n",
              "  </thead>\n",
              "  <tbody>\n",
              "    <tr>\n",
              "      <th>66509</th>\n",
              "      <td>2020</td>\n",
              "      <td>1</td>\n",
              "      <td>A</td>\n",
              "      <td>골목상권</td>\n",
              "      <td>1000001</td>\n",
              "      <td>계동길</td>\n",
              "      <td>CS100002</td>\n",
              "      <td>중식음식점</td>\n",
              "      <td>25767161</td>\n",
              "      <td>1413</td>\n",
              "      <td>1</td>\n",
              "    </tr>\n",
              "    <tr>\n",
              "      <th>66494</th>\n",
              "      <td>2020</td>\n",
              "      <td>1</td>\n",
              "      <td>A</td>\n",
              "      <td>골목상권</td>\n",
              "      <td>1000001</td>\n",
              "      <td>계동길</td>\n",
              "      <td>CS300017</td>\n",
              "      <td>시계및귀금속</td>\n",
              "      <td>405970117</td>\n",
              "      <td>1072</td>\n",
              "      <td>2</td>\n",
              "    </tr>\n",
              "    <tr>\n",
              "      <th>66508</th>\n",
              "      <td>2020</td>\n",
              "      <td>1</td>\n",
              "      <td>A</td>\n",
              "      <td>골목상권</td>\n",
              "      <td>1000001</td>\n",
              "      <td>계동길</td>\n",
              "      <td>CS100003</td>\n",
              "      <td>일식음식점</td>\n",
              "      <td>55484866</td>\n",
              "      <td>1272</td>\n",
              "      <td>3</td>\n",
              "    </tr>\n",
              "  </tbody>\n",
              "</table>\n",
              "</div>"
            ],
            "text/plain": [
              "       기준_년_코드  기준_분기_코드 상권_구분_코드 상권_구분_코드_명    상권_코드 상권_코드_명 서비스_업종_코드  \\\n",
              "66509     2020         1        A       골목상권  1000001     계동길  CS100002   \n",
              "66494     2020         1        A       골목상권  1000001     계동길  CS300017   \n",
              "66508     2020         1        A       골목상권  1000001     계동길  CS100003   \n",
              "\n",
              "      서비스_업종_코드_명   당월_매출_금액  당월_매출_건수  점포수  \n",
              "66509       중식음식점   25767161      1413    1  \n",
              "66494      시계및귀금속  405970117      1072    2  \n",
              "66508       일식음식점   55484866      1272    3  "
            ]
          },
          "metadata": {
            "tags": []
          },
          "execution_count": 55
        }
      ]
    },
    {
      "cell_type": "markdown",
      "metadata": {
        "id": "UrNOz-cSY1iK"
      },
      "source": [
        "# 상권리스트를 추출"
      ]
    },
    {
      "cell_type": "code",
      "metadata": {
        "id": "HUPMgXGKY1iN",
        "outputId": "ac1626d1-ee9a-457d-d59c-8a81cdc87101"
      },
      "source": [
        "region3_list=seoul2020_1['상권_코드'].unique().tolist()\n",
        "region4_list=seoul2020_2['상권_코드'].unique().tolist()\n",
        "print(len(region3_list),len(region4_list))"
      ],
      "execution_count": null,
      "outputs": [
        {
          "output_type": "stream",
          "text": [
            "1485 1485\n"
          ],
          "name": "stdout"
        }
      ]
    },
    {
      "cell_type": "code",
      "metadata": {
        "id": "z99Hi4WsY1iW",
        "outputId": "a0aa3b72-2dc4-46b6-c237-49b1e152420e"
      },
      "source": [
        "i=0\n",
        "different=0\n",
        "#누락된 상권이 있는지 체크\n",
        "for i in range(0,len(region3_list)):\n",
        "    if region3_list[i]!=region4_list[i]:\n",
        "        different=1\n",
        "\n",
        "print(different)"
      ],
      "execution_count": null,
      "outputs": [
        {
          "output_type": "stream",
          "text": [
            "0\n"
          ],
          "name": "stdout"
        }
      ]
    },
    {
      "cell_type": "markdown",
      "metadata": {
        "id": "f_dtP2lfY1ie"
      },
      "source": [
        "# 2020 1,2분기 상권별로 업종비교"
      ]
    },
    {
      "cell_type": "code",
      "metadata": {
        "id": "9nTuB532Y1if",
        "outputId": "0b8d11cc-5b50-4439-c5c1-f9b76e466fa7"
      },
      "source": [
        "group3 = seoul2020_1[seoul2020_1['상권_코드']==region3_list[70]]\n",
        "group4 = seoul2020_2[seoul2020_2['상권_코드']==region3_list[70]]\n",
        "\n",
        "#print(group1.head(3))\n",
        "\n",
        "group3= group3.sort_values(by=['서비스_업종_코드'])\n",
        "group4= group4.sort_values(by=['서비스_업종_코드'])\n",
        "\n",
        "print(group3['상권_코드_명'].unique())\n",
        "\n",
        "list3=group3['서비스_업종_코드'].unique().tolist()\n",
        "list4=group4['서비스_업종_코드'].unique().tolist()\n",
        "\n",
        "print('1분기',list3,'\\n\\n 2분기',list4)\n",
        "print(len(list3),len(list4)) #2019년과 업종 갯수 다름을 확인"
      ],
      "execution_count": null,
      "outputs": [
        {
          "output_type": "stream",
          "text": [
            "['이태원로54길']\n",
            "1분기 ['CS100001', 'CS100002', 'CS100003', 'CS100004', 'CS100006', 'CS100008', 'CS100009', 'CS100010', 'CS200007', 'CS200028', 'CS200030', 'CS200031', 'CS300001', 'CS300002', 'CS300010', 'CS300011', 'CS300015', 'CS300016', 'CS300020', 'CS300022', 'CS300024', 'CS300028', 'CS300029'] \n",
            "\n",
            " 2분기 ['CS100001', 'CS100002', 'CS100003', 'CS100004', 'CS100006', 'CS100008', 'CS100009', 'CS100010', 'CS200007', 'CS200028', 'CS200030', 'CS200031', 'CS300001', 'CS300002', 'CS300010', 'CS300011', 'CS300015', 'CS300016', 'CS300020', 'CS300022', 'CS300024', 'CS300028', 'CS300029']\n",
            "23 23\n"
          ],
          "name": "stdout"
        }
      ]
    },
    {
      "cell_type": "code",
      "metadata": {
        "id": "QBbsXkq8Y1io"
      },
      "source": [
        "for i in range(0,len(region3_list)):\n",
        "\n",
        "    #하나의 지역을 추출해낸다 (EX) 이태원로54길\n",
        "    group3 = seoul2020_1[seoul2020_1['상권_코드']==region3_list[i]]\n",
        "    group4 = seoul2020_2[seoul2020_2['상권_코드']==region3_list[i]]\n",
        "\n",
        "    # 서비스업종코드 비교를 위해 서비스 업종 코드를 오름차순으로 정렬한다\n",
        "    group3= group3.sort_values(by=['서비스_업종_코드'])\n",
        "    group4= group4.sort_values(by=['서비스_업종_코드'])\n",
        "\n",
        "    \n",
        "    #seoul2020데이터에서 삭제하기 위해 기존 index를 index 칼럼으로 생성한다\n",
        "    group3=group3.reset_index()\n",
        "    group4=group4.reset_index()\n",
        "\n",
        "    j1=0 #group3의 행\n",
        "    j2=0 #group4의 행\n",
        "    \n",
        "    while True:\n",
        "        if group3.iloc[j1,7]== group4.iloc[j2,7]:\n",
        "            j1=j1+1\n",
        "            j2=j2+1\n",
        "        elif group3.iloc[j1,7] > group4.iloc[j2,7]: #1분기에 해당 업종이 존재하지 않을 경우 2분기 데이터에서 해당업종 삭제\n",
        "            seoul2020_2.drop([group4.iloc[j2,0]],axis=0,inplace=True)\n",
        "            j2=j2+1\n",
        "        else:                                       #2분기에 해당 업종이 존재하지 않을 경우 1분기 데이터에서 해당업종 삭제\n",
        "            seoul2020_1.drop([group3.iloc[j1,0]],axis=0,inplace=True)\n",
        "            j1=j1+1\n",
        "    \n",
        "        if j1==len(group3) or j2==len(group4):\n",
        "            break"
      ],
      "execution_count": null,
      "outputs": []
    },
    {
      "cell_type": "code",
      "metadata": {
        "id": "Izk-VZGbY1iz",
        "outputId": "dc5b327a-c0de-44b0-c84d-4a0e95957afe"
      },
      "source": [
        "group3 = seoul2020_1[seoul2020_1['상권_코드']==region3_list[70]]\n",
        "group4 = seoul2020_2[seoul2020_2['상권_코드']==region3_list[70]]\n",
        "\n",
        "group3= group3.sort_values(by=['서비스_업종_코드'])\n",
        "group4= group4.sort_values(by=['서비스_업종_코드'])\n",
        "\n",
        "print(group3['상권_코드_명'].unique())\n",
        "\n",
        "list3=group3['서비스_업종_코드'].unique().tolist()\n",
        "list4=group4['서비스_업종_코드'].unique().tolist()\n",
        "\n",
        "print('1분기',list3,'\\n\\n 2분기',list4)\n",
        "print(len(list3),len(list4))"
      ],
      "execution_count": null,
      "outputs": [
        {
          "output_type": "stream",
          "text": [
            "['이태원로54길']\n",
            "1분기 ['CS100001', 'CS100002', 'CS100003', 'CS100004', 'CS100006', 'CS100008', 'CS100009', 'CS100010', 'CS200007', 'CS200028', 'CS200030', 'CS200031', 'CS300001', 'CS300002', 'CS300010', 'CS300011', 'CS300015', 'CS300016', 'CS300020', 'CS300022', 'CS300024', 'CS300028', 'CS300029'] \n",
            "\n",
            " 2분기 ['CS100001', 'CS100002', 'CS100003', 'CS100004', 'CS100006', 'CS100008', 'CS100009', 'CS100010', 'CS200007', 'CS200028', 'CS200030', 'CS200031', 'CS300001', 'CS300002', 'CS300010', 'CS300011', 'CS300015', 'CS300016', 'CS300020', 'CS300022', 'CS300024', 'CS300028', 'CS300029']\n",
            "23 23\n"
          ],
          "name": "stdout"
        }
      ]
    },
    {
      "cell_type": "markdown",
      "metadata": {
        "id": "3BRU3uoiY1jA"
      },
      "source": [
        "# 2019,2020년도 분기별 데이터 확인"
      ]
    },
    {
      "cell_type": "code",
      "metadata": {
        "id": "sOFgkLdqY1jC",
        "outputId": "51649d9a-993b-4790-8479-89ff375a8725"
      },
      "source": [
        "print(seoul2019_1.info())"
      ],
      "execution_count": null,
      "outputs": [
        {
          "output_type": "stream",
          "text": [
            "<class 'pandas.core.frame.DataFrame'>\n",
            "Int64Index: 48434 entries, 31901 to 24217\n",
            "Data columns (total 11 columns):\n",
            " #   Column       Non-Null Count  Dtype \n",
            "---  ------       --------------  ----- \n",
            " 0   기준_년_코드      48434 non-null  int64 \n",
            " 1   기준_분기_코드     48434 non-null  int64 \n",
            " 2   상권_구분_코드     48434 non-null  object\n",
            " 3   상권_구분_코드_명   48434 non-null  object\n",
            " 4   상권_코드        48434 non-null  int64 \n",
            " 5   상권_코드_명      48434 non-null  object\n",
            " 6   서비스_업종_코드    48434 non-null  object\n",
            " 7   서비스_업종_코드_명  48434 non-null  object\n",
            " 8   당월_매출_금액     48434 non-null  int64 \n",
            " 9   당월_매출_건수     48434 non-null  int64 \n",
            " 10  점포수          48434 non-null  int64 \n",
            "dtypes: int64(6), object(5)\n",
            "memory usage: 5.7+ MB\n",
            "None\n"
          ],
          "name": "stdout"
        }
      ]
    },
    {
      "cell_type": "code",
      "metadata": {
        "id": "9HRy7CJCY1jL",
        "outputId": "4e640add-6225-4812-e7a5-8f173861ee24"
      },
      "source": [
        "print(seoul2019_2.info())"
      ],
      "execution_count": null,
      "outputs": [
        {
          "output_type": "stream",
          "text": [
            "<class 'pandas.core.frame.DataFrame'>\n",
            "Int64Index: 48435 entries, 79376 to 98111\n",
            "Data columns (total 11 columns):\n",
            " #   Column       Non-Null Count  Dtype \n",
            "---  ------       --------------  ----- \n",
            " 0   기준_년_코드      48435 non-null  int64 \n",
            " 1   기준_분기_코드     48435 non-null  int64 \n",
            " 2   상권_구분_코드     48435 non-null  object\n",
            " 3   상권_구분_코드_명   48435 non-null  object\n",
            " 4   상권_코드        48435 non-null  int64 \n",
            " 5   상권_코드_명      48435 non-null  object\n",
            " 6   서비스_업종_코드    48435 non-null  object\n",
            " 7   서비스_업종_코드_명  48435 non-null  object\n",
            " 8   당월_매출_금액     48435 non-null  int64 \n",
            " 9   당월_매출_건수     48435 non-null  int64 \n",
            " 10  점포수          48435 non-null  int64 \n",
            "dtypes: int64(6), object(5)\n",
            "memory usage: 4.4+ MB\n",
            "None\n"
          ],
          "name": "stdout"
        }
      ]
    },
    {
      "cell_type": "code",
      "metadata": {
        "id": "sPJP5YssY1jV",
        "outputId": "b5a6ce8a-75b5-4fa9-ce62-13617ccec422"
      },
      "source": [
        "print(seoul2020_1.info())"
      ],
      "execution_count": null,
      "outputs": [
        {
          "output_type": "stream",
          "text": [
            "<class 'pandas.core.frame.DataFrame'>\n",
            "Int64Index: 32523 entries, 66509 to 33288\n",
            "Data columns (total 11 columns):\n",
            " #   Column       Non-Null Count  Dtype \n",
            "---  ------       --------------  ----- \n",
            " 0   기준_년_코드      32523 non-null  int64 \n",
            " 1   기준_분기_코드     32523 non-null  int64 \n",
            " 2   상권_구분_코드     32523 non-null  object\n",
            " 3   상권_구분_코드_명   32523 non-null  object\n",
            " 4   상권_코드        32523 non-null  int64 \n",
            " 5   상권_코드_명      32523 non-null  object\n",
            " 6   서비스_업종_코드    32523 non-null  object\n",
            " 7   서비스_업종_코드_명  32523 non-null  object\n",
            " 8   당월_매출_금액     32523 non-null  int64 \n",
            " 9   당월_매출_건수     32523 non-null  int64 \n",
            " 10  점포수          32523 non-null  int64 \n",
            "dtypes: int64(6), object(5)\n",
            "memory usage: 3.0+ MB\n",
            "None\n"
          ],
          "name": "stdout"
        }
      ]
    },
    {
      "cell_type": "code",
      "metadata": {
        "id": "2vgrA0_tY1jc",
        "outputId": "d9f56199-65e8-4e42-a95f-f317720b1e82"
      },
      "source": [
        "print(seoul2020_2.info())"
      ],
      "execution_count": null,
      "outputs": [
        {
          "output_type": "stream",
          "text": [
            "<class 'pandas.core.frame.DataFrame'>\n",
            "Int64Index: 32562 entries, 33255 to 0\n",
            "Data columns (total 11 columns):\n",
            " #   Column       Non-Null Count  Dtype \n",
            "---  ------       --------------  ----- \n",
            " 0   기준_년_코드      32562 non-null  int64 \n",
            " 1   기준_분기_코드     32562 non-null  int64 \n",
            " 2   상권_구분_코드     32562 non-null  object\n",
            " 3   상권_구분_코드_명   32562 non-null  object\n",
            " 4   상권_코드        32562 non-null  int64 \n",
            " 5   상권_코드_명      32562 non-null  object\n",
            " 6   서비스_업종_코드    32562 non-null  object\n",
            " 7   서비스_업종_코드_명  32562 non-null  object\n",
            " 8   당월_매출_금액     32562 non-null  int64 \n",
            " 9   당월_매출_건수     32562 non-null  int64 \n",
            " 10  점포수          32562 non-null  int64 \n",
            "dtypes: int64(6), object(5)\n",
            "memory usage: 3.0+ MB\n",
            "None\n"
          ],
          "name": "stdout"
        }
      ]
    },
    {
      "cell_type": "markdown",
      "metadata": {
        "id": "QPOdfaf0Y1jk"
      },
      "source": [
        "# 2019년도 2020년도 동일 상권 리스트 생성"
      ]
    },
    {
      "cell_type": "code",
      "metadata": {
        "id": "g4soPcUVY1jl",
        "outputId": "e8acf4fc-84a9-4af6-f2de-2d1a35977dc1"
      },
      "source": [
        "print(len(region1_list),len(region3_list))\n",
        "#2019년 상권리스트 길이와 2020년 상권리스트 길이가 다름"
      ],
      "execution_count": null,
      "outputs": [
        {
          "output_type": "stream",
          "text": [
            "1010 1485\n"
          ],
          "name": "stdout"
        }
      ]
    },
    {
      "cell_type": "code",
      "metadata": {
        "id": "q07Zc30wY1ju",
        "outputId": "85971b5c-eba1-4e9f-c257-cefad0fd1937"
      },
      "source": [
        "print(region1_list[0])\n",
        "print(region1_list[len(region1_list)-1])\n",
        "\n",
        "#2019년 상권코드는 1000001 ~ 1001010 까지 1010개 모두 포함"
      ],
      "execution_count": null,
      "outputs": [
        {
          "output_type": "stream",
          "text": [
            "1000001\n",
            "1001010\n",
            "1000001\n",
            "1001010\n"
          ],
          "name": "stdout"
        }
      ]
    },
    {
      "cell_type": "code",
      "metadata": {
        "id": "FDaEffXPY1j2",
        "outputId": "a4971968-56ca-45bb-8a22-a2c37eec0ba4"
      },
      "source": [
        "print(region3_list[0])\n",
        "print(region3_list[1009])\n",
        "print(region3_list[len(region3_list)-1])\n",
        "\n",
        "#2020년 상권코드는 1000001 ~ 1001496 까지 1485개만 포함"
      ],
      "execution_count": null,
      "outputs": [
        {
          "output_type": "stream",
          "text": [
            "1000001\n",
            "1001011\n",
            "1001496\n"
          ],
          "name": "stdout"
        }
      ]
    },
    {
      "cell_type": "code",
      "metadata": {
        "id": "inAMQ0F5Y1j9",
        "outputId": "cc4a9562-3aae-4f28-dc91-2f38bf2a0a2a"
      },
      "source": [
        "region_all_list = list(set(region1_list) & set(region3_list)) #교집합 추출\n",
        "\n",
        "print(len(region_all_list))\n",
        "#print(region_all_list) #동일 지역 리스트"
      ],
      "execution_count": null,
      "outputs": [
        {
          "output_type": "stream",
          "text": [
            "1009\n"
          ],
          "name": "stdout"
        }
      ]
    },
    {
      "cell_type": "markdown",
      "metadata": {
        "id": "fp3Re9n5Y1kF"
      },
      "source": [
        "# 2019년도 1분기,2분기/ 2020년도 1분기,2분기 데이터에서 동일 상권,업종 행만 남김"
      ]
    },
    {
      "cell_type": "code",
      "metadata": {
        "id": "6de8zZafY1kG",
        "outputId": "1c15c92a-d287-405f-8fdc-fc9b98f91262"
      },
      "source": [
        "for i in range(0,len(region_all_list)):\n",
        "\n",
        "    #하나의 지역을 추출해낸다 (EX) 이태원로54길\n",
        "    group19_1 = seoul2019_1[seoul2019_1['상권_코드']==region_all_list[i]]\n",
        "    group19_2 = seoul2019_2[seoul2019_2['상권_코드']==region_all_list[i]]\n",
        "    group20_1 = seoul2020_1[seoul2020_1['상권_코드']==region_all_list[i]]\n",
        "    group20_2 = seoul2020_2[seoul2020_2['상권_코드']==region_all_list[i]]\n",
        "\n",
        "    # 서비스업종코드 비교를 위해 서비스 업종 코드를 오름차순으로 정렬한다\n",
        "    group19_1= group19_1.sort_values(by=['서비스_업종_코드'])\n",
        "    group19_2= group19_2.sort_values(by=['서비스_업종_코드'])\n",
        "    group20_1= group20_1.sort_values(by=['서비스_업종_코드'])\n",
        "    group20_2= group20_2.sort_values(by=['서비스_업종_코드'])\n",
        "\n",
        "    \n",
        "    #기존 index를 index 칼럼으로 생성한다\n",
        "    group19_1=group19_1.reset_index()\n",
        "    group19_2=group19_2.reset_index()\n",
        "    group20_1=group20_1.reset_index()\n",
        "    group20_2=group20_2.reset_index()\n",
        "\n",
        "    j1=0 \n",
        "    j2=0 \n",
        "    \n",
        "    #각 년도 1분기 2분기는 같은 지역, 같은업종이므로, 1분기 그룹df만 비교\n",
        "    while True:\n",
        "        if group19_1.iloc[j1,7]== group20_1.iloc[j2,7]:\n",
        "            j1=j1+1\n",
        "            j2=j2+1\n",
        "        elif group19_1.iloc[j1,7] > group20_1.iloc[j2,7]: #2019에 해당 업종이 존재하지 않을 경우 2020데이터에서 해당업종 삭제\n",
        "            seoul2020_1.drop([group20_1.iloc[j2,0]],axis=0,inplace=True)\n",
        "            seoul2020_2.drop([group20_2.iloc[j2,0]],axis=0,inplace=True)\n",
        "            j2=j2+1\n",
        "        else:                                       #2020에 해당 업종이 존재하지 않을 경우 2019데이터에서 해당업종 삭제\n",
        "            seoul2019_1.drop([group19_1.iloc[j1,0]],axis=0,inplace=True)\n",
        "            seoul2019_2.drop([group19_2.iloc[j1,0]],axis=0,inplace=True)\n",
        "            j1=j1+1\n",
        "    \n",
        "        if j1==len(group19_1) or j2==len(group20_1):\n",
        "            break"
      ],
      "execution_count": null,
      "outputs": [
        {
          "output_type": "error",
          "ename": "IndexError",
          "evalue": "single positional indexer is out-of-bounds",
          "traceback": [
            "\u001b[1;31m---------------------------------------------------------------------------\u001b[0m",
            "\u001b[1;31mIndexError\u001b[0m                                Traceback (most recent call last)",
            "\u001b[1;32m<ipython-input-123-a557c2329615>\u001b[0m in \u001b[0;36m<module>\u001b[1;34m\u001b[0m\n\u001b[0;32m     29\u001b[0m         \u001b[1;32melif\u001b[0m \u001b[0mgroup19_1\u001b[0m\u001b[1;33m.\u001b[0m\u001b[0miloc\u001b[0m\u001b[1;33m[\u001b[0m\u001b[0mj1\u001b[0m\u001b[1;33m,\u001b[0m\u001b[1;36m7\u001b[0m\u001b[1;33m]\u001b[0m \u001b[1;33m>\u001b[0m \u001b[0mgroup20_1\u001b[0m\u001b[1;33m.\u001b[0m\u001b[0miloc\u001b[0m\u001b[1;33m[\u001b[0m\u001b[0mj2\u001b[0m\u001b[1;33m,\u001b[0m\u001b[1;36m7\u001b[0m\u001b[1;33m]\u001b[0m\u001b[1;33m:\u001b[0m \u001b[1;31m#1분기에 해당 업종이 존재하지 않을 경우 2분기 데이터에서 해당업종 삭제\u001b[0m\u001b[1;33m\u001b[0m\u001b[1;33m\u001b[0m\u001b[0m\n\u001b[0;32m     30\u001b[0m             \u001b[0mseoul2020_1\u001b[0m\u001b[1;33m.\u001b[0m\u001b[0mdrop\u001b[0m\u001b[1;33m(\u001b[0m\u001b[1;33m[\u001b[0m\u001b[0mgroup20_1\u001b[0m\u001b[1;33m.\u001b[0m\u001b[0miloc\u001b[0m\u001b[1;33m[\u001b[0m\u001b[0mj2\u001b[0m\u001b[1;33m,\u001b[0m\u001b[1;36m0\u001b[0m\u001b[1;33m]\u001b[0m\u001b[1;33m]\u001b[0m\u001b[1;33m,\u001b[0m\u001b[0maxis\u001b[0m\u001b[1;33m=\u001b[0m\u001b[1;36m0\u001b[0m\u001b[1;33m,\u001b[0m\u001b[0minplace\u001b[0m\u001b[1;33m=\u001b[0m\u001b[1;32mTrue\u001b[0m\u001b[1;33m)\u001b[0m\u001b[1;33m\u001b[0m\u001b[1;33m\u001b[0m\u001b[0m\n\u001b[1;32m---> 31\u001b[1;33m             \u001b[0mseoul2020_2\u001b[0m\u001b[1;33m.\u001b[0m\u001b[0mdrop\u001b[0m\u001b[1;33m(\u001b[0m\u001b[1;33m[\u001b[0m\u001b[0mgroup20_2\u001b[0m\u001b[1;33m.\u001b[0m\u001b[0miloc\u001b[0m\u001b[1;33m[\u001b[0m\u001b[0mj2\u001b[0m\u001b[1;33m,\u001b[0m\u001b[1;36m0\u001b[0m\u001b[1;33m]\u001b[0m\u001b[1;33m]\u001b[0m\u001b[1;33m,\u001b[0m\u001b[0maxis\u001b[0m\u001b[1;33m=\u001b[0m\u001b[1;36m0\u001b[0m\u001b[1;33m,\u001b[0m\u001b[0minplace\u001b[0m\u001b[1;33m=\u001b[0m\u001b[1;32mTrue\u001b[0m\u001b[1;33m)\u001b[0m\u001b[1;33m\u001b[0m\u001b[1;33m\u001b[0m\u001b[0m\n\u001b[0m\u001b[0;32m     32\u001b[0m             \u001b[0mj2\u001b[0m\u001b[1;33m=\u001b[0m\u001b[0mj2\u001b[0m\u001b[1;33m+\u001b[0m\u001b[1;36m1\u001b[0m\u001b[1;33m\u001b[0m\u001b[1;33m\u001b[0m\u001b[0m\n\u001b[0;32m     33\u001b[0m         \u001b[1;32melse\u001b[0m\u001b[1;33m:\u001b[0m                                       \u001b[1;31m#2분기에 해당 업종이 존재하지 않을 경우 1분기 데이터에서 해당업종 삭제\u001b[0m\u001b[1;33m\u001b[0m\u001b[1;33m\u001b[0m\u001b[0m\n",
            "\u001b[1;32m~\\anaconda-new\\lib\\site-packages\\pandas\\core\\indexing.py\u001b[0m in \u001b[0;36m__getitem__\u001b[1;34m(self, key)\u001b[0m\n\u001b[0;32m   1760\u001b[0m                 \u001b[1;32mexcept\u001b[0m \u001b[1;33m(\u001b[0m\u001b[0mKeyError\u001b[0m\u001b[1;33m,\u001b[0m \u001b[0mIndexError\u001b[0m\u001b[1;33m,\u001b[0m \u001b[0mAttributeError\u001b[0m\u001b[1;33m)\u001b[0m\u001b[1;33m:\u001b[0m\u001b[1;33m\u001b[0m\u001b[1;33m\u001b[0m\u001b[0m\n\u001b[0;32m   1761\u001b[0m                     \u001b[1;32mpass\u001b[0m\u001b[1;33m\u001b[0m\u001b[1;33m\u001b[0m\u001b[0m\n\u001b[1;32m-> 1762\u001b[1;33m             \u001b[1;32mreturn\u001b[0m \u001b[0mself\u001b[0m\u001b[1;33m.\u001b[0m\u001b[0m_getitem_tuple\u001b[0m\u001b[1;33m(\u001b[0m\u001b[0mkey\u001b[0m\u001b[1;33m)\u001b[0m\u001b[1;33m\u001b[0m\u001b[1;33m\u001b[0m\u001b[0m\n\u001b[0m\u001b[0;32m   1763\u001b[0m         \u001b[1;32melse\u001b[0m\u001b[1;33m:\u001b[0m\u001b[1;33m\u001b[0m\u001b[1;33m\u001b[0m\u001b[0m\n\u001b[0;32m   1764\u001b[0m             \u001b[1;31m# we by definition only have the 0th axis\u001b[0m\u001b[1;33m\u001b[0m\u001b[1;33m\u001b[0m\u001b[1;33m\u001b[0m\u001b[0m\n",
            "\u001b[1;32m~\\anaconda-new\\lib\\site-packages\\pandas\\core\\indexing.py\u001b[0m in \u001b[0;36m_getitem_tuple\u001b[1;34m(self, tup)\u001b[0m\n\u001b[0;32m   2065\u001b[0m     \u001b[1;32mdef\u001b[0m \u001b[0m_getitem_tuple\u001b[0m\u001b[1;33m(\u001b[0m\u001b[0mself\u001b[0m\u001b[1;33m,\u001b[0m \u001b[0mtup\u001b[0m\u001b[1;33m:\u001b[0m \u001b[0mTuple\u001b[0m\u001b[1;33m)\u001b[0m\u001b[1;33m:\u001b[0m\u001b[1;33m\u001b[0m\u001b[1;33m\u001b[0m\u001b[0m\n\u001b[0;32m   2066\u001b[0m \u001b[1;33m\u001b[0m\u001b[0m\n\u001b[1;32m-> 2067\u001b[1;33m         \u001b[0mself\u001b[0m\u001b[1;33m.\u001b[0m\u001b[0m_has_valid_tuple\u001b[0m\u001b[1;33m(\u001b[0m\u001b[0mtup\u001b[0m\u001b[1;33m)\u001b[0m\u001b[1;33m\u001b[0m\u001b[1;33m\u001b[0m\u001b[0m\n\u001b[0m\u001b[0;32m   2068\u001b[0m         \u001b[1;32mtry\u001b[0m\u001b[1;33m:\u001b[0m\u001b[1;33m\u001b[0m\u001b[1;33m\u001b[0m\u001b[0m\n\u001b[0;32m   2069\u001b[0m             \u001b[1;32mreturn\u001b[0m \u001b[0mself\u001b[0m\u001b[1;33m.\u001b[0m\u001b[0m_getitem_lowerdim\u001b[0m\u001b[1;33m(\u001b[0m\u001b[0mtup\u001b[0m\u001b[1;33m)\u001b[0m\u001b[1;33m\u001b[0m\u001b[1;33m\u001b[0m\u001b[0m\n",
            "\u001b[1;32m~\\anaconda-new\\lib\\site-packages\\pandas\\core\\indexing.py\u001b[0m in \u001b[0;36m_has_valid_tuple\u001b[1;34m(self, key)\u001b[0m\n\u001b[0;32m    701\u001b[0m                 \u001b[1;32mraise\u001b[0m \u001b[0mIndexingError\u001b[0m\u001b[1;33m(\u001b[0m\u001b[1;34m\"Too many indexers\"\u001b[0m\u001b[1;33m)\u001b[0m\u001b[1;33m\u001b[0m\u001b[1;33m\u001b[0m\u001b[0m\n\u001b[0;32m    702\u001b[0m             \u001b[1;32mtry\u001b[0m\u001b[1;33m:\u001b[0m\u001b[1;33m\u001b[0m\u001b[1;33m\u001b[0m\u001b[0m\n\u001b[1;32m--> 703\u001b[1;33m                 \u001b[0mself\u001b[0m\u001b[1;33m.\u001b[0m\u001b[0m_validate_key\u001b[0m\u001b[1;33m(\u001b[0m\u001b[0mk\u001b[0m\u001b[1;33m,\u001b[0m \u001b[0mi\u001b[0m\u001b[1;33m)\u001b[0m\u001b[1;33m\u001b[0m\u001b[1;33m\u001b[0m\u001b[0m\n\u001b[0m\u001b[0;32m    704\u001b[0m             \u001b[1;32mexcept\u001b[0m \u001b[0mValueError\u001b[0m\u001b[1;33m:\u001b[0m\u001b[1;33m\u001b[0m\u001b[1;33m\u001b[0m\u001b[0m\n\u001b[0;32m    705\u001b[0m                 raise ValueError(\n",
            "\u001b[1;32m~\\anaconda-new\\lib\\site-packages\\pandas\\core\\indexing.py\u001b[0m in \u001b[0;36m_validate_key\u001b[1;34m(self, key, axis)\u001b[0m\n\u001b[0;32m   1992\u001b[0m             \u001b[1;32mreturn\u001b[0m\u001b[1;33m\u001b[0m\u001b[1;33m\u001b[0m\u001b[0m\n\u001b[0;32m   1993\u001b[0m         \u001b[1;32melif\u001b[0m \u001b[0mis_integer\u001b[0m\u001b[1;33m(\u001b[0m\u001b[0mkey\u001b[0m\u001b[1;33m)\u001b[0m\u001b[1;33m:\u001b[0m\u001b[1;33m\u001b[0m\u001b[1;33m\u001b[0m\u001b[0m\n\u001b[1;32m-> 1994\u001b[1;33m             \u001b[0mself\u001b[0m\u001b[1;33m.\u001b[0m\u001b[0m_validate_integer\u001b[0m\u001b[1;33m(\u001b[0m\u001b[0mkey\u001b[0m\u001b[1;33m,\u001b[0m \u001b[0maxis\u001b[0m\u001b[1;33m)\u001b[0m\u001b[1;33m\u001b[0m\u001b[1;33m\u001b[0m\u001b[0m\n\u001b[0m\u001b[0;32m   1995\u001b[0m         \u001b[1;32melif\u001b[0m \u001b[0misinstance\u001b[0m\u001b[1;33m(\u001b[0m\u001b[0mkey\u001b[0m\u001b[1;33m,\u001b[0m \u001b[0mtuple\u001b[0m\u001b[1;33m)\u001b[0m\u001b[1;33m:\u001b[0m\u001b[1;33m\u001b[0m\u001b[1;33m\u001b[0m\u001b[0m\n\u001b[0;32m   1996\u001b[0m             \u001b[1;31m# a tuple should already have been caught by this point\u001b[0m\u001b[1;33m\u001b[0m\u001b[1;33m\u001b[0m\u001b[1;33m\u001b[0m\u001b[0m\n",
            "\u001b[1;32m~\\anaconda-new\\lib\\site-packages\\pandas\\core\\indexing.py\u001b[0m in \u001b[0;36m_validate_integer\u001b[1;34m(self, key, axis)\u001b[0m\n\u001b[0;32m   2061\u001b[0m         \u001b[0mlen_axis\u001b[0m \u001b[1;33m=\u001b[0m \u001b[0mlen\u001b[0m\u001b[1;33m(\u001b[0m\u001b[0mself\u001b[0m\u001b[1;33m.\u001b[0m\u001b[0mobj\u001b[0m\u001b[1;33m.\u001b[0m\u001b[0m_get_axis\u001b[0m\u001b[1;33m(\u001b[0m\u001b[0maxis\u001b[0m\u001b[1;33m)\u001b[0m\u001b[1;33m)\u001b[0m\u001b[1;33m\u001b[0m\u001b[1;33m\u001b[0m\u001b[0m\n\u001b[0;32m   2062\u001b[0m         \u001b[1;32mif\u001b[0m \u001b[0mkey\u001b[0m \u001b[1;33m>=\u001b[0m \u001b[0mlen_axis\u001b[0m \u001b[1;32mor\u001b[0m \u001b[0mkey\u001b[0m \u001b[1;33m<\u001b[0m \u001b[1;33m-\u001b[0m\u001b[0mlen_axis\u001b[0m\u001b[1;33m:\u001b[0m\u001b[1;33m\u001b[0m\u001b[1;33m\u001b[0m\u001b[0m\n\u001b[1;32m-> 2063\u001b[1;33m             \u001b[1;32mraise\u001b[0m \u001b[0mIndexError\u001b[0m\u001b[1;33m(\u001b[0m\u001b[1;34m\"single positional indexer is out-of-bounds\"\u001b[0m\u001b[1;33m)\u001b[0m\u001b[1;33m\u001b[0m\u001b[1;33m\u001b[0m\u001b[0m\n\u001b[0m\u001b[0;32m   2064\u001b[0m \u001b[1;33m\u001b[0m\u001b[0m\n\u001b[0;32m   2065\u001b[0m     \u001b[1;32mdef\u001b[0m \u001b[0m_getitem_tuple\u001b[0m\u001b[1;33m(\u001b[0m\u001b[0mself\u001b[0m\u001b[1;33m,\u001b[0m \u001b[0mtup\u001b[0m\u001b[1;33m:\u001b[0m \u001b[0mTuple\u001b[0m\u001b[1;33m)\u001b[0m\u001b[1;33m:\u001b[0m\u001b[1;33m\u001b[0m\u001b[1;33m\u001b[0m\u001b[0m\n",
            "\u001b[1;31mIndexError\u001b[0m: single positional indexer is out-of-bounds"
          ]
        }
      ]
    },
    {
      "cell_type": "code",
      "metadata": {
        "id": "2aTUpz4_Y1kN"
      },
      "source": [
        ""
      ],
      "execution_count": null,
      "outputs": []
    },
    {
      "cell_type": "code",
      "metadata": {
        "id": "L0hvy2rfY1kU"
      },
      "source": [
        ""
      ],
      "execution_count": null,
      "outputs": []
    }
  ]
}