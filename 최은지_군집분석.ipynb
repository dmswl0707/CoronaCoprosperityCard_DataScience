{
  "nbformat": 4,
  "nbformat_minor": 0,
  "metadata": {
    "colab": {
      "name": "최은지_군집분석.ipynb",
      "provenance": [],
      "collapsed_sections": [],
      "authorship_tag": "ABX9TyNehqZK5LeRiyeM/q4B6acE",
      "include_colab_link": true
    },
    "kernelspec": {
      "name": "python3",
      "display_name": "Python 3"
    },
    "accelerator": "GPU"
  },
  "cells": [
    {
      "cell_type": "markdown",
      "metadata": {
        "id": "view-in-github",
        "colab_type": "text"
      },
      "source": [
        "<a href=\"https://colab.research.google.com/github/dmswl0707/CoronaCoprosperityCard_DataScience/blob/main/%EC%B5%9C%EC%9D%80%EC%A7%80_%EA%B5%B0%EC%A7%91%EB%B6%84%EC%84%9D.ipynb\" target=\"_parent\"><img src=\"https://colab.research.google.com/assets/colab-badge.svg\" alt=\"Open In Colab\"/></a>"
      ]
    },
    {
      "cell_type": "code",
      "metadata": {
        "id": "CRQtrZXvTtWG"
      },
      "source": [
        "import pandas as pd\n",
        "import matplotlib\n",
        "import matplotlib.pyplot as plt\n",
        "from matplotlib import style\n",
        "import numpy as np\n",
        "import openpyxl\n",
        "from sklearn.datasets import make_blobs\n",
        "import h5py\n",
        "\n",
        "#####데이터 불러오기\n",
        "\n",
        "file_dir1 ='/content/drive/My Drive/Colab Notebooks/data/revised_data/twenty_store.xlsx'\n",
        "from google.colab import drive\n",
        "drive.mount('/content/drive') #구글 드라이브에 접근\n",
        "twenty_store = pd.read_excel(file_dir1, sheet_name = 'Sheet1',\n",
        "                             names = ['순번', '연도','상권','업종', '값'])\n",
        "\n",
        "\n",
        "print(twenty_store)"
      ],
      "execution_count": null,
      "outputs": []
    },
    {
      "cell_type": "code",
      "metadata": {
        "id": "vJRsftngT4g_"
      },
      "source": [
        "!pip install gensim\n",
        "!pip show gensim\n",
        "!pip install --upgrade h5py\n",
        "!pip install numpy==1.13.0"
      ],
      "execution_count": null,
      "outputs": []
    },
    {
      "cell_type": "code",
      "metadata": {
        "id": "TFvOdmAAU_Wa"
      },
      "source": [
        "import os\n",
        "os.environ[\"TF_CPP_MIN_LOG_LEVEL\"]=\"3\""
      ],
      "execution_count": null,
      "outputs": []
    },
    {
      "cell_type": "code",
      "metadata": {
        "id": "_PsYfx7oTw-a"
      },
      "source": [
        "#인덱스 재설정, '업종' 출력\n",
        "\n",
        "\n",
        "twenty_list=twenty_store['업종']\n",
        "A = twenty_list.tolist()\n",
        "print(A)"
      ],
      "execution_count": null,
      "outputs": []
    },
    {
      "cell_type": "code",
      "metadata": {
        "id": "MMyf0KzXTzZZ"
      },
      "source": [
        "unique_set = set(A)\n",
        "unique_list = list(unique_set)\n",
        "print(unique_list)\n",
        "print(len(unique_list))"
      ],
      "execution_count": null,
      "outputs": []
    },
    {
      "cell_type": "code",
      "metadata": {
        "id": "qO9PiNnpT2CQ"
      },
      "source": [
        "from gensim.models import Word2Vec\n",
        "model=Word2Vec([unique_list], window=5, min_count=1, workers=1)\n",
        "model.init_sims(replace=True)\n",
        "\n",
        "\n",
        "model.wv.similarity('커피-음료', '양식음식점')\n",
        "\n",
        "\n",
        "#print(model['반찬가게'])"
      ],
      "execution_count": null,
      "outputs": []
    },
    {
      "cell_type": "code",
      "metadata": {
        "id": "DYNulwbyf0SQ"
      },
      "source": [
        "model.wv.similarity('커피-음료', '시계및귀금속')"
      ],
      "execution_count": null,
      "outputs": []
    },
    {
      "cell_type": "code",
      "metadata": {
        "id": "MvWKvsb7U144"
      },
      "source": [
        "model.wv.similarity('커피-음료', '의료기기')"
      ],
      "execution_count": null,
      "outputs": []
    },
    {
      "cell_type": "code",
      "metadata": {
        "id": "VDGzDWttf7O7"
      },
      "source": [
        "#df=pd.DataFrame(model.wv.most_similar('반찬가게\u001d', topn=10), columns=['단어','유사도'])"
      ],
      "execution_count": null,
      "outputs": []
    },
    {
      "cell_type": "code",
      "metadata": {
        "id": "1C8CARR0gw0I"
      },
      "source": [
        "model.wv.similarity('커피-음료', '한식음식점')\n"
      ],
      "execution_count": null,
      "outputs": []
    }
  ]
}