{
 "cells": [
  {
   "cell_type": "code",
   "execution_count": 1,
   "metadata": {},
   "outputs": [],
   "source": [
    "import pandas as pd\n",
    "import numpy as np"
   ]
  },
  {
   "cell_type": "code",
   "execution_count": 2,
   "metadata": {},
   "outputs": [
    {
     "data": {
      "text/html": [
       "<div>\n",
       "<style scoped>\n",
       "    .dataframe tbody tr th:only-of-type {\n",
       "        vertical-align: middle;\n",
       "    }\n",
       "\n",
       "    .dataframe tbody tr th {\n",
       "        vertical-align: top;\n",
       "    }\n",
       "\n",
       "    .dataframe thead th {\n",
       "        text-align: right;\n",
       "    }\n",
       "</style>\n",
       "<table border=\"1\" class=\"dataframe\">\n",
       "  <thead>\n",
       "    <tr style=\"text-align: right;\">\n",
       "      <th></th>\n",
       "      <th>Unnamed: 0</th>\n",
       "      <th>name</th>\n",
       "      <th>APP</th>\n",
       "      <th>PAYCO</th>\n",
       "      <th>PP</th>\n",
       "      <th>SKT</th>\n",
       "      <th>SSM</th>\n",
       "      <th>간편결제</th>\n",
       "      <th>경기관람</th>\n",
       "      <th>공과금</th>\n",
       "      <th>...</th>\n",
       "      <th>편의점</th>\n",
       "      <th>푸드</th>\n",
       "      <th>프리미엄</th>\n",
       "      <th>프리미엄 서비스</th>\n",
       "      <th>하이브리드</th>\n",
       "      <th>할인</th>\n",
       "      <th>항공권</th>\n",
       "      <th>항공마일리지</th>\n",
       "      <th>해외</th>\n",
       "      <th>해외이용</th>\n",
       "    </tr>\n",
       "  </thead>\n",
       "  <tbody>\n",
       "    <tr>\n",
       "      <th>0</th>\n",
       "      <td>0</td>\n",
       "      <td>LOCA CLASSIC</td>\n",
       "      <td>0</td>\n",
       "      <td>0</td>\n",
       "      <td>0</td>\n",
       "      <td>0</td>\n",
       "      <td>0</td>\n",
       "      <td>0</td>\n",
       "      <td>0</td>\n",
       "      <td>0</td>\n",
       "      <td>...</td>\n",
       "      <td>0</td>\n",
       "      <td>0</td>\n",
       "      <td>0</td>\n",
       "      <td>0</td>\n",
       "      <td>0</td>\n",
       "      <td>0</td>\n",
       "      <td>0</td>\n",
       "      <td>0</td>\n",
       "      <td>0</td>\n",
       "      <td>0</td>\n",
       "    </tr>\n",
       "    <tr>\n",
       "      <th>1</th>\n",
       "      <td>1</td>\n",
       "      <td>신한카드 Mr.Life</td>\n",
       "      <td>0</td>\n",
       "      <td>0</td>\n",
       "      <td>0</td>\n",
       "      <td>0</td>\n",
       "      <td>0</td>\n",
       "      <td>0</td>\n",
       "      <td>0</td>\n",
       "      <td>월납요금(공과금) 10% 할인서비스</td>\n",
       "      <td>...</td>\n",
       "      <td>편의점 10% 할인</td>\n",
       "      <td>식음료 10% 할인</td>\n",
       "      <td>0</td>\n",
       "      <td>0</td>\n",
       "      <td>0</td>\n",
       "      <td>0</td>\n",
       "      <td>0</td>\n",
       "      <td>0</td>\n",
       "      <td>0</td>\n",
       "      <td>0</td>\n",
       "    </tr>\n",
       "    <tr>\n",
       "      <th>2</th>\n",
       "      <td>2</td>\n",
       "      <td>삼성카드 taptap O</td>\n",
       "      <td>0</td>\n",
       "      <td>0</td>\n",
       "      <td>0</td>\n",
       "      <td>0</td>\n",
       "      <td>0</td>\n",
       "      <td>0</td>\n",
       "      <td>0</td>\n",
       "      <td>0</td>\n",
       "      <td>...</td>\n",
       "      <td>0</td>\n",
       "      <td>0</td>\n",
       "      <td>0</td>\n",
       "      <td>0</td>\n",
       "      <td>0</td>\n",
       "      <td>0</td>\n",
       "      <td>0</td>\n",
       "      <td>0</td>\n",
       "      <td>0</td>\n",
       "      <td>0</td>\n",
       "    </tr>\n",
       "    <tr>\n",
       "      <th>3</th>\n",
       "      <td>3</td>\n",
       "      <td>탄탄대로 Miz&amp;Mr 티타늄카드</td>\n",
       "      <td>0</td>\n",
       "      <td>0</td>\n",
       "      <td>0</td>\n",
       "      <td>0</td>\n",
       "      <td>0</td>\n",
       "      <td>0</td>\n",
       "      <td>0</td>\n",
       "      <td>0</td>\n",
       "      <td>...</td>\n",
       "      <td>0</td>\n",
       "      <td>0</td>\n",
       "      <td>Miz&amp;Mr 티타늄 서비스</td>\n",
       "      <td>0</td>\n",
       "      <td>0</td>\n",
       "      <td>Daily 서비스</td>\n",
       "      <td>0</td>\n",
       "      <td>0</td>\n",
       "      <td>0</td>\n",
       "      <td>0</td>\n",
       "    </tr>\n",
       "    <tr>\n",
       "      <th>4</th>\n",
       "      <td>4</td>\n",
       "      <td>신한카드 Deep Dream</td>\n",
       "      <td>0</td>\n",
       "      <td>0</td>\n",
       "      <td>0</td>\n",
       "      <td>0</td>\n",
       "      <td>0</td>\n",
       "      <td>0</td>\n",
       "      <td>0</td>\n",
       "      <td>0</td>\n",
       "      <td>...</td>\n",
       "      <td>0</td>\n",
       "      <td>0</td>\n",
       "      <td>0</td>\n",
       "      <td>0</td>\n",
       "      <td>0</td>\n",
       "      <td>0</td>\n",
       "      <td>0</td>\n",
       "      <td>0</td>\n",
       "      <td>0</td>\n",
       "      <td>0</td>\n",
       "    </tr>\n",
       "    <tr>\n",
       "      <th>5</th>\n",
       "      <td>5</td>\n",
       "      <td>다담카드</td>\n",
       "      <td>0</td>\n",
       "      <td>0</td>\n",
       "      <td>0</td>\n",
       "      <td>0</td>\n",
       "      <td>0</td>\n",
       "      <td>0</td>\n",
       "      <td>0</td>\n",
       "      <td>0</td>\n",
       "      <td>...</td>\n",
       "      <td>0</td>\n",
       "      <td>0</td>\n",
       "      <td>0</td>\n",
       "      <td>0</td>\n",
       "      <td>0</td>\n",
       "      <td>0</td>\n",
       "      <td>0</td>\n",
       "      <td>0</td>\n",
       "      <td>해외가맹점 5% 할인캐시백</td>\n",
       "      <td>0</td>\n",
       "    </tr>\n",
       "    <tr>\n",
       "      <th>6</th>\n",
       "      <td>6</td>\n",
       "      <td>LIKIT FUN+ 카드</td>\n",
       "      <td>0</td>\n",
       "      <td>0</td>\n",
       "      <td>0</td>\n",
       "      <td>0</td>\n",
       "      <td>0</td>\n",
       "      <td>0</td>\n",
       "      <td>0</td>\n",
       "      <td>0</td>\n",
       "      <td>...</td>\n",
       "      <td>0</td>\n",
       "      <td>0</td>\n",
       "      <td>0</td>\n",
       "      <td>0</td>\n",
       "      <td>0</td>\n",
       "      <td>0</td>\n",
       "      <td>0</td>\n",
       "      <td>0</td>\n",
       "      <td>0</td>\n",
       "      <td>0</td>\n",
       "    </tr>\n",
       "    <tr>\n",
       "      <th>7</th>\n",
       "      <td>7</td>\n",
       "      <td>DA@카드의정석</td>\n",
       "      <td>0</td>\n",
       "      <td>0</td>\n",
       "      <td>0</td>\n",
       "      <td>0</td>\n",
       "      <td>0</td>\n",
       "      <td>0</td>\n",
       "      <td>0</td>\n",
       "      <td>0</td>\n",
       "      <td>...</td>\n",
       "      <td>0</td>\n",
       "      <td>0</td>\n",
       "      <td>0</td>\n",
       "      <td>0</td>\n",
       "      <td>0</td>\n",
       "      <td>0</td>\n",
       "      <td>0</td>\n",
       "      <td>0</td>\n",
       "      <td>0</td>\n",
       "      <td>0</td>\n",
       "    </tr>\n",
       "    <tr>\n",
       "      <th>8</th>\n",
       "      <td>8</td>\n",
       "      <td>카드의정석 UNTACT AIR</td>\n",
       "      <td>0</td>\n",
       "      <td>0</td>\n",
       "      <td>0</td>\n",
       "      <td>0</td>\n",
       "      <td>0</td>\n",
       "      <td>0</td>\n",
       "      <td>0</td>\n",
       "      <td>0</td>\n",
       "      <td>...</td>\n",
       "      <td>0</td>\n",
       "      <td>0</td>\n",
       "      <td>0</td>\n",
       "      <td>0</td>\n",
       "      <td>0</td>\n",
       "      <td>0</td>\n",
       "      <td>0</td>\n",
       "      <td>0</td>\n",
       "      <td>해외 가맹점 (온라인/오프라인) 1% 적립</td>\n",
       "      <td>0</td>\n",
       "    </tr>\n",
       "    <tr>\n",
       "      <th>9</th>\n",
       "      <td>9</td>\n",
       "      <td>Lola(롤라) 카드</td>\n",
       "      <td>0</td>\n",
       "      <td>0</td>\n",
       "      <td>0</td>\n",
       "      <td>0</td>\n",
       "      <td>0</td>\n",
       "      <td>0</td>\n",
       "      <td>0</td>\n",
       "      <td>0</td>\n",
       "      <td>...</td>\n",
       "      <td>0</td>\n",
       "      <td>0</td>\n",
       "      <td>0</td>\n",
       "      <td>0</td>\n",
       "      <td>0</td>\n",
       "      <td>0</td>\n",
       "      <td>0</td>\n",
       "      <td>0</td>\n",
       "      <td>0</td>\n",
       "      <td>0</td>\n",
       "    </tr>\n",
       "  </tbody>\n",
       "</table>\n",
       "<p>10 rows × 76 columns</p>\n",
       "</div>"
      ],
      "text/plain": [
       "   Unnamed: 0               name APP PAYCO PP SKT SSM 간편결제 경기관람  \\\n",
       "0           0       LOCA CLASSIC   0     0  0   0   0    0    0   \n",
       "1           1       신한카드 Mr.Life   0     0  0   0   0    0    0   \n",
       "2           2      삼성카드 taptap O   0     0  0   0   0    0    0   \n",
       "3           3  탄탄대로 Miz&Mr 티타늄카드   0     0  0   0   0    0    0   \n",
       "4           4    신한카드 Deep Dream   0     0  0   0   0    0    0   \n",
       "5           5               다담카드   0     0  0   0   0    0    0   \n",
       "6           6      LIKIT FUN+ 카드   0     0  0   0   0    0    0   \n",
       "7           7           DA@카드의정석   0     0  0   0   0    0    0   \n",
       "8           8   카드의정석 UNTACT AIR   0     0  0   0   0    0    0   \n",
       "9           9        Lola(롤라) 카드   0     0  0   0   0    0    0   \n",
       "\n",
       "                   공과금  ...         편의점          푸드            프리미엄 프리미엄 서비스  \\\n",
       "0                    0  ...           0           0               0        0   \n",
       "1  월납요금(공과금) 10% 할인서비스  ...  편의점 10% 할인  식음료 10% 할인               0        0   \n",
       "2                    0  ...           0           0               0        0   \n",
       "3                    0  ...           0           0  Miz&Mr 티타늄 서비스        0   \n",
       "4                    0  ...           0           0               0        0   \n",
       "5                    0  ...           0           0               0        0   \n",
       "6                    0  ...           0           0               0        0   \n",
       "7                    0  ...           0           0               0        0   \n",
       "8                    0  ...           0           0               0        0   \n",
       "9                    0  ...           0           0               0        0   \n",
       "\n",
       "  하이브리드         할인 항공권 항공마일리지                       해외 해외이용  \n",
       "0     0          0   0      0                        0    0  \n",
       "1     0          0   0      0                        0    0  \n",
       "2     0          0   0      0                        0    0  \n",
       "3     0  Daily 서비스   0      0                        0    0  \n",
       "4     0          0   0      0                        0    0  \n",
       "5     0          0   0      0           해외가맹점 5% 할인캐시백    0  \n",
       "6     0          0   0      0                        0    0  \n",
       "7     0          0   0      0                        0    0  \n",
       "8     0          0   0      0  해외 가맹점 (온라인/오프라인) 1% 적립    0  \n",
       "9     0          0   0      0                        0    0  \n",
       "\n",
       "[10 rows x 76 columns]"
      ]
     },
     "execution_count": 2,
     "metadata": {},
     "output_type": "execute_result"
    }
   ],
   "source": [
    "card_benefit = pd.read_csv('Top100_card_key_benefits.csv')\n",
    "card_benefit=card_benefit[card_benefit.columns].fillna(0) #값이 없는 부분을 0으로 채워줌\n",
    "card_benefit.head(10)"
   ]
  },
  {
   "cell_type": "code",
   "execution_count": 3,
   "metadata": {},
   "outputs": [
    {
     "data": {
      "text/plain": [
       "Index(['Unnamed: 0', 'name', 'APP', 'PAYCO', 'PP', 'SKT', 'SSM', '간편결제',\n",
       "       '경기관람', '공과금', '공과금/렌탈', '공항', '공항라운지', '공항라운지/PP', '교육/육아', '교통', '금융',\n",
       "       '기차', '기타', '네이버페이', '대중교통', '대한항공', '대형마트', '도서', '드럭스토어', '라운지키',\n",
       "       '마트/편의점', '멤버십포인트', '모든가맹점', '무이자할부', '바우처', '배달앱', '백화점', '베이커리', '병원',\n",
       "       '병원/약국', '뷰티/피트니스', '생활', '선택형', '소셜커머스', '쇼핑', '수수료우대', '아시아나항공',\n",
       "       '아울렛', '여행/숙박', '영화', '영화/문화', '온라인쇼핑', '은행사', '일반음식점', '자동차',\n",
       "       '자동차/하이패스', '적립', '점심', '정비', '주유', '주유소', '카드사', '카페', '카페/디저트', '캐시백',\n",
       "       '택시', '테마파크', '통신', '패밀리레스토랑', '패스트푸드', '편의점', '푸드', '프리미엄', '프리미엄 서비스',\n",
       "       '하이브리드', '할인', '항공권', '항공마일리지', '해외', '해외이용'],\n",
       "      dtype='object')"
      ]
     },
     "execution_count": 3,
     "metadata": {},
     "output_type": "execute_result"
    }
   ],
   "source": [
    "card_benefit.columns"
   ]
  },
  {
   "cell_type": "markdown",
   "metadata": {},
   "source": [
    "# 지역 가맹점 할인 기준 선정"
   ]
  },
  {
   "cell_type": "code",
   "execution_count": 11,
   "metadata": {
    "scrolled": true
   },
   "outputs": [
    {
     "name": "stdout",
     "output_type": "stream",
     "text": [
      "* 할인 :  9 \n",
      " ['국내외 가맹점 결제일 할인', '모든 가맹점 0.8% 청구할인', '국내외 가맹점 0.5% 할인', '모든 가맹점 1% 결제일 할인', '모든 가맹점 0.8% 청구할인', '모든 국내 가맹점 0.7~1% 청구할인', '국내 가맹점 0.7% 청구할인', '조건 없이 국내외 가맹점 0.5% 할인', '국내 가맹점 0.5% 결제일할인']\n",
      "------------------------------\n",
      " * 적립 :  7 \n",
      " ['모든 가맹점 이용금액 1,000원당 1마일리지 기본적립', '모두드림 - 전월 실적/적립 한도 없이 국내/외 신판(일시불+할부)이용 가맹점 0.7% 포인트 적립', '국내/외 가맹점 0.7~1.1% 포인트 적립', '국내외 온오프라인 가맹점 기본 0.5% 네이버페이 포인트 적립', '모든 가맹점에서 0.5~3% 기본 M포인트 적립\\n월 200만원 이상 이용 시 2배 적립', '전월실적 제한없이, 일반가맹점 0.6% 적립', '국내외 가맹점 이용금액 0.5% SK pay 포인트 적립']\n",
      "------------------------------\n",
      " * 기타 :  0 \n",
      " []\n"
     ]
    }
   ],
   "source": [
    "shape1=[]\n",
    "shape2=[]\n",
    "shape3=[]\n",
    "for i in range(2,len(card_benefit.columns)):\n",
    "    for j in range(0,len(card_benefit)):\n",
    "        ##내용이 있을 때 \n",
    "        if card_benefit.iloc[j,i] !=0:\n",
    "            ## 국내 오프라인 가맹점 기준 \n",
    "            if ('가맹점' in card_benefit.iloc[j,i]) & ('해외' not in card_benefit.iloc[j,i]) &('온라인' not in card_benefit.iloc[j,i]):\n",
    "                ## 혜택 형태 확인\n",
    "                if '할인' in card_benefit.iloc[j,i]:\n",
    "                    shape1.append(card_benefit.iloc[j,i])\n",
    "                elif '적립' in card_benefit.iloc[j,i] or '캐시백' in card_benefit.iloc[j,i]:\n",
    "                    shape2.append(card_benefit.iloc[j,i])\n",
    "                else:\n",
    "                    shape3.append(card_benefit.iloc[j,i])\n",
    "                    \n",
    "print(\"* 할인 : \",len(shape1),\"\\n\",shape1)\n",
    "print(\"------------------------------\\n\",\"* 적립 : \",len(shape2),\"\\n\",shape2)\n",
    "print(\"------------------------------\\n\",\"* 기타 : \",len(shape3),\"\\n\",shape3)"
   ]
  },
  {
   "cell_type": "code",
   "execution_count": 66,
   "metadata": {
    "scrolled": true
   },
   "outputs": [
    {
     "name": "stdout",
     "output_type": "stream",
     "text": [
      "* 혜택수 :  16 \n",
      " ['모든 가맹점 이용금액 1,000원당 1마일리지 기본적립', '국내외 가맹점 결제일 할인', '모두드림 - 전월 실적/적립 한도 없이 국내/외 신판(일시불+할부)이용 가맹점 0.7% 포인트 적립', '모든 가맹점 0.8% 청구할인', '국내외 가맹점 0.5% 할인', '모든 가맹점 1% 결제일 할인', '모든 가맹점 0.8% 청구할인', '모든 국내 가맹점 0.7~1% 청구할인', '국내 가맹점 0.7% 청구할인', '국내/외 가맹점 0.7~1.1% 포인트 적립', '국내외 온오프라인 가맹점 기본 0.5% 네이버페이 포인트 적립', '모든 가맹점에서 0.5~3% 기본 M포인트 적립\\n월 200만원 이상 이용 시 2배 적립', '전월실적 제한없이, 일반가맹점 0.6% 적립', '국내외 가맹점 이용금액 0.5% SK pay 포인트 적립', '조건 없이 국내외 가맹점 0.5% 할인', '국내 가맹점 0.5% 결제일할인']\n",
      "------------------------------\n",
      " [0.7, 0.8, 0.5, 1.0, 0.8, 0.85, 0.7, 0.9, 0.5, 1.75, 0.6, 0.5, 0.5, 0.5]\n"
     ]
    }
   ],
   "source": [
    "text=[]\n",
    "num=[]\n",
    "for i in range(2,len(card_benefit.columns)):\n",
    "    for j in range(0,len(card_benefit)):\n",
    "        if card_benefit.iloc[j,i] !=0:\n",
    "            if ('가맹점' in card_benefit.iloc[j,i]) & ('해외' not in card_benefit.iloc[j,i]) &('온라인' not in card_benefit.iloc[j,i]):\n",
    "                if '%' in card_benefit.iloc[j,i]:\n",
    "                    split=card_benefit.iloc[j,i].split(\"%\")\n",
    "                    split=split[0].split(\" \")[-1]\n",
    "                    if '~' in split:\n",
    "                        split= split.split(\"~\")\n",
    "                        start=float(split[0])\n",
    "                        stop=float(split[1])\n",
    "                        split= (start+stop)/2\n",
    "                    num.append(float(split))\n",
    "                text.append(card_benefit.iloc[j,i])\n",
    "\n",
    "print(\"* 혜택수 : \",len(text),\"\\n\",text)\n",
    "print(\"------------------------------\\n\",num)# day 데이터프레임의 index로 설정합니다."
   ]
  },
  {
   "cell_type": "code",
   "execution_count": 67,
   "metadata": {},
   "outputs": [],
   "source": [
    "count=pd.DataFrame(num,columns=['혜택비율'])"
   ]
  },
  {
   "cell_type": "code",
   "execution_count": 69,
   "metadata": {
    "scrolled": true
   },
   "outputs": [
    {
     "name": "stdout",
     "output_type": "stream",
     "text": [
      "국내가맹점 할인 퍼센트\n"
     ]
    },
    {
     "data": {
      "text/plain": [
       "혜택비율    0.757143\n",
       "dtype: float64"
      ]
     },
     "execution_count": 69,
     "metadata": {},
     "output_type": "execute_result"
    }
   ],
   "source": [
    "print(\"국내가맹점 할인 퍼센트\")\n",
    "count.mean()"
   ]
  },
  {
   "cell_type": "markdown",
   "metadata": {},
   "source": [
    "# 온라인 쇼핑"
   ]
  },
  {
   "cell_type": "code",
   "execution_count": 43,
   "metadata": {},
   "outputs": [
    {
     "name": "stdout",
     "output_type": "stream",
     "text": [
      "* 할인 :  17 \n",
      " ['쿠팡 로켓와우, 간편결제, 게임결제 청구할인', '국내 유명 백화점, 할인점, 온라인 쇼핑몰 최대 5% 할인', '[파이서비스] 온라인쇼핑+선택업종 7~20% 청구할인 ', '쿠팡, 티몬, 위메프, 5% 결제일 할인', '쿠팡, 위메프, 티몬 10% 결제일 할인', '홈쇼핑, 온라인쇼핑몰, 인터넷면세점, 가전제품업종 10% 청구할인 ', '쿠팡, G마켓, 11번가, 티몬, 농협몰 5% 청구할인\\nCU, GS25 5% 청구할인', '백화점, 할인점, 온라인쇼핑 모아포인트 1% 적립', '[쇼핑 영역] 대형마트, 홈쇼핑, 온라인쇼핑몰, 인터넷면세점 10% 할인', '할인점·온라인쇼핑몰·해외 3% 할인', '할인점·온라인쇼핑몰 1.5% 결제일할인', '11번가, 옥션, G마켓 10% 결제일 할인', '온라인쇼핑 할인', '온라인 쇼핑몰 10% 할인', '[공통서비스] 온라인쇼핑 5~22% 청구할인', '신세계몰, 이마트몰, G마켓, 옥션, 인터파크 7% 할인', '[공통서비스] 온라인쇼핑 5~22% 청구할인']\n",
      "------------------------------\n",
      " * 적립 :  8 \n",
      " ['백화점, 마트, 홈쇼핑, 온라인쇼핑, 소셜몰, 패션&뷰티 1~5% 적립', '온라인 쇼핑 10% 적립', '11번가에서 SK pay 결제 시 이용금액 1% 적립', '온라인쇼핑 적립(공통서비스)', '[플러스 적립]\\n온라인쇼핑, 통신/교통/자동이체, 해외영역별 이번달 합산 이용금액 10만원 이상시 5천 하나머니 적립', '[플러스 적립]\\n온라인쇼핑, 통신/교통/자동이체, 해외영역별 이번달 합산 이용금액 10만원 이상시 5천 하나머니 적립', '모든 가맹점에서 0.5~3% 기본 M포인트 적립\\n제휴 온라인쇼핑 시 1~10% 추가 M포인트 적립', '전월 실적, 적립한도 없이 국내외가맹점 사용금액 0.7% 캐시백 적립\\n온라인 쇼핑, 해외, 휴대폰요금 7% 캐시백 및 연간 보너스 캐시백 적립']\n",
      "------------------------------\n",
      " * 기타 :  0 \n",
      " []\n"
     ]
    }
   ],
   "source": [
    "shape1=[]\n",
    "shape2=[]\n",
    "shape3=[]\n",
    "for i in range(2,len(card_benefit.columns)):\n",
    "    for j in range(0,len(card_benefit)):\n",
    "        ##내용이 있을 때 \n",
    "        if card_benefit.iloc[j,i] !=0:\n",
    "            ## 국내 오프라인 가맹점 기준 \n",
    "            if ('온라인 쇼핑' in card_benefit.iloc[j,i])or ('온라인쇼핑' in card_benefit.iloc[j,i]) or ('쿠팡' in card_benefit.iloc[j,i]) or('티몬' in card_benefit.iloc[j,i]) or ('G마켓' in card_benefit.iloc[j,i]) or ('11번가' in card_benefit.iloc[j,i]):\n",
    "                ## 혜택 형태 확인\n",
    "                if '할인' in card_benefit.iloc[j,i]:\n",
    "                    shape1.append(card_benefit.iloc[j,i])\n",
    "                elif '적립' in card_benefit.iloc[j,i] or '캐시백' in card_benefit.iloc[j,i]:\n",
    "                    shape2.append(card_benefit.iloc[j,i])\n",
    "                else:\n",
    "                    shape3.append(card_benefit.iloc[j,i])\n",
    "                    \n",
    "print(\"* 할인 : \",len(shape1),\"\\n\",shape1)\n",
    "print(\"------------------------------\\n\",\"* 적립 : \",len(shape2),\"\\n\",shape2)\n",
    "print(\"------------------------------\\n\",\"* 기타 : \",len(shape3),\"\\n\",shape3)"
   ]
  },
  {
   "cell_type": "code",
   "execution_count": 44,
   "metadata": {},
   "outputs": [
    {
     "name": "stdout",
     "output_type": "stream",
     "text": [
      "* 혜택수 :  25 \n",
      " ['쿠팡 로켓와우, 간편결제, 게임결제 청구할인', '국내 유명 백화점, 할인점, 온라인 쇼핑몰 최대 5% 할인', '[파이서비스] 온라인쇼핑+선택업종 7~20% 청구할인 ', '쿠팡, 티몬, 위메프, 5% 결제일 할인', '쿠팡, 위메프, 티몬 10% 결제일 할인', '홈쇼핑, 온라인쇼핑몰, 인터넷면세점, 가전제품업종 10% 청구할인 ', '쿠팡, G마켓, 11번가, 티몬, 농협몰 5% 청구할인\\nCU, GS25 5% 청구할인', '백화점, 할인점, 온라인쇼핑 모아포인트 1% 적립', '[쇼핑 영역] 대형마트, 홈쇼핑, 온라인쇼핑몰, 인터넷면세점 10% 할인', '할인점·온라인쇼핑몰·해외 3% 할인', '할인점·온라인쇼핑몰 1.5% 결제일할인', '백화점, 마트, 홈쇼핑, 온라인쇼핑, 소셜몰, 패션&뷰티 1~5% 적립', '온라인 쇼핑 10% 적립', '11번가, 옥션, G마켓 10% 결제일 할인', '온라인쇼핑 할인', '온라인 쇼핑몰 10% 할인', '[공통서비스] 온라인쇼핑 5~22% 청구할인', '11번가에서 SK pay 결제 시 이용금액 1% 적립', '온라인쇼핑 적립(공통서비스)', '신세계몰, 이마트몰, G마켓, 옥션, 인터파크 7% 할인', '[공통서비스] 온라인쇼핑 5~22% 청구할인', '[플러스 적립]\\n온라인쇼핑, 통신/교통/자동이체, 해외영역별 이번달 합산 이용금액 10만원 이상시 5천 하나머니 적립', '[플러스 적립]\\n온라인쇼핑, 통신/교통/자동이체, 해외영역별 이번달 합산 이용금액 10만원 이상시 5천 하나머니 적립', '모든 가맹점에서 0.5~3% 기본 M포인트 적립\\n제휴 온라인쇼핑 시 1~10% 추가 M포인트 적립', '전월 실적, 적립한도 없이 국내외가맹점 사용금액 0.7% 캐시백 적립\\n온라인 쇼핑, 해외, 휴대폰요금 7% 캐시백 및 연간 보너스 캐시백 적립']\n",
      "------------------------------\n",
      " [5.0, 13.5, 5.0, 10.0, 10.0, 5.0, 1.0, 10.0, 3.0, 1.5, 3.0, 10.0, 10.0, 10.0, 13.5, 1.0, 7.0, 13.5, 5.5, 7.0]\n"
     ]
    }
   ],
   "source": [
    "text=[]\n",
    "shop=[]\n",
    "for i in range(2,len(card_benefit.columns)):\n",
    "    for j in range(0,len(card_benefit)):\n",
    "        if card_benefit.iloc[j,i] !=0:\n",
    "            if ('온라인 쇼핑' in card_benefit.iloc[j,i]) or('온라인쇼핑' in card_benefit.iloc[j,i])or ('쿠팡' in card_benefit.iloc[j,i]) or('티몬' in card_benefit.iloc[j,i]) or ('G마켓' in card_benefit.iloc[j,i]) or ('11번가' in card_benefit.iloc[j,i]):\n",
    "                if '온라인' in card_benefit.iloc[j,i]:\n",
    "                    if '%' in card_benefit.iloc[j,i]:\n",
    "                        split=card_benefit.iloc[j,i].split(\"온라인\")\n",
    "                        split=split[1].split(\"%\")\n",
    "                        split=split[0].split(\" \")[-1]\n",
    "                        if '~' in split:\n",
    "                            split= split.split(\"~\")\n",
    "                            start=float(split[0])\n",
    "                            stop=float(split[1])\n",
    "                            split= (start+stop)/2\n",
    "                        shop.append(float(split))\n",
    "                elif '%' in card_benefit.iloc[j,i]:\n",
    "                    split=card_benefit.iloc[j,i].split(\"%\")\n",
    "                    split=split[0].split(\" \")[-1]\n",
    "                    if '~' in split:\n",
    "                        split= split.split(\"~\")\n",
    "                        start=float(split[0])\n",
    "                        stop=float(split[1])\n",
    "                        split= (start+stop)/2\n",
    "                    shop.append(float(split))\n",
    "\n",
    "                text.append(card_benefit.iloc[j,i])\n",
    "\n",
    "print(\"* 혜택수 : \",len(text),\"\\n\",text)\n",
    "print(\"------------------------------\\n\",shop)# day 데이터프레임의 index로 설정합니다."
   ]
  },
  {
   "cell_type": "code",
   "execution_count": 46,
   "metadata": {},
   "outputs": [
    {
     "name": "stdout",
     "output_type": "stream",
     "text": [
      "온라인 쇼핑 할인 퍼센트\n"
     ]
    },
    {
     "data": {
      "text/plain": [
       "혜택비율    7.225\n",
       "dtype: float64"
      ]
     },
     "execution_count": 46,
     "metadata": {},
     "output_type": "execute_result"
    }
   ],
   "source": [
    "count=pd.DataFrame(shop,columns=['혜택비율'])\n",
    "print(\"온라인 쇼핑 할인 퍼센트\")\n",
    "count.mean()"
   ]
  },
  {
   "cell_type": "markdown",
   "metadata": {},
   "source": [
    "# 커피관련 혜택 형태"
   ]
  },
  {
   "cell_type": "code",
   "execution_count": 53,
   "metadata": {},
   "outputs": [
    {
     "name": "stdout",
     "output_type": "stream",
     "text": [
      "*  퍼센트 할인 :  30 \n",
      " ['편의점·배달앱·신선식품 배송·커피전문점·제과점 3% 할인\\n', '커피/교통 5% 할인\\n쇼핑/배달앱 3% 할인', '4대 편의점, 생활/잡화, 커피, 월납 20% 할인', '음식점, 커피전문점, 편의점, 약국 업종 10% 추가 청구할인', '[생활영역] 편의점, 커피 5% 할인 / 주유 리터당 80원 할인', '스타벅스 50% 결제일 할인\\n간편결제 시 스타벅스 60% 결제일 할인', '커피 업종 5% 청구할인', '[라이프서비스] 커피전문점 20% 청구할인', '스타벅스(사이렌오더 포함) 50% 청구할인', '스타벅스, 엔제리너스 50% 결제일 할인\\n모든 커피전문점 30% 결제일 할인', '스타벅스, 이디야 5% 결제일 할인', '스타벅스, 엔제리너스, 이디야 모아포인트 3% 적립', '스타벅스 10% 청구할인', '커피 4대 브랜드 통합 (스타벅스, 투썸플레이스, 커피빈, 폴바셋) 55% 청구할인', '커피전문점 10% 할인', '스타벅스, 폴바셋 10% 청구할인', '커피전문점 10% 할인', '스타벅스, 폴바셋 10% 청구할인', '[R2-type 알찬서비스2] 커피 10% 청구할인', '전 세계 스타벅스 50% 할인 (국내/해외 월 2회 제공)', '[R1-type 알찬서비스1] 커피 10% 청구할인', '[Great 서비스] 스타벅스 50% 청구할인', '커피전문점·편의점 5% 할인', '커피 30% 할인', '탐앤탐스, 스타벅스 20% 청구할인', '일상패키지: 10대 커피전문점·제과점 30% 결제일할인', '국내 유명 패밀리레스토랑, 커피 20~30% 할인', '식음료 10% 할인', '커피전문점, 편의점, 베이커리, 배달앱 1~5% 적립', '아웃백, 스타벅스 20% 할인']\n",
      "------------------------------\n",
      " * 현금 할인 or 천원당 적립 :  5 \n",
      " ['국내외(온․오프라인) 가맹점 1,000원당 1마일리지 적립\\n해외, 커피, 택시, 편의점, 대중교통 가맹점 1,000원당 1마일리지 추가 적립', '스타벅스/커피빈 4천원 이상 결제시 4천원 청구할인', '커피 이용금액 1,000원당 2마일리지 특별적립', '스타벅스 사이렌 오더 결제 시 최대 2천원 결제일 할인 ', '스타벅스/커피빈 4천원 이상 결제시 4천원 청구할인']\n",
      "------------------------------\n",
      " *  기타 개수 :  6 \n",
      " ['커피전문점 할인', '스타벅스 별 적립', '스타벅스 할인', '스타벅스 모바일쿠폰 보너스 리워드', '투썸플레이스 및 스타벅스 혜택', '스타벅스 커피 할인 /  이마트 피자 무료 제공 서비스 / 특급호텔 베이커리 특별 할인 서비스']\n"
     ]
    }
   ],
   "source": [
    "shape1=[]\n",
    "shape2=[]\n",
    "shape3=[]\n",
    "for i in range(2,len(card_benefit.columns)):\n",
    "    for j in range(0,len(card_benefit)):\n",
    "        ##내용이 있을 때 \n",
    "        if card_benefit.iloc[j,i] !=0:\n",
    "            ## 국내 오프라인 가맹점 기준 \n",
    "            if ('커피' in card_benefit.iloc[j,i])or ('카페' in card_benefit.iloc[j,i]) or ('스타벅스' in card_benefit.iloc[j,i]) or ('음료' in card_benefit.iloc[j,i]):\n",
    "                ## 혜택 형태 확인\n",
    "                if '%' in card_benefit.iloc[j,i]:\n",
    "                    shape1.append(card_benefit.iloc[j,i])\n",
    "                elif '원' in card_benefit.iloc[j,i] or '캐시백' in card_benefit.iloc[j,i]:\n",
    "                    shape2.append(card_benefit.iloc[j,i])\n",
    "                else:\n",
    "                    shape3.append(card_benefit.iloc[j,i])\n",
    "                    \n",
    "print(\"*  퍼센트 할인 : \",len(shape1),\"\\n\",shape1)\n",
    "print(\"------------------------------\\n\",\"* 현금 할인 or 천원당 적립 : \",len(shape2),\"\\n\",shape2)\n",
    "print(\"------------------------------\\n\",\"*  기타 개수 : \",len(shape3),\"\\n\",shape3)"
   ]
  },
  {
   "cell_type": "code",
   "execution_count": 54,
   "metadata": {},
   "outputs": [
    {
     "name": "stdout",
     "output_type": "stream",
     "text": [
      "혜택 수 :  41 \n",
      " ['국내외(온․오프라인) 가맹점 1,000원당 1마일리지 적립\\n해외, 커피, 택시, 편의점, 대중교통 가맹점 1,000원당 1마일리지 추가 적립', '편의점·배달앱·신선식품 배송·커피전문점·제과점 3% 할인\\n', '커피/교통 5% 할인\\n쇼핑/배달앱 3% 할인', '4대 편의점, 생활/잡화, 커피, 월납 20% 할인', '음식점, 커피전문점, 편의점, 약국 업종 10% 추가 청구할인', '[생활영역] 편의점, 커피 5% 할인 / 주유 리터당 80원 할인', '스타벅스 50% 결제일 할인\\n간편결제 시 스타벅스 60% 결제일 할인', '커피 업종 5% 청구할인', '[라이프서비스] 커피전문점 20% 청구할인', '스타벅스/커피빈 4천원 이상 결제시 4천원 청구할인', '커피 이용금액 1,000원당 2마일리지 특별적립', '스타벅스(사이렌오더 포함) 50% 청구할인', '스타벅스, 엔제리너스 50% 결제일 할인\\n모든 커피전문점 30% 결제일 할인', '스타벅스, 이디야 5% 결제일 할인', '스타벅스, 엔제리너스, 이디야 모아포인트 3% 적립', '스타벅스 사이렌 오더 결제 시 최대 2천원 결제일 할인 ', '스타벅스/커피빈 4천원 이상 결제시 4천원 청구할인', '커피전문점 할인', '스타벅스 10% 청구할인', '커피 4대 브랜드 통합 (스타벅스, 투썸플레이스, 커피빈, 폴바셋) 55% 청구할인', '커피전문점 10% 할인', '스타벅스, 폴바셋 10% 청구할인', '스타벅스 별 적립', '커피전문점 10% 할인', '스타벅스, 폴바셋 10% 청구할인', '[R2-type 알찬서비스2] 커피 10% 청구할인', '스타벅스 할인', '전 세계 스타벅스 50% 할인 (국내/해외 월 2회 제공)', '스타벅스 모바일쿠폰 보너스 리워드', '[R1-type 알찬서비스1] 커피 10% 청구할인', '[Great 서비스] 스타벅스 50% 청구할인', '커피전문점·편의점 5% 할인', '커피 30% 할인', '투썸플레이스 및 스타벅스 혜택', '탐앤탐스, 스타벅스 20% 청구할인', '일상패키지: 10대 커피전문점·제과점 30% 결제일할인', '스타벅스 커피 할인 /  이마트 피자 무료 제공 서비스 / 특급호텔 베이커리 특별 할인 서비스', '국내 유명 패밀리레스토랑, 커피 20~30% 할인', '식음료 10% 할인', '커피전문점, 편의점, 베이커리, 배달앱 1~5% 적립', '아웃백, 스타벅스 20% 할인']\n",
      "------------------------------\n",
      " [3.0, 5.0, 20.0, 10.0, 5.0, 50.0, 5.0, 20.0, 50.0, 50.0, 5.0, 3.0, 10.0, 55.0, 10.0, 10.0, 10.0, 10.0, 10.0, 50.0, 10.0, 50.0, 5.0, 30.0, 20.0, 30.0, 25.0, 10.0, 3.0, 20.0]\n"
     ]
    }
   ],
   "source": [
    "text=[]\n",
    "num=[]\n",
    "for i in range(2,len(card_benefit.columns)):\n",
    "    for j in range(0,len(card_benefit)):\n",
    "        if card_benefit.iloc[j,i] !=0:\n",
    "            if ('커피' in card_benefit.iloc[j,i])or ('카페' in card_benefit.iloc[j,i]) or ('스타벅스' in card_benefit.iloc[j,i]) or ('음료' in card_benefit.iloc[j,i]):\n",
    "                # 퍼센트\n",
    "                if '%' in card_benefit.iloc[j,i]:\n",
    "                    split=card_benefit.iloc[j,i].split(\"%\")\n",
    "                    split=split[0].split(\" \")[-1]\n",
    "                    if '~' in split:\n",
    "                        split= split.split(\"~\")\n",
    "                        start=float(split[0])\n",
    "                        stop=float(split[1])\n",
    "                        split= (start+stop)/2\n",
    "                    num.append(float(split))\n",
    "                text.append(card_benefit.iloc[j,i])\n",
    "\n",
    "print(\"혜택 수 : \",len(text),\"\\n\",text)\n",
    "print(\"------------------------------\\n\",num)# day 데이터프레임의 index로 설정합니다."
   ]
  },
  {
   "cell_type": "code",
   "execution_count": 56,
   "metadata": {},
   "outputs": [
    {
     "name": "stdout",
     "output_type": "stream",
     "text": [
      "커피전문점 할인 퍼센트\n"
     ]
    },
    {
     "data": {
      "text/plain": [
       "혜택비율    19.8\n",
       "dtype: float64"
      ]
     },
     "execution_count": 56,
     "metadata": {},
     "output_type": "execute_result"
    }
   ],
   "source": [
    "count=pd.DataFrame(num,columns=['혜택비율'])\n",
    "print(\"커피전문점 할인 퍼센트\")\n",
    "count.mean()"
   ]
  },
  {
   "cell_type": "markdown",
   "metadata": {},
   "source": [
    "# 편의점"
   ]
  },
  {
   "cell_type": "code",
   "execution_count": 63,
   "metadata": {},
   "outputs": [
    {
     "name": "stdout",
     "output_type": "stream",
     "text": [
      "*  퍼센트 할인 :  19 \n",
      " ['조건 없이 마트/편의점 1% 할인', '편의점·배달앱·신선식품 배송·커피전문점·제과점 3% 할인\\n', '4대 편의점, 생활/잡화, 커피, 월납 20% 할인', '음식점, 커피전문점, 편의점, 약국 업종 10% 추가 청구할인', '[생활영역] 편의점, 커피 5% 할인 / 주유 리터당 80원 할인', '공유자전거 50% 할인\\n배달앱, 편의점 5% 할인', '쿠팡, G마켓, 11번가, 티몬, 농협몰 5% 청구할인\\nCU, GS25 5% 청구할인', '커피전문점·편의점 5% 할인', '편의점 10% 할인', '편의점 5% 청구할인', '[라이프서비스] 편의점 및 잡화 5% 청구할인', 'GS25, CU 5% 결제일 할인', 'GS25 5% 할인', '편의점(GS25, CU) 10% 청구할인', '편의점 11% 청구할인', '편의점 5% 할인', '편의점 5% 할인', '[R1-type 알찬서비스1] 편의점 5% 청구할인', '커피전문점, 편의점, 베이커리, 배달앱 1~5% 적립']\n",
      "------------------------------\n",
      " * 현금 할인 or 천원당 적립 :  4 \n",
      " ['국내외(온․오프라인) 가맹점 1,000원당 1마일리지 적립\\n해외, 커피, 택시, 편의점, 대중교통 가맹점 1,000원당 1마일리지 추가 적립', 'CU 2천원 할인', '편의점 건당 1,000원 결제일 할인', '편의점 이용금액 1,000원당 2마일리지 특별적립']\n",
      "------------------------------\n",
      " *  기타 개수 :  2 \n",
      " ['편의점 할인', 'GS25, 세븐일레븐, CU']\n"
     ]
    }
   ],
   "source": [
    "shape1=[]\n",
    "shape2=[]\n",
    "shape3=[]\n",
    "for i in range(2,len(card_benefit.columns)):\n",
    "    for j in range(0,len(card_benefit)):\n",
    "        ##내용이 있을 때 \n",
    "        if card_benefit.iloc[j,i] !=0:\n",
    "            ## 국내 오프라인 가맹점 기준 \n",
    "            if ('편의점' in card_benefit.iloc[j,i])or ('CU' in card_benefit.iloc[j,i]) or ('GS25' in card_benefit.iloc[j,i]) or ('세븐일레븐' in card_benefit.iloc[j,i]):\n",
    "                ## 혜택 형태 확인\n",
    "                if '%' in card_benefit.iloc[j,i]:\n",
    "                    shape1.append(card_benefit.iloc[j,i])\n",
    "                elif '원' in card_benefit.iloc[j,i] or '캐시백' in card_benefit.iloc[j,i]:\n",
    "                    shape2.append(card_benefit.iloc[j,i])\n",
    "                else:\n",
    "                    shape3.append(card_benefit.iloc[j,i])\n",
    "                    \n",
    "print(\"*  퍼센트 할인 : \",len(shape1),\"\\n\",shape1)\n",
    "print(\"------------------------------\\n\",\"* 현금 할인 or 천원당 적립 : \",len(shape2),\"\\n\",shape2)\n",
    "print(\"------------------------------\\n\",\"*  기타 개수 : \",len(shape3),\"\\n\",shape3)"
   ]
  },
  {
   "cell_type": "code",
   "execution_count": 70,
   "metadata": {},
   "outputs": [
    {
     "name": "stdout",
     "output_type": "stream",
     "text": [
      "혜택수 :  25 \n",
      " ['국내외(온․오프라인) 가맹점 1,000원당 1마일리지 적립\\n해외, 커피, 택시, 편의점, 대중교통 가맹점 1,000원당 1마일리지 추가 적립', '조건 없이 마트/편의점 1% 할인', '편의점·배달앱·신선식품 배송·커피전문점·제과점 3% 할인\\n', 'CU 2천원 할인', '4대 편의점, 생활/잡화, 커피, 월납 20% 할인', '음식점, 커피전문점, 편의점, 약국 업종 10% 추가 청구할인', '[생활영역] 편의점, 커피 5% 할인 / 주유 리터당 80원 할인', '공유자전거 50% 할인\\n배달앱, 편의점 5% 할인', '쿠팡, G마켓, 11번가, 티몬, 농협몰 5% 청구할인\\nCU, GS25 5% 청구할인', '커피전문점·편의점 5% 할인', '편의점 10% 할인', '편의점 5% 청구할인', '[라이프서비스] 편의점 및 잡화 5% 청구할인', '편의점 건당 1,000원 결제일 할인', '편의점 이용금액 1,000원당 2마일리지 특별적립', 'GS25, CU 5% 결제일 할인', '편의점 할인', 'GS25 5% 할인', '편의점(GS25, CU) 10% 청구할인', '편의점 11% 청구할인', '편의점 5% 할인', '편의점 5% 할인', 'GS25, 세븐일레븐, CU', '[R1-type 알찬서비스1] 편의점 5% 청구할인', '커피전문점, 편의점, 베이커리, 배달앱 1~5% 적립']\n",
      "------------------------------\n",
      " 할인 퍼센트\n",
      " [1.0, 3.0, 20.0, 10.0, 5.0, 5.0, 5.0, 5.0, 10.0, 5.0, 5.0, 5.0, 5.0, 10.0, 11.0, 5.0, 5.0, 5.0, 3.0]\n"
     ]
    }
   ],
   "source": [
    "text=[]\n",
    "num=[]\n",
    "for i in range(2,len(card_benefit.columns)):\n",
    "    for j in range(0,len(card_benefit)):\n",
    "        if card_benefit.iloc[j,i] !=0:\n",
    "            if ('편의점' in card_benefit.iloc[j,i])or ('CU' in card_benefit.iloc[j,i]) or ('GS25' in card_benefit.iloc[j,i]) or ('세븐일레븐' in card_benefit.iloc[j,i]):\n",
    "                # 퍼센트\n",
    "                if '편의점' in card_benefit.iloc[j,i]:\n",
    "                    if '%' in card_benefit.iloc[j,i]:\n",
    "                        split=card_benefit.iloc[j,i].split(\"편의점\")\n",
    "                        split=split[1].split(\"%\")\n",
    "                        split=split[0].split(\" \")[-1]\n",
    "                        if '~' in split:\n",
    "                            split= split.split(\"~\")\n",
    "                            start=float(split[0])\n",
    "                            stop=float(split[1])\n",
    "                            split= (start+stop)/2\n",
    "                        num.append(float(split))\n",
    "                elif '%' in card_benefit.iloc[j,i]:\n",
    "                    split=card_benefit.iloc[j,i].split(\"%\")\n",
    "                    split=split[0].split(\" \")[-1]\n",
    "                    if '~' in split:\n",
    "                        split= split.split(\"~\")\n",
    "                        start=float(split[0])\n",
    "                        stop=float(split[1])\n",
    "                        split= (start+stop)/2\n",
    "                    num.append(float(split))\n",
    "                text.append(card_benefit.iloc[j,i])\n",
    "\n",
    "print(\"혜택수 : \",len(text),\"\\n\",text)\n",
    "print(\"------------------------------\\n\",\"할인 퍼센트\\n\",num)# day 데이터프레임의 index로 설정합니다."
   ]
  },
  {
   "cell_type": "code",
   "execution_count": 72,
   "metadata": {},
   "outputs": [
    {
     "name": "stdout",
     "output_type": "stream",
     "text": [
      "편의점 혜택 할인 퍼센트\n"
     ]
    },
    {
     "data": {
      "text/plain": [
       "혜택비율    6.473684\n",
       "dtype: float64"
      ]
     },
     "execution_count": 72,
     "metadata": {},
     "output_type": "execute_result"
    }
   ],
   "source": [
    "count=pd.DataFrame(num,columns=['혜택비율'])\n",
    "print(\"편의점 혜택 할인 퍼센트\")\n",
    "count.mean()"
   ]
  },
  {
   "cell_type": "code",
   "execution_count": null,
   "metadata": {},
   "outputs": [],
   "source": []
  }
 ],
 "metadata": {
  "kernelspec": {
   "display_name": "Python 3",
   "language": "python",
   "name": "python3"
  },
  "language_info": {
   "codemirror_mode": {
    "name": "ipython",
    "version": 3
   },
   "file_extension": ".py",
   "mimetype": "text/x-python",
   "name": "python",
   "nbconvert_exporter": "python",
   "pygments_lexer": "ipython3",
   "version": "3.8.3"
  }
 },
 "nbformat": 4,
 "nbformat_minor": 4
}
