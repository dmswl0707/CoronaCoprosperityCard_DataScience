{
  "nbformat": 4,
  "nbformat_minor": 0,
  "metadata": {
    "colab": {
      "name": "Card Payment Ratio by Age.ipynb",
      "provenance": [],
      "private_outputs": true,
      "authorship_tag": "ABX9TyNlT6jDMRx1r6ZL3cIJzWf2",
      "include_colab_link": true
    },
    "kernelspec": {
      "name": "python3",
      "display_name": "Python 3"
    }
  },
  "cells": [
    {
      "cell_type": "markdown",
      "metadata": {
        "id": "view-in-github",
        "colab_type": "text"
      },
      "source": [
        "<a href=\"https://colab.research.google.com/github/dmswl0707/CoronaCoprosperityCard_DataScience/blob/main/Card_Payment_Ratio_by_Age.ipynb\" target=\"_parent\"><img src=\"https://colab.research.google.com/assets/colab-badge.svg\" alt=\"Open In Colab\"/></a>"
      ]
    },
    {
      "cell_type": "code",
      "metadata": {
        "id": "D13AVw24wJYW"
      },
      "source": [
        "import numpy as np\n",
        "import pandas as pd\n",
        "import json\n",
        "\n",
        "from google.colab import drive\n",
        "drive.mount('/content/drive') #구글 드라이브에 접근\n",
        "\n",
        "filename1='/content/drive/My Drive/Colab Notebooks/data/card_2020.csv' #파일 경로설정\n",
        "data1=pd.read_csv(filename1) #csv 파일 불러오기\n",
        "print(data1.head())\n",
        "print(data1.info()) #파일정보"
      ],
      "execution_count": null,
      "outputs": []
    },
    {
      "cell_type": "code",
      "metadata": {
        "id": "kk_Gtquu59xG"
      },
      "source": [
        "filename2='/content/drive/My Drive/Colab Notebooks/data/index.csv' #파일 경로설정\n",
        "data2=pd.read_csv(filename2) #csv 파일 불러오기\n",
        "print(data2.head())\n",
        "print(data2.info()) #파일정보"
      ],
      "execution_count": null,
      "outputs": []
    },
    {
      "cell_type": "code",
      "metadata": {
        "id": "pfbXaZswHFmN"
      },
      "source": [
        "np.sum(pd.isnull(data1)) #결측치 확인\n",
        "np.sum(pd.isnull(data2))"
      ],
      "execution_count": null,
      "outputs": []
    },
    {
      "cell_type": "code",
      "metadata": {
        "id": "LfoxVcqoLev3"
      },
      "source": [
        "###필요한 index 추출\n",
        " \n",
        "data1_sample=data1[['mrhst_induty_cl_nm','salamt']]\n",
        "print(data1_sample.head(100))\n",
        "\n",
        "data2_sample=data2[['age','catl','catm']]\n",
        "print(data2_sample.head(100))"
      ],
      "execution_count": null,
      "outputs": []
    },
    {
      "cell_type": "code",
      "metadata": {
        "id": "yrHU5NgVNSyF"
      },
      "source": [
        "#1. data1에서 결제건수와 판매업종 추출\n",
        "#2. data2에서 나이와 이용업종 추출 (판매업종=이용업종)\n",
        "#3. 반복된 값 정리 -ing\n",
        "#4. ex) 20 : (업종,1순위,),(업종,2순위),(업종,3순위),(업종,4순위),(업종,5순위) \n",
        "#   ex) 판매액, 판매건수 : (20,1위),(40,2위),(30,3위),(50,4위),(60,5위)\n",
        "#5....소비성향(k-means)\n",
        "\n",
        "\n",
        "#가게분류_list=data1['receipt_dttm']\n",
        "#가게분류_val==가게분류_list.values.tolist()\n",
        "\n",
        "\n",
        "##연령리스트, 각 행 비율\n",
        "age_list=data2['age']\n",
        "age_val=age_list.values.tolist()\n",
        "print(age_val)\n",
        "data2['age'].value_counts(normalize=True)"
      ],
      "execution_count": null,
      "outputs": []
    }
  ]
}