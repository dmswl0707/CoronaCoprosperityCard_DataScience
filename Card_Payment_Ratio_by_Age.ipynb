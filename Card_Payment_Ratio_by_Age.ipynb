{
  "nbformat": 4,
  "nbformat_minor": 0,
  "metadata": {
    "colab": {
      "name": "Card Payment Ratio by Age.ipynb",
      "provenance": [],
      "private_outputs": true,
      "authorship_tag": "ABX9TyP1YxcRJ71oEmRCej2t805Y",
      "include_colab_link": true
    },
    "kernelspec": {
      "name": "python3",
      "display_name": "Python 3"
    }
  },
  "cells": [
    {
      "cell_type": "markdown",
      "metadata": {
        "id": "view-in-github",
        "colab_type": "text"
      },
      "source": [
        "<a href=\"https://colab.research.google.com/github/dmswl0707/CoronaCoprosperityCard_DataScience/blob/main/Card_Payment_Ratio_by_Age.ipynb\" target=\"_parent\"><img src=\"https://colab.research.google.com/assets/colab-badge.svg\" alt=\"Open In Colab\"/></a>"
      ]
    },
    {
      "cell_type": "code",
      "metadata": {
        "id": "D13AVw24wJYW"
      },
      "source": [
        "import numpy as np\n",
        "import pandas as pd\n",
        "import json\n",
        "\n",
        "from google.colab import drive\n",
        "drive.mount('/content/drive') #구글 드라이브에 접근\n",
        "\n",
        "filename1='/content/drive/My Drive/Colab Notebooks/data/card_2020.csv' #파일 경로설정\n",
        "filename2='/content/drive/My Drive/Colab Notebooks/data/index.csv' #파일 경로설정\n",
        "\n",
        "data1=pd.read_csv(filename1) #csv 파일 불러오기\n",
        "data2=pd.read_csv(filename2) #csv 파일 불러오기\n",
        "data1.head()\n",
        "data2.head()\n",
        "\n"
      ],
      "execution_count": null,
      "outputs": []
    },
    {
      "cell_type": "code",
      "metadata": {
        "id": "kk_Gtquu59xG"
      },
      "source": [
        "age = [20,30,40,50,60]\n"
      ],
      "execution_count": null,
      "outputs": []
    }
  ]
}