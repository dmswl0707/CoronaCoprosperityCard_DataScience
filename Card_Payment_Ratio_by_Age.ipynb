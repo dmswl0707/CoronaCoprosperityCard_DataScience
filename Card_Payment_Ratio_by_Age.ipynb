{
  "nbformat": 4,
  "nbformat_minor": 0,
  "metadata": {
    "colab": {
      "name": "Card Payment Ratio by Age.ipynb",
      "provenance": [],
      "collapsed_sections": [],
      "authorship_tag": "ABX9TyPm9nKee8Af7DSg0U8GcIuP",
      "include_colab_link": true
    },
    "kernelspec": {
      "name": "python3",
      "display_name": "Python 3"
    },
    "accelerator": "GPU"
  },
  "cells": [
    {
      "cell_type": "markdown",
      "metadata": {
        "id": "view-in-github",
        "colab_type": "text"
      },
      "source": [
        "<a href=\"https://colab.research.google.com/github/dmswl0707/CoronaCoprosperityCard_DataScience/blob/main/Card_Payment_Ratio_by_Age.ipynb\" target=\"_parent\"><img src=\"https://colab.research.google.com/assets/colab-badge.svg\" alt=\"Open In Colab\"/></a>"
      ]
    },
    {
      "cell_type": "code",
      "metadata": {
        "id": "D13AVw24wJYW"
      },
      "source": [
        "import numpy as np\n",
        "import pandas as pd\n",
        "import json\n",
        "\n",
        "from google.colab import drive\n",
        "drive.mount('/content/drive') #구글 드라이브에 접근\n",
        "\n",
        "filename1='/content/drive/My Drive/Colab Notebooks/data/card_2020.csv' #파일 경로설정\n",
        "data1=pd.read_csv(filename1) #csv 파일 불러오기\n",
        "print(data1.head())\n",
        "print(data1.info()) #파일정보"
      ],
      "execution_count": null,
      "outputs": []
    },
    {
      "cell_type": "code",
      "metadata": {
        "id": "kk_Gtquu59xG"
      },
      "source": [
        "filename2='/content/drive/My Drive/Colab Notebooks/data/index.csv' #파일 경로설정\n",
        "data2=pd.read_csv(filename2) #csv 파일 불러오기\n",
        "print(data2.head())\n",
        "print(data2.info()) #파일정보"
      ],
      "execution_count": null,
      "outputs": []
    },
    {
      "cell_type": "code",
      "metadata": {
        "id": "pfbXaZswHFmN"
      },
      "source": [
        "np.sum(pd.isnull(data1)) #결측치 확인\n",
        "np.sum(pd.isnull(data2))"
      ],
      "execution_count": null,
      "outputs": []
    },
    {
      "cell_type": "code",
      "metadata": {
        "id": "LfoxVcqoLev3"
      },
      "source": [
        "###필요한 index 추출\n",
        " \n",
        "data1_sample=data1[['mrhst_induty_cl_nm','selng_cascnt','salamt']]\n",
        "print(data1_sample.head(100))\n",
        "\n",
        "data2_sample=data2[['age','catl','catm']]\n",
        "print(data2_sample.head(100))\n"
      ],
      "execution_count": null,
      "outputs": []
    },
    {
      "cell_type": "code",
      "metadata": {
        "id": "4R2pAd6clQ0s"
      },
      "source": [
        "data1_sorted_by_index = data1.sort_values(by='selng_cascnt' ,ascending=False)\n",
        "data1_sorted_by_index = data1.sort_values(by='salamt' ,ascending=False)\n",
        "\n",
        "\n",
        "sale_list=data1['selng_cascnt']\n",
        "sale_val=sale_list.values.tolist()\n",
        "\n",
        "\n",
        "class arrange:\n",
        "    def __init__(self, x, y):\n",
        "        self._x=x\n",
        "        self._y=y\n",
        "\n",
        "    def __str__(self):\n",
        "        return 'value Info:{},{}'.format(self._x, self_y)\n",
        "    \n",
        "    def __pp__(self, variation):\n",
        "        if variation[i]<0:\n",
        "            return data1_sorted_by_index.drop()\n",
        "        else :\n",
        "            return data1_sorted_by_index.head()"
      ],
      "execution_count": null,
      "outputs": []
    },
    {
      "cell_type": "code",
      "metadata": {
        "id": "yrHU5NgVNSyF"
      },
      "source": [
        "#1. data1에서 결제건수와 판매업종 추출\n",
        "#2. data2에서 나이와 이용업종 추출 (판매업종=이용업종)\n",
        "#3. 반복된 값 정리 -ing\n",
        "#4. 판매량이 많은 연령 추출 \n",
        "#   ex) 판매액, 판매건수 : (20,1위),(40,2위),(30,3위),(50,4위),(60,5위)\n",
        "#5. 소비성향(k-means)\n",
        "#   ex) 5개 업종 군집으로 구분\n",
        "\n",
        "\n",
        "\n",
        "\n",
        "#판매량 순위 ...판매량이 높은 업종 정렬\n",
        "\n",
        "##연령리스트, 각 행 비율....'해당업종' 이용연령대 추출\n",
        "age_list=data2['age']\n",
        "age_val=age_list.values.tolist()\n",
        "print(age_val)\n",
        "data2['age'].value_counts(normalize=True)\n",
        "\n",
        "#가게분류_list=data1['receipt_dttm']\n",
        "#가게분류_val==가게분류_list.values.tolist()\n",
        "#mrhst_induty_cl_nm 재분류(caltm '업종'카테고리에 맞게)\n",
        "#비율\n",
        "\n",
        "#소비성향...\n",
        "\n"
      ],
      "execution_count": null,
      "outputs": []
    }
  ]
}