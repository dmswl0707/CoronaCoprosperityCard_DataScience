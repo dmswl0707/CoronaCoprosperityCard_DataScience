{
  "nbformat": 4,
  "nbformat_minor": 0,
  "metadata": {
    "colab": {
      "name": "Card Payment Ratio by Age.ipynb",
      "provenance": [],
      "private_outputs": true,
      "authorship_tag": "ABX9TyPsDrsWFny3CiaxrhlhAgjR",
      "include_colab_link": true
    },
    "kernelspec": {
      "name": "python3",
      "display_name": "Python 3"
    }
  },
  "cells": [
    {
      "cell_type": "markdown",
      "metadata": {
        "id": "view-in-github",
        "colab_type": "text"
      },
      "source": [
        "<a href=\"https://colab.research.google.com/github/dmswl0707/CoronaCoprosperityCard_DataScience/blob/main/Card_Payment_Ratio_by_Age.ipynb\" target=\"_parent\"><img src=\"https://colab.research.google.com/assets/colab-badge.svg\" alt=\"Open In Colab\"/></a>"
      ]
    },
    {
      "cell_type": "code",
      "metadata": {
        "id": "D13AVw24wJYW"
      },
      "source": [
        "import numpy as np\n",
        "import pandas as pd\n",
        "import json\n",
        "\n",
        "from google.colab import drive\n",
        "drive.mount('/content/drive') #구글 드라이브에 접근\n",
        "\n",
        "filename1='/content/drive/My Drive/Colab Notebooks/data/card_2020.csv' #파일 경로설정\n",
        "data1=pd.read_csv(filename1) #csv 파일 불러오기\n",
        "data1.head()\n"
      ],
      "execution_count": null,
      "outputs": []
    },
    {
      "cell_type": "code",
      "metadata": {
        "id": "kk_Gtquu59xG"
      },
      "source": [
        "filename2='/content/drive/My Drive/Colab Notebooks/data/index.csv' #파일 경로설정\n",
        "data2=pd.read_csv(filename2) #csv 파일 불러오기\n",
        "data2.head()"
      ],
      "execution_count": null,
      "outputs": []
    },
    {
      "cell_type": "code",
      "metadata": {
        "id": "Y3W9J6b1Guye"
      },
      "source": [
        "###데이터정리\n",
        "\n",
        "print(len(data1['mrhst_induty_cl_nm'].unique())) #260개 점포갯수\n",
        "print(len(data2['catl'].unique())) #4개 업종 ???\n",
        "print(len(data2['catm'].unique())) #소비 품목 ???\n",
        "print(len(data2['age'].unique())) #6개 연령대"
      ],
      "execution_count": null,
      "outputs": []
    },
    {
      "cell_type": "code",
      "metadata": {
        "id": "pfbXaZswHFmN"
      },
      "source": [
        "np.sum(pd.isnull(data1)) #결측치 확인\n",
        "np.sum(pd.isnull(data2))"
      ],
      "execution_count": null,
      "outputs": []
    },
    {
      "cell_type": "code",
      "metadata": {
        "id": "LfoxVcqoLev3"
      },
      "source": [
        "###각 연령대에 해당하는 소비업종 리스트로 추출하기\n",
        "\n",
        "def __init__(self,age_list, store):\n",
        "    self._age_list=age_list\n",
        "    self._store=store\n",
        "\n",
        "def __str__(self):\n",
        "    return 'store by age Info:{},{}'.format(self._age_list, self_store)\n",
        "\n",
        "age_list=[20,30,40,50,60]\n",
        "\n",
        "for i in range(0,5):\n",
        "    print(age_list[i])\n",
        " \n",
        "data1_sample=data1[['mrhst_induty_cl_nm','salamt']]\n",
        "data1_sample.head(100)"
      ],
      "execution_count": null,
      "outputs": []
    },
    {
      "cell_type": "code",
      "metadata": {
        "id": "839TONEFfVlr"
      },
      "source": [
        "data2_sample=data2[['age','catl','catm']]\n",
        "data2_sample.head(100)\n",
        "\n",
        "#1. data1에서 결제건수와 판매업종 추출\n",
        "#2. data2에서 나이와 이용업종 추출 (판매업종=이용업종)\n",
        "#3. 반복된 값 정리\n",
        "#4. ex) 20 : (업종,1순위,),(업종,2순위),(업종,3순위),(업종,4순위),(업종,5순위) \n",
        "#   ex) 판매액, 판매건수 : (20,1위),(40,2위),(30,3위),(50,4위),(60,5위)\n",
        "#5....소비성향(k-means)\n",
        "#"
      ],
      "execution_count": null,
      "outputs": []
    }
  ]
}