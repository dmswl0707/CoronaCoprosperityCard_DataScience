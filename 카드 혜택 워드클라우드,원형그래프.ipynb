{
  "nbformat": 4,
  "nbformat_minor": 0,
  "metadata": {
    "colab": {
      "name": "Cardbenefits_TextMining.ipynb",
      "private_outputs": true,
      "provenance": [],
      "collapsed_sections": [],
      "include_colab_link": true
    },
    "kernelspec": {
      "name": "python3",
      "display_name": "Python 3"
    }
  },
  "cells": [
    {
      "cell_type": "markdown",
      "metadata": {
        "id": "view-in-github",
        "colab_type": "text"
      },
      "source": [
        "<a href=\"https://colab.research.google.com/github/dmswl0707/CoronaCoprosperityCard_DataScience/blob/main/%EC%B9%B4%EB%93%9C%20%ED%98%9C%ED%83%9D%20%EC%9B%8C%EB%93%9C%ED%81%B4%EB%9D%BC%EC%9A%B0%EB%93%9C%2C%EC%9B%90%ED%98%95%EA%B7%B8%EB%9E%98%ED%94%84.ipynb\" target=\"_parent\"><img src=\"https://colab.research.google.com/assets/colab-badge.svg\" alt=\"Open In Colab\"/></a>"
      ]
    },
    {
      "cell_type": "code",
      "metadata": {
        "id": "USvpoJRSxY8W"
      },
      "source": [
        "#드라이브에 접근할 수 있도록 아래 코드 입력\n",
        "from google.colab import drive\n",
        "drive.mount('/content/drive')"
      ],
      "execution_count": null,
      "outputs": []
    },
    {
      "cell_type": "code",
      "metadata": {
        "id": "qjkB_ydjxuBN"
      },
      "source": [
        "#불러올 파일의 경로를 filename 변수에 저장\n",
        "pd = open('/content/drive/My Drive/test/card_benefits_text.txt','r')\n",
        "\n",
        "data = pd.read().splitlines()\n",
        "\n",
        "print(type(data))"
      ],
      "execution_count": null,
      "outputs": []
    },
    {
      "cell_type": "code",
      "metadata": {
        "id": "HMeigf_yyjo7"
      },
      "source": [
        "card_benefits = []\n",
        "\n",
        "for line in data:\n",
        "    card_benefits.append(line)\n",
        "pd.close()\n",
        "\n",
        "print(type(card_benefits))"
      ],
      "execution_count": null,
      "outputs": []
    },
    {
      "cell_type": "code",
      "metadata": {
        "id": "kRvrDRBq2Oyi"
      },
      "source": [
        "!apt-get update\n",
        "\n",
        "!apt-get install g++ openjdk-8-jdk python-dev python3-dev\n",
        "\n",
        "!pip3 install JPype1-py3\n",
        "\n",
        "!pip3 install konlpy\n",
        "\n",
        "!JAVA_HOME=\"/usr/lib/jvm/java-8-openjdk-amd64"
      ],
      "execution_count": null,
      "outputs": []
    },
    {
      "cell_type": "code",
      "metadata": {
        "id": "BK5ljp6S2mxd"
      },
      "source": [
        "from collections import Counter\n",
        "from konlpy.tag import Okt\n",
        "okt = Okt()"
      ],
      "execution_count": null,
      "outputs": []
    },
    {
      "cell_type": "code",
      "metadata": {
        "id": "ejnmRQh93SVo"
      },
      "source": [
        "sentences_tag = []\n",
        "for sentence in card_benefits:\n",
        "    morph = okt.pos(sentence)\n",
        "    sentences_tag.append(morph)\n",
        "    print(morph)\n",
        "    print('-'*30)"
      ],
      "execution_count": null,
      "outputs": []
    },
    {
      "cell_type": "code",
      "metadata": {
        "id": "bUQiqV4P81j1"
      },
      "source": [
        "print(sentences_tag)\n",
        "print(len(sentences_tag))\n",
        "print('\\n'*3)"
      ],
      "execution_count": null,
      "outputs": []
    },
    {
      "cell_type": "code",
      "metadata": {
        "id": "BO4x1d419NX0"
      },
      "source": [
        "#명사,형용사만 찾기\n",
        "noun_adj_list = []\n",
        "for sentence1 in sentences_tag:\n",
        "    for word, tag in sentence1:\n",
        "        if tag in ['Noun','Adjective']:\n",
        "            noun_adj_list.append(word)"
      ],
      "execution_count": null,
      "outputs": []
    },
    {
      "cell_type": "code",
      "metadata": {
        "id": "GjzoBmyH9W6B"
      },
      "source": [
        "# 선별된 품사별 빈도수 계산 & 상위 빈도 60위 까지 출력\n",
        "counts = Counter(noun_adj_list)\n",
        "print(counts.most_common(60))"
      ],
      "execution_count": null,
      "outputs": []
    },
    {
      "cell_type": "code",
      "metadata": {
        "id": "in8H9y7RnHQG"
      },
      "source": [
        "print(type(counts.most_common(60)))"
      ],
      "execution_count": null,
      "outputs": []
    },
    {
      "cell_type": "code",
      "metadata": {
        "id": "0vNQ5SlnnKxo"
      },
      "source": [
        "print(type(counts))"
      ],
      "execution_count": null,
      "outputs": []
    },
    {
      "cell_type": "code",
      "metadata": {
        "id": "cSCwqcgC9ui3"
      },
      "source": [
        "#디스플레이 설정\n",
        "from wordcloud import WordCloud \n",
        "\n",
        "import matplotlib.pyplot as plt\n",
        "\n",
        "import nltk\n",
        "from nltk.corpus import stopwords\n",
        "%matplotlib inline\n",
        "\n",
        "import matplotlib\n",
        "from IPython.display import set_matplotlib_formats\n",
        "matplotlib.rc('font',family = 'Malgun Gothic')\n",
        "\n",
        "set_matplotlib_formats('retina')\n",
        "\n",
        "matplotlib.rc('axes',unicode_minus = False)"
      ],
      "execution_count": null,
      "outputs": []
    },
    {
      "cell_type": "code",
      "metadata": {
        "id": "w-U6A1kH-CM9"
      },
      "source": [
        "#의미없는 단어 삭제\n",
        "words = dict(counts.most_common(60))\n",
        "del words['시']\n",
        "del words['및']\n",
        "del words['점']\n",
        "del words['일']\n",
        "del words['기본']\n",
        "del words['이상']\n",
        "del words['사용']"
      ],
      "execution_count": null,
      "outputs": []
    },
    {
      "cell_type": "code",
      "metadata": {
        "id": "-BvTZLXjAtSo"
      },
      "source": [
        "wordcloud = WordCloud(font_path = '/content/drive/My Drive/test/a시네마B.ttf', background_color='white',colormap = \"Accent_r\",width=1500, height=1000).generate_from_frequencies(words)\n",
        "\n",
        "plt.imshow(wordcloud)\n",
        "plt.axis('off')\n",
        "plt.show()"
      ],
      "execution_count": null,
      "outputs": []
    },
    {
      "cell_type": "code",
      "metadata": {
        "id": "GToCuw3F-2fB"
      },
      "source": [
        "import pandas as pd\n",
        "from google.colab import files\n",
        "\n",
        "print(type(words))\n",
        "\n",
        "wordsdf = pd.DataFrame(list(words.items()),columns=['단어','빈도수'])"
      ],
      "execution_count": null,
      "outputs": []
    },
    {
      "cell_type": "code",
      "metadata": {
        "id": "RqmMVqUO2NDG"
      },
      "source": [
        "# 그래프를 노트북 안에 그리기 위해 설정\n",
        "%matplotlib inline\n",
        "\n",
        "# 필요한 패키지와 라이브러리를 가져옴\n",
        "import matplotlib as mpl\n",
        "import matplotlib.pyplot as plt\n",
        "import matplotlib.font_manager as fm\n",
        "\n",
        "# 그래프에서 마이너스 폰트 깨지는 문제에 대한 대처\n",
        "mpl.rcParams['axes.unicode_minus'] = False"
      ],
      "execution_count": null,
      "outputs": []
    },
    {
      "cell_type": "code",
      "metadata": {
        "id": "MiTiDVA6r-MH"
      },
      "source": [
        "plt.bar(words.keys(), words.values())\n",
        "\n",
        "plt.rcParams[\"figure.figsize\"] = (14,4)\n",
        "plt.rcParams['lines.linewidth'] = 2\n",
        "plt.rcParams['lines.color'] = 'r'\n",
        "plt.rcParams['axes.grid'] = True \n",
        "\n",
        "plt.show()"
      ],
      "execution_count": null,
      "outputs": []
    },
    {
      "cell_type": "code",
      "metadata": {
        "id": "3xIsirT4rtKo"
      },
      "source": [
        "wordsdf.to_csv('benefits_textmining.csv') \n",
        "files.download('benefits_textmining.csv')"
      ],
      "execution_count": null,
      "outputs": []
    }
  ]
}