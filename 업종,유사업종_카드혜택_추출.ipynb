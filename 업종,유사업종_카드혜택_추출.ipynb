{
  "nbformat": 4,
  "nbformat_minor": 0,
  "metadata": {
    "colab": {
      "name": "업종,유사업종 카드혜택 추출.ipynb",
      "private_outputs": true,
      "provenance": [],
      "collapsed_sections": [],
      "authorship_tag": "ABX9TyMK+IfyTLnzgSf//fz5rLui",
      "include_colab_link": true
    },
    "kernelspec": {
      "name": "python3",
      "display_name": "Python 3"
    }
  },
  "cells": [
    {
      "cell_type": "markdown",
      "metadata": {
        "id": "view-in-github",
        "colab_type": "text"
      },
      "source": [
        "<a href=\"https://colab.research.google.com/github/dmswl0707/CoronaCoprosperityCard_DataScience/blob/main/%EC%97%85%EC%A2%85%2C%EC%9C%A0%EC%82%AC%EC%97%85%EC%A2%85_%EC%B9%B4%EB%93%9C%ED%98%9C%ED%83%9D_%EC%B6%94%EC%B6%9C.ipynb\" target=\"_parent\"><img src=\"https://colab.research.google.com/assets/colab-badge.svg\" alt=\"Open In Colab\"/></a>"
      ]
    },
    {
      "cell_type": "code",
      "metadata": {
        "id": "wO-Cdqu73A3w"
      },
      "source": [
        "#드라이브에 접근할 수 있도록 아래 코드 입력\n",
        "from google.colab import drive\n",
        "drive.mount('/content/drive')"
      ],
      "execution_count": null,
      "outputs": []
    },
    {
      "cell_type": "code",
      "metadata": {
        "id": "5C5nHF2_5Qvp"
      },
      "source": [
        "#불러올 파일의 경로를 filename 변수에 저장\n",
        "pd = open('/content/drive/My Drive/test/card_benefits_text.txt','r')\n",
        "\n",
        "data = pd.read().splitlines()\n",
        "\n",
        "print(type(data))"
      ],
      "execution_count": null,
      "outputs": []
    },
    {
      "cell_type": "code",
      "metadata": {
        "id": "yko_ZezV5UMy"
      },
      "source": [
        "card_benefits = []\n",
        "\n",
        "for line in data:\n",
        "    card_benefits.append(line)\n",
        "pd.close()\n",
        "\n",
        "print(card_benefits)"
      ],
      "execution_count": null,
      "outputs": []
    },
    {
      "cell_type": "code",
      "metadata": {
        "id": "rjDlR1CuIn0t"
      },
      "source": [
        "!apt-get update\n",
        "\n",
        "!apt-get install g++ openjdk-8-jdk python-dev python3-dev\n",
        "\n",
        "!pip3 install JPype1-py3\n",
        "\n",
        "!pip3 install konlpy\n",
        "\n",
        "!JAVA_HOME=\"/usr/lib/jvm/java-8-openjdk-amd64"
      ],
      "execution_count": null,
      "outputs": []
    },
    {
      "cell_type": "code",
      "metadata": {
        "id": "82quW7qvIp8k"
      },
      "source": [
        "#형태소 분석기\n",
        "from collections import Counter\n",
        "from konlpy.tag import Okt\n",
        "\n",
        "okt = Okt()"
      ],
      "execution_count": null,
      "outputs": []
    },
    {
      "cell_type": "code",
      "metadata": {
        "id": "X0pscDBkXMDR"
      },
      "source": [
        "def count():\n",
        "  sentences_tag = []\n",
        "  for sentence in total:\n",
        "    morph = okt.pos(sentence)\n",
        "    sentences_tag.append(morph)\n",
        "\n",
        "  #명사,형용사만 찾기\n",
        "  noun_adj_list = []\n",
        "  for sentence1 in sentences_tag:\n",
        "    for word, tag in sentence1:\n",
        "        if tag in ['Noun','Adjective']:\n",
        "            noun_adj_list.append(word)\n",
        "  \n",
        "  # 선별된 품사별 빈도수 계산 & 상위 빈도 20위 까지 출력\n",
        "  counts = Counter(noun_adj_list)\n",
        "  top20 = counts.most_common(20)\n",
        "  print(top20)\n",
        "\n",
        "  topdict = {}\n",
        "  for line in top20:\n",
        "    topdict[line[0]] = line[1]"
      ],
      "execution_count": null,
      "outputs": []
    },
    {
      "cell_type": "code",
      "metadata": {
        "id": "CdQlIB9751yd"
      },
      "source": [
        "# 한식,분식 검색\n",
        "s11 = [s for s in card_benefits if \"한식\" in s]\n",
        "print(s11)\n",
        "s12 = [s for s in card_benefits if \"분식\" in s]\n",
        "print(s12)\n",
        "# 음식,외식 추가 검색\n",
        "s13 = [s for s in card_benefits if \"음식\" in s]\n",
        "print(s13)\n",
        "s14 = [s for s in card_benefits if \"외식\" in s]\n",
        "print(s14)\n",
        "\n",
        "# 통합\n",
        "print('###########################통합########################')\n",
        "total = s11+s12+s13+s14\n",
        "total = set(total)\n",
        "print(total)\n",
        "\n",
        "# 명사 형용사 추출\n",
        "print('##########################명사,형용사 추출#########################')\n",
        "count()"
      ],
      "execution_count": null,
      "outputs": []
    },
    {
      "cell_type": "code",
      "metadata": {
        "id": "AWxtchVR6CWf"
      },
      "source": [
        "# 화장품,의류 검색\n",
        "s21 = [s for s in card_benefits if \"화장품\" in s]\n",
        "print(s21)\n",
        "s22 = [s for s in card_benefits if \"의류\" in s]\n",
        "print(s22)\n",
        "\n",
        "# 쇼핑 추가 검색\n",
        "s23 = [s for s in card_benefits if \"쇼핑\" in s]\n",
        "print(s23)\n",
        "\n",
        "# 통합\n",
        "print('###########################통합########################')\n",
        "total = s21+s22+s23\n",
        "total = set(total)\n",
        "print(total)\n",
        "\n",
        "# 명사 형용사 추합\n",
        "print('##########################명사,형용사 추출#########################')\n",
        "count()"
      ],
      "execution_count": null,
      "outputs": []
    },
    {
      "cell_type": "code",
      "metadata": {
        "id": "e0IC16KiGhEv"
      },
      "source": [
        "total = []\n",
        "# 의료기기,의약품 검색\n",
        "s31 = [s for s in card_benefits if \"의료기기\" in s]\n",
        "print(s31)\n",
        "s32 = [s for s in card_benefits if \"의약품\" in s]\n",
        "print(s32)\n",
        "\n",
        "# 유사단어 약국 검색\n",
        "s33 = [s for s in card_benefits if \"약국\" in s]\n",
        "print(s33)\n",
        "s34 = [s for s in card_benefits if \"헬스\" in s]\n",
        "print(s34)\n",
        "\n",
        "# 통합\n",
        "print('###########################통합########################')\n",
        "total = s31+s32+s33+s34\n",
        "total = set(total)\n",
        "print(total)\n",
        "\n",
        "# 명사 형용사 추합\n",
        "print('##########################명사,형용사 추출#########################')\n",
        "count()"
      ],
      "execution_count": null,
      "outputs": []
    },
    {
      "cell_type": "code",
      "metadata": {
        "id": "Z6qXeDYFGmWl"
      },
      "source": [
        "# PC방,전자상거래업 검색\n",
        "s41 = [s for s in card_benefits if \"PC방\" in s]\n",
        "print(s41)\n",
        "s42 = [s for s in card_benefits if \"전자상거래업\" in s]\n",
        "print(s42)\n",
        "\n",
        "# 유사단어 노래방 검색\n",
        "s43 = [s for s in card_benefits if \"노래방\" in s]\n",
        "print(s43)\n",
        "\n",
        "# 통합\n",
        "print('###########################통합########################')\n",
        "total = s41+s42+s43\n",
        "total = set(total)\n",
        "print(total)\n",
        "\n",
        "# 명사 형용사 추합\n",
        "print('##########################명사,형용사 추출#########################')\n",
        "count()"
      ],
      "execution_count": null,
      "outputs": []
    },
    {
      "cell_type": "code",
      "metadata": {
        "id": "0L0WFFsYGxOj"
      },
      "source": [
        "# 편의점,슈퍼마켓 검색\n",
        "s51 = [s for s in card_benefits if \"편의점\" in s]\n",
        "print(s51)\n",
        "s52 = [s for s in card_benefits if \"슈퍼마켓\" in s]\n",
        "print(s52)\n",
        "\n",
        "# 유사단어 마트 검색\n",
        "s53 = [s for s in card_benefits if \"마트\" in s]\n",
        "print(s53)\n",
        "\n",
        "# 통합\n",
        "print('###########################통합########################')\n",
        "total = s51+s52+s53\n",
        "total = set(total)\n",
        "print(total)\n",
        "\n",
        "# 명사 형용사 추합\n",
        "print('##########################명사,형용사 추출#########################')\n",
        "count()"
      ],
      "execution_count": null,
      "outputs": []
    },
    {
      "cell_type": "code",
      "metadata": {
        "id": "Z--b3vQVHTlb"
      },
      "source": [
        "# 컴퓨터및주변장치판매,전자상거래업 검색\n",
        "s61 = [s for s in card_benefits if \"컴퓨터\" in s]\n",
        "print(s61)\n",
        "s62 = [s for s in card_benefits if \"전자상거래업\" in s]\n",
        "print(s62)\n",
        "\n",
        "# 유사단어 전자기기 검색\n",
        "s63 = [s for s in card_benefits if \"전자기기\" in s]\n",
        "print(s63)\n",
        "\n",
        "# 통합\n",
        "print('###########################통합########################')\n",
        "total = s61+s62+s63\n",
        "total = set(total)\n",
        "print(total)\n",
        "\n",
        "# 명사 형용사 추합\n",
        "print('##########################명사,형용사 추출#########################')\n",
        "count()"
      ],
      "execution_count": null,
      "outputs": []
    },
    {
      "cell_type": "code",
      "metadata": {
        "id": "PL5XV4dRIq1g"
      },
      "source": [
        "# def count(i):\n",
        "#   globals()['sentences_tag[]'.format(i)] = []\n",
        "#   for sentence in globals()['total[]'.format(i)]:\n",
        "#     morph = okt.pos(sentence)\n",
        "#     globals()['sentences_tag[]'.format(i)].append(morph)\n",
        "\n",
        "#     #명사,형용사만 찾기\n",
        "#     globals()['noun_adj_list[]'.format(i)] = []\n",
        "#     for sentence1 in globals()['sentences_tag[]'.format(i)]:\n",
        "#         for word, tag in sentence1:\n",
        "#             if tag in ['Noun','Adjective']:\n",
        "#                 globals()['noun_adj_list[]'.format(i)].append(word)\n",
        "\n",
        "#     # 선별된 품사별 빈도수 계산 & 상위 빈도 60위 까지 출력\n",
        "#     globals()['counts[]'.format(i)] = Counter(globals()['noun_adj_list[]'.format(i)])\n",
        "#     print(globals()['counts[]'.format(i)].most_common(60))"
      ],
      "execution_count": null,
      "outputs": []
    }
  ]
}