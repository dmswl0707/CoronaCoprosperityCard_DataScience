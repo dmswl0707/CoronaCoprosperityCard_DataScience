{
 "cells": [
  {
   "cell_type": "code",
   "execution_count": 1,
   "metadata": {
    "id": "ST3UVLe4OH0W"
   },
   "outputs": [],
   "source": [
    "import pandas as pd\n",
    "import numpy as np\n",
    "import os"
   ]
  },
  {
   "cell_type": "code",
   "execution_count": 2,
   "metadata": {
    "id": "DIyTCD2tOH0d"
   },
   "outputs": [],
   "source": [
    "s20= pd.read_csv('seoul2020.csv',encoding='euc-kr') #euc-kr\n",
    "s19= pd.read_csv('seoul2019.csv',encoding='euc-kr')"
   ]
  },
  {
   "cell_type": "code",
   "execution_count": 3,
   "metadata": {
    "id": "5AvuyjBiOH0k",
    "outputId": "e56c49de-55dc-4366-8096-2664e37e3ffa"
   },
   "outputs": [
    {
     "data": {
      "text/html": [
       "<div>\n",
       "<style scoped>\n",
       "    .dataframe tbody tr th:only-of-type {\n",
       "        vertical-align: middle;\n",
       "    }\n",
       "\n",
       "    .dataframe tbody tr th {\n",
       "        vertical-align: top;\n",
       "    }\n",
       "\n",
       "    .dataframe thead th {\n",
       "        text-align: right;\n",
       "    }\n",
       "</style>\n",
       "<table border=\"1\" class=\"dataframe\">\n",
       "  <thead>\n",
       "    <tr style=\"text-align: right;\">\n",
       "      <th></th>\n",
       "      <th>기준_년_코드</th>\n",
       "      <th>기준_분기_코드</th>\n",
       "      <th>상권_구분_코드</th>\n",
       "      <th>상권_구분_코드_명</th>\n",
       "      <th>상권_코드</th>\n",
       "      <th>상권_코드_명</th>\n",
       "      <th>서비스_업종_코드</th>\n",
       "      <th>서비스_업종_코드_명</th>\n",
       "      <th>당월_매출_금액</th>\n",
       "      <th>당월_매출_건수</th>\n",
       "      <th>...</th>\n",
       "      <th>시간대_건수~24_매출_건수</th>\n",
       "      <th>남성_매출_건수</th>\n",
       "      <th>여성_매출_건수</th>\n",
       "      <th>연령대_10_매출_건수</th>\n",
       "      <th>연령대_20_매출_건수</th>\n",
       "      <th>연령대_30_매출_건수</th>\n",
       "      <th>연령대_40_매출_건수</th>\n",
       "      <th>연령대_50_매출_건수</th>\n",
       "      <th>연령대_60_이상_매출_건수</th>\n",
       "      <th>점포수</th>\n",
       "    </tr>\n",
       "  </thead>\n",
       "  <tbody>\n",
       "    <tr>\n",
       "      <th>0</th>\n",
       "      <td>2019</td>\n",
       "      <td>1</td>\n",
       "      <td>A</td>\n",
       "      <td>골목상권</td>\n",
       "      <td>1000365</td>\n",
       "      <td>도봉로169나길</td>\n",
       "      <td>CS100002</td>\n",
       "      <td>중식음식점</td>\n",
       "      <td>25690326</td>\n",
       "      <td>1441</td>\n",
       "      <td>...</td>\n",
       "      <td>0</td>\n",
       "      <td>912</td>\n",
       "      <td>379</td>\n",
       "      <td>6</td>\n",
       "      <td>58</td>\n",
       "      <td>337</td>\n",
       "      <td>420</td>\n",
       "      <td>336</td>\n",
       "      <td>134</td>\n",
       "      <td>3</td>\n",
       "    </tr>\n",
       "    <tr>\n",
       "      <th>1</th>\n",
       "      <td>2019</td>\n",
       "      <td>1</td>\n",
       "      <td>A</td>\n",
       "      <td>골목상권</td>\n",
       "      <td>1000067</td>\n",
       "      <td>원효로53길</td>\n",
       "      <td>CS100006</td>\n",
       "      <td>패스트푸드점</td>\n",
       "      <td>580603245</td>\n",
       "      <td>31183</td>\n",
       "      <td>...</td>\n",
       "      <td>1691</td>\n",
       "      <td>14973</td>\n",
       "      <td>13349</td>\n",
       "      <td>457</td>\n",
       "      <td>6954</td>\n",
       "      <td>7736</td>\n",
       "      <td>6489</td>\n",
       "      <td>5041</td>\n",
       "      <td>1649</td>\n",
       "      <td>10</td>\n",
       "    </tr>\n",
       "    <tr>\n",
       "      <th>2</th>\n",
       "      <td>2019</td>\n",
       "      <td>1</td>\n",
       "      <td>A</td>\n",
       "      <td>골목상권</td>\n",
       "      <td>1000206</td>\n",
       "      <td>제기로21길</td>\n",
       "      <td>CS300018</td>\n",
       "      <td>의약품</td>\n",
       "      <td>570668039</td>\n",
       "      <td>36759</td>\n",
       "      <td>...</td>\n",
       "      <td>0</td>\n",
       "      <td>19488</td>\n",
       "      <td>17138</td>\n",
       "      <td>87</td>\n",
       "      <td>2716</td>\n",
       "      <td>4773</td>\n",
       "      <td>8301</td>\n",
       "      <td>9009</td>\n",
       "      <td>11741</td>\n",
       "      <td>13</td>\n",
       "    </tr>\n",
       "  </tbody>\n",
       "</table>\n",
       "<p>3 rows × 80 columns</p>\n",
       "</div>"
      ],
      "text/plain": [
       "   기준_년_코드  기준_분기_코드 상권_구분_코드 상권_구분_코드_명    상권_코드   상권_코드_명 서비스_업종_코드  \\\n",
       "0     2019         1        A       골목상권  1000365  도봉로169나길  CS100002   \n",
       "1     2019         1        A       골목상권  1000067    원효로53길  CS100006   \n",
       "2     2019         1        A       골목상권  1000206    제기로21길  CS300018   \n",
       "\n",
       "  서비스_업종_코드_명   당월_매출_금액  당월_매출_건수  ...  시간대_건수~24_매출_건수  남성_매출_건수  여성_매출_건수  \\\n",
       "0       중식음식점   25690326      1441  ...                0       912       379   \n",
       "1      패스트푸드점  580603245     31183  ...             1691     14973     13349   \n",
       "2         의약품  570668039     36759  ...                0     19488     17138   \n",
       "\n",
       "   연령대_10_매출_건수  연령대_20_매출_건수  연령대_30_매출_건수  연령대_40_매출_건수  연령대_50_매출_건수  \\\n",
       "0             6            58           337           420           336   \n",
       "1           457          6954          7736          6489          5041   \n",
       "2            87          2716          4773          8301          9009   \n",
       "\n",
       "   연령대_60_이상_매출_건수  점포수  \n",
       "0              134    3  \n",
       "1             1649   10  \n",
       "2            11741   13  \n",
       "\n",
       "[3 rows x 80 columns]"
      ]
     },
     "execution_count": 3,
     "metadata": {},
     "output_type": "execute_result"
    }
   ],
   "source": [
    "s19.head(3)"
   ]
  },
  {
   "cell_type": "markdown",
   "metadata": {
    "id": "kbgfSbAyOH0q"
   },
   "source": [
    "# 2019년도 데이터의 상권코드를 오름차순으로 정렬한다."
   ]
  },
  {
   "cell_type": "code",
   "execution_count": 4,
   "metadata": {
    "id": "-8nl5x5aOH0r"
   },
   "outputs": [],
   "source": [
    "seoul2019= s19.sort_values(by=['상권_코드'])\n",
    "seoul2020= s20.sort_values(by=['상권_코드'])"
   ]
  },
  {
   "cell_type": "code",
   "execution_count": 5,
   "metadata": {
    "id": "5sR_te_LOH0w",
    "outputId": "ca4fac3b-1d36-4bfe-abe1-51883c36aaa4"
   },
   "outputs": [
    {
     "data": {
      "text/html": [
       "<div>\n",
       "<style scoped>\n",
       "    .dataframe tbody tr th:only-of-type {\n",
       "        vertical-align: middle;\n",
       "    }\n",
       "\n",
       "    .dataframe tbody tr th {\n",
       "        vertical-align: top;\n",
       "    }\n",
       "\n",
       "    .dataframe thead th {\n",
       "        text-align: right;\n",
       "    }\n",
       "</style>\n",
       "<table border=\"1\" class=\"dataframe\">\n",
       "  <thead>\n",
       "    <tr style=\"text-align: right;\">\n",
       "      <th></th>\n",
       "      <th>기준_년_코드</th>\n",
       "      <th>기준_분기_코드</th>\n",
       "      <th>상권_구분_코드</th>\n",
       "      <th>상권_구분_코드_명</th>\n",
       "      <th>상권_코드</th>\n",
       "      <th>상권_코드_명</th>\n",
       "      <th>서비스_업종_코드</th>\n",
       "      <th>서비스_업종_코드_명</th>\n",
       "      <th>당월_매출_금액</th>\n",
       "      <th>당월_매출_건수</th>\n",
       "      <th>...</th>\n",
       "      <th>시간대_건수~24_매출_건수</th>\n",
       "      <th>남성_매출_건수</th>\n",
       "      <th>여성_매출_건수</th>\n",
       "      <th>연령대_10_매출_건수</th>\n",
       "      <th>연령대_20_매출_건수</th>\n",
       "      <th>연령대_30_매출_건수</th>\n",
       "      <th>연령대_40_매출_건수</th>\n",
       "      <th>연령대_50_매출_건수</th>\n",
       "      <th>연령대_60_이상_매출_건수</th>\n",
       "      <th>점포수</th>\n",
       "    </tr>\n",
       "  </thead>\n",
       "  <tbody>\n",
       "    <tr>\n",
       "      <th>31901</th>\n",
       "      <td>2019</td>\n",
       "      <td>1</td>\n",
       "      <td>A</td>\n",
       "      <td>골목상권</td>\n",
       "      <td>1000001</td>\n",
       "      <td>계동길</td>\n",
       "      <td>CS300022</td>\n",
       "      <td>화장품</td>\n",
       "      <td>266653743</td>\n",
       "      <td>8797</td>\n",
       "      <td>...</td>\n",
       "      <td>194</td>\n",
       "      <td>1678</td>\n",
       "      <td>7051</td>\n",
       "      <td>106</td>\n",
       "      <td>2650</td>\n",
       "      <td>2619</td>\n",
       "      <td>1693</td>\n",
       "      <td>1125</td>\n",
       "      <td>537</td>\n",
       "      <td>15</td>\n",
       "    </tr>\n",
       "    <tr>\n",
       "      <th>15167</th>\n",
       "      <td>2019</td>\n",
       "      <td>1</td>\n",
       "      <td>A</td>\n",
       "      <td>골목상권</td>\n",
       "      <td>1000001</td>\n",
       "      <td>계동길</td>\n",
       "      <td>CS200008</td>\n",
       "      <td>한의원</td>\n",
       "      <td>274558800</td>\n",
       "      <td>3498</td>\n",
       "      <td>...</td>\n",
       "      <td>0</td>\n",
       "      <td>2079</td>\n",
       "      <td>1419</td>\n",
       "      <td>55</td>\n",
       "      <td>393</td>\n",
       "      <td>575</td>\n",
       "      <td>1409</td>\n",
       "      <td>360</td>\n",
       "      <td>706</td>\n",
       "      <td>6</td>\n",
       "    </tr>\n",
       "    <tr>\n",
       "      <th>59567</th>\n",
       "      <td>2019</td>\n",
       "      <td>2</td>\n",
       "      <td>A</td>\n",
       "      <td>골목상권</td>\n",
       "      <td>1000001</td>\n",
       "      <td>계동길</td>\n",
       "      <td>CS300024</td>\n",
       "      <td>운동/경기용품</td>\n",
       "      <td>719106</td>\n",
       "      <td>10</td>\n",
       "      <td>...</td>\n",
       "      <td>0</td>\n",
       "      <td>10</td>\n",
       "      <td>0</td>\n",
       "      <td>0</td>\n",
       "      <td>0</td>\n",
       "      <td>0</td>\n",
       "      <td>10</td>\n",
       "      <td>0</td>\n",
       "      <td>0</td>\n",
       "      <td>3</td>\n",
       "    </tr>\n",
       "  </tbody>\n",
       "</table>\n",
       "<p>3 rows × 80 columns</p>\n",
       "</div>"
      ],
      "text/plain": [
       "       기준_년_코드  기준_분기_코드 상권_구분_코드 상권_구분_코드_명    상권_코드 상권_코드_명 서비스_업종_코드  \\\n",
       "31901     2019         1        A       골목상권  1000001     계동길  CS300022   \n",
       "15167     2019         1        A       골목상권  1000001     계동길  CS200008   \n",
       "59567     2019         2        A       골목상권  1000001     계동길  CS300024   \n",
       "\n",
       "      서비스_업종_코드_명   당월_매출_금액  당월_매출_건수  ...  시간대_건수~24_매출_건수  남성_매출_건수  \\\n",
       "31901         화장품  266653743      8797  ...              194      1678   \n",
       "15167         한의원  274558800      3498  ...                0      2079   \n",
       "59567     운동/경기용품     719106        10  ...                0        10   \n",
       "\n",
       "       여성_매출_건수  연령대_10_매출_건수  연령대_20_매출_건수  연령대_30_매출_건수  연령대_40_매출_건수  \\\n",
       "31901      7051           106          2650          2619          1693   \n",
       "15167      1419            55           393           575          1409   \n",
       "59567         0             0             0             0            10   \n",
       "\n",
       "       연령대_50_매출_건수  연령대_60_이상_매출_건수  점포수  \n",
       "31901          1125              537   15  \n",
       "15167           360              706    6  \n",
       "59567             0                0    3  \n",
       "\n",
       "[3 rows x 80 columns]"
      ]
     },
     "execution_count": 5,
     "metadata": {},
     "output_type": "execute_result"
    }
   ],
   "source": [
    "seoul2019.head(3)"
   ]
  },
  {
   "cell_type": "markdown",
   "metadata": {},
   "source": [
    "# 1. 2019년, 2020년 결손 상권 지역 삭제"
   ]
  },
  {
   "cell_type": "markdown",
   "metadata": {},
   "source": [
    "2019년도와 2020년도의 상권_코드 갯수 비교"
   ]
  },
  {
   "cell_type": "code",
   "execution_count": 6,
   "metadata": {},
   "outputs": [
    {
     "name": "stdout",
     "output_type": "stream",
     "text": [
      "[1000001, 1000002, 1000003, 1000004, 1000005, 1000006, 1000007, 1000008, 1000009, 1000010]\n",
      "[1000001, 1000002, 1000003, 1000004, 1000005, 1000006, 1000007, 1000008, 1000009, 1000010]\n",
      "\n",
      "2019년 상권 지역 갯수 :  1010\n",
      "2020년 상권 지역 갯수 :  1485\n",
      "-> 상권 갯수(지역 수)가 다름을 확인\n"
     ]
    }
   ],
   "source": [
    "region2019=seoul2019['상권_코드'].unique().tolist() #2019년 상권 지역 추출\n",
    "print(region2019[0:10])\n",
    "region2020=seoul2020['상권_코드'].unique().tolist() #2019년 상권 지역 추출\n",
    "print(region2020[0:10])\n",
    "\n",
    "print(\"\\n2019년 상권 지역 갯수 : \",len(region2019))\n",
    "print(\"2020년 상권 지역 갯수 : \",len(region2020))\n",
    "print(\"-> 상권 갯수(지역 수)가 다름을 확인\")"
   ]
  },
  {
   "cell_type": "code",
   "execution_count": 7,
   "metadata": {},
   "outputs": [
    {
     "name": "stdout",
     "output_type": "stream",
     "text": [
      "공통 상권 갯수 :  1009\n"
     ]
    }
   ],
   "source": [
    "#2019년 2020년 공통 상권 지역 추출\n",
    "equal_region=[]\n",
    "\n",
    "for i in range(0,len(region2019)):\n",
    "    for j in range(0,len(region2020)):\n",
    "        if(region2019[i] == region2020[j]):\n",
    "            equal_region.append(region2019[i])\n",
    "            \n",
    "print(\"공통 상권 갯수 : \",len(equal_region))"
   ]
  },
  {
   "cell_type": "markdown",
   "metadata": {},
   "source": [
    "2019년도 결손 상권코드 삭제"
   ]
  },
  {
   "cell_type": "code",
   "execution_count": 8,
   "metadata": {
    "scrolled": true
   },
   "outputs": [
    {
     "name": "stdout",
     "output_type": "stream",
     "text": [
      "2019년도데이터에서 삭제되야할 상권 코드 갯수 :  1\n"
     ]
    }
   ],
   "source": [
    "#2019년 상권지역과 공통 상권지역의 차집합\n",
    "differ_region_2019 = list(set(region2019) - set(equal_region))\n",
    "print(\"2019년도데이터에서 삭제되야할 상권 코드 갯수 : \", len(differ_region_2019))"
   ]
  },
  {
   "cell_type": "code",
   "execution_count": 9,
   "metadata": {},
   "outputs": [
    {
     "name": "stdout",
     "output_type": "stream",
     "text": [
      "기존 2019년도 데이터셋 갯수 :  195692\n",
      "삭제 후 2019년도 데이터셋 갯수 :  195587\n"
     ]
    }
   ],
   "source": [
    "print(\"기존 2019년도 데이터셋 갯수 : \",len(seoul2019))\n",
    "\n",
    "#2019년 데이터에서 차집합 데이터 삭제\n",
    "index = seoul2019[seoul2019['상권_코드']==differ_region_2019[0]].index\n",
    "\n",
    "seoul2019 = seoul2019.drop(index)\n",
    "\n",
    "print(\"삭제 후 2019년도 데이터셋 갯수 : \",len(seoul2019))"
   ]
  },
  {
   "cell_type": "markdown",
   "metadata": {},
   "source": [
    "2020년도 결손 상권지역 삭제"
   ]
  },
  {
   "cell_type": "code",
   "execution_count": 10,
   "metadata": {},
   "outputs": [
    {
     "name": "stdout",
     "output_type": "stream",
     "text": [
      "2020년도데이터에서 삭제되야할 상권 코드 갯수 :  476\n"
     ]
    }
   ],
   "source": [
    "#2020년 상권지역과 공통 상권지역의 차집합\n",
    "differ_region_2020 = list(set(region2020) - set(equal_region))\n",
    "print(\"2020년도데이터에서 삭제되야할 상권 코드 갯수 : \", len(differ_region_2020))"
   ]
  },
  {
   "cell_type": "code",
   "execution_count": 11,
   "metadata": {},
   "outputs": [],
   "source": [
    "#2020년데이터에서 삭제를 위해 차집합 데이터 인덱스 배열 생성\n",
    "indexes =[]\n",
    "\n",
    "for i in range(0,len(differ_region_2020)):\n",
    "    addindex = seoul2020[seoul2020['상권_코드']==differ_region_2020[i]].index\n",
    "    indexes.append(addindex)"
   ]
  },
  {
   "cell_type": "code",
   "execution_count": 12,
   "metadata": {},
   "outputs": [
    {
     "name": "stdout",
     "output_type": "stream",
     "text": [
      "기존 2020년도 데이터셋 갯수 :  66511\n",
      "삭제 후 2020년도 데이터셋 갯수 :  42727\n"
     ]
    }
   ],
   "source": [
    "print(\"기존 2020년도 데이터셋 갯수 : \",len(seoul2020))\n",
    "#차집합 데이터 인덱스로 drop\n",
    "for i in range(0,len(indexes)):\n",
    "    seoul2020 = seoul2020.drop(indexes[i])\n",
    "\n",
    "print(\"삭제 후 2020년도 데이터셋 갯수 : \",len(seoul2020))"
   ]
  },
  {
   "cell_type": "markdown",
   "metadata": {},
   "source": [
    "공통 상권 지역갯수가 동일한 것을 확인"
   ]
  },
  {
   "cell_type": "code",
   "execution_count": 13,
   "metadata": {},
   "outputs": [
    {
     "name": "stdout",
     "output_type": "stream",
     "text": [
      "2019년 상권 지역 갯수 :  1009\n",
      "2020년 상권 지역 갯수 :  1009\n"
     ]
    }
   ],
   "source": [
    "#공통상권지역개수와 동일\n",
    "print(\"2019년 상권 지역 갯수 : \",len(seoul2019['상권_코드'].unique().tolist()))\n",
    "print(\"2020년 상권 지역 갯수 : \",len(seoul2020['상권_코드'].unique().tolist()))"
   ]
  },
  {
   "cell_type": "markdown",
   "metadata": {
    "id": "KNi4Vg0qOH00"
   },
   "source": [
    "# 2. 2019년, 2020년 동일지역 결손 업종 삭제 처리"
   ]
  },
  {
   "cell_type": "markdown",
   "metadata": {},
   "source": [
    "# 2-1. 2019년 1,2분기 동일지역 결손 업종 처리"
   ]
  },
  {
   "cell_type": "code",
   "execution_count": 14,
   "metadata": {
    "id": "B6lGVRyCOH01"
   },
   "outputs": [],
   "source": [
    "seoul2019_1=seoul2019[seoul2019['기준_분기_코드']==1]\n",
    "seoul2019_2=seoul2019[seoul2019['기준_분기_코드']==2]"
   ]
  },
  {
   "cell_type": "markdown",
   "metadata": {
    "id": "tcIukAbwOH1D"
   },
   "source": [
    "필요한 열만을 추출"
   ]
  },
  {
   "cell_type": "code",
   "execution_count": 15,
   "metadata": {
    "id": "-Dfc96dXOH1E"
   },
   "outputs": [],
   "source": [
    "seoul2019_1=seoul2019_1[['기준_년_코드','기준_분기_코드','상권_구분_코드','상권_구분_코드_명','상권_코드','상권_코드_명','서비스_업종_코드','서비스_업종_코드_명','당월_매출_금액','당월_매출_건수','점포수']]\n",
    "seoul2019_2=seoul2019_2[['기준_년_코드','기준_분기_코드','상권_구분_코드','상권_구분_코드_명','상권_코드','상권_코드_명','서비스_업종_코드','서비스_업종_코드_명','당월_매출_금액','당월_매출_건수','점포수']]"
   ]
  },
  {
   "cell_type": "code",
   "execution_count": 16,
   "metadata": {
    "id": "2lBV51bmOH1J",
    "outputId": "b8641804-0016-4524-af93-de1ba140d66d",
    "scrolled": true
   },
   "outputs": [
    {
     "data": {
      "text/html": [
       "<div>\n",
       "<style scoped>\n",
       "    .dataframe tbody tr th:only-of-type {\n",
       "        vertical-align: middle;\n",
       "    }\n",
       "\n",
       "    .dataframe tbody tr th {\n",
       "        vertical-align: top;\n",
       "    }\n",
       "\n",
       "    .dataframe thead th {\n",
       "        text-align: right;\n",
       "    }\n",
       "</style>\n",
       "<table border=\"1\" class=\"dataframe\">\n",
       "  <thead>\n",
       "    <tr style=\"text-align: right;\">\n",
       "      <th></th>\n",
       "      <th>기준_년_코드</th>\n",
       "      <th>기준_분기_코드</th>\n",
       "      <th>상권_구분_코드</th>\n",
       "      <th>상권_구분_코드_명</th>\n",
       "      <th>상권_코드</th>\n",
       "      <th>상권_코드_명</th>\n",
       "      <th>서비스_업종_코드</th>\n",
       "      <th>서비스_업종_코드_명</th>\n",
       "      <th>당월_매출_금액</th>\n",
       "      <th>당월_매출_건수</th>\n",
       "      <th>점포수</th>\n",
       "    </tr>\n",
       "  </thead>\n",
       "  <tbody>\n",
       "    <tr>\n",
       "      <th>59567</th>\n",
       "      <td>2019</td>\n",
       "      <td>2</td>\n",
       "      <td>A</td>\n",
       "      <td>골목상권</td>\n",
       "      <td>1000001</td>\n",
       "      <td>계동길</td>\n",
       "      <td>CS300024</td>\n",
       "      <td>운동/경기용품</td>\n",
       "      <td>719106</td>\n",
       "      <td>10</td>\n",
       "      <td>3</td>\n",
       "    </tr>\n",
       "    <tr>\n",
       "      <th>79376</th>\n",
       "      <td>2019</td>\n",
       "      <td>2</td>\n",
       "      <td>A</td>\n",
       "      <td>골목상권</td>\n",
       "      <td>1000001</td>\n",
       "      <td>계동길</td>\n",
       "      <td>CS300018</td>\n",
       "      <td>의약품</td>\n",
       "      <td>58469796</td>\n",
       "      <td>6860</td>\n",
       "      <td>2</td>\n",
       "    </tr>\n",
       "    <tr>\n",
       "      <th>60712</th>\n",
       "      <td>2019</td>\n",
       "      <td>2</td>\n",
       "      <td>A</td>\n",
       "      <td>골목상권</td>\n",
       "      <td>1000001</td>\n",
       "      <td>계동길</td>\n",
       "      <td>CS100006</td>\n",
       "      <td>패스트푸드점</td>\n",
       "      <td>502472994</td>\n",
       "      <td>35702</td>\n",
       "      <td>7</td>\n",
       "    </tr>\n",
       "  </tbody>\n",
       "</table>\n",
       "</div>"
      ],
      "text/plain": [
       "       기준_년_코드  기준_분기_코드 상권_구분_코드 상권_구분_코드_명    상권_코드 상권_코드_명 서비스_업종_코드  \\\n",
       "59567     2019         2        A       골목상권  1000001     계동길  CS300024   \n",
       "79376     2019         2        A       골목상권  1000001     계동길  CS300018   \n",
       "60712     2019         2        A       골목상권  1000001     계동길  CS100006   \n",
       "\n",
       "      서비스_업종_코드_명   당월_매출_금액  당월_매출_건수  점포수  \n",
       "59567     운동/경기용품     719106        10    3  \n",
       "79376         의약품   58469796      6860    2  \n",
       "60712      패스트푸드점  502472994     35702    7  "
      ]
     },
     "execution_count": 16,
     "metadata": {},
     "output_type": "execute_result"
    }
   ],
   "source": [
    "seoul2019_2.head(3)"
   ]
  },
  {
   "cell_type": "markdown",
   "metadata": {
    "id": "kBzLZCKrOH1Y"
   },
   "source": [
    "# 2019 1,2분기 상권별로 업종비교"
   ]
  },
  {
   "cell_type": "code",
   "execution_count": 17,
   "metadata": {},
   "outputs": [
    {
     "name": "stdout",
     "output_type": "stream",
     "text": [
      "1009\n"
     ]
    }
   ],
   "source": [
    "region_2019_list=seoul2019['상권_코드'].unique().tolist()\n",
    "print(len(region_2019_list))"
   ]
  },
  {
   "cell_type": "markdown",
   "metadata": {
    "id": "8dMILgMBOH1Z"
   },
   "source": [
    "동일지역 업종 리스트와 갯수가 상이하다는 것을 확인"
   ]
  },
  {
   "cell_type": "code",
   "execution_count": 18,
   "metadata": {
    "colab": {
     "base_uri": "https://localhost:8080/",
     "height": 251
    },
    "id": "gnEmw_ApOH1a",
    "outputId": "92fb8578-d702-4932-86eb-9055447af26f"
   },
   "outputs": [
    {
     "name": "stdout",
     "output_type": "stream",
     "text": [
      "['이태원로54길']\n",
      "< 1분기 >\n",
      " ['CS100001', 'CS100002', 'CS100003', 'CS100004', 'CS100005', 'CS100006', 'CS100007', 'CS100008', 'CS100009', 'CS100010', 'CS200001', 'CS200006', 'CS200007', 'CS200008', 'CS200016', 'CS200017', 'CS200019', 'CS200024', 'CS200028', 'CS200029', 'CS200030', 'CS200031', 'CS200034', 'CS200037', 'CS300001', 'CS300002', 'CS300004', 'CS300007', 'CS300010', 'CS300011', 'CS300014', 'CS300015', 'CS300016', 'CS300017', 'CS300018', 'CS300020', 'CS300022', 'CS300024', 'CS300028', 'CS300029', 'CS300043'] \n",
      "\n",
      " < 2분기 >\n",
      " ['CS100001', 'CS100002', 'CS100003', 'CS100004', 'CS100005', 'CS100006', 'CS100008', 'CS100009', 'CS100010', 'CS200006', 'CS200007', 'CS200008', 'CS200016', 'CS200017', 'CS200019', 'CS200024', 'CS200028', 'CS200029', 'CS200030', 'CS200031', 'CS200034', 'CS200037', 'CS300001', 'CS300002', 'CS300004', 'CS300007', 'CS300011', 'CS300014', 'CS300015', 'CS300016', 'CS300017', 'CS300018', 'CS300020', 'CS300022', 'CS300024', 'CS300028', 'CS300043']\n",
      "\n",
      "2019년 1분기 업종 갯수 : 41\n",
      "2019년 2분기 업종 갯수 : 37\n",
      "-> 공통 업종 수 :  37\n"
     ]
    }
   ],
   "source": [
    "group1 = seoul2019_1[seoul2019_1['상권_코드']==region_2019_list[70]]\n",
    "group2 = seoul2019_2[seoul2019_2['상권_코드']==region_2019_list[70]]\n",
    "\n",
    "#print(group1.head(3))\n",
    "\n",
    "group1= group1.sort_values(by=['서비스_업종_코드'])\n",
    "group2= group2.sort_values(by=['서비스_업종_코드'])\n",
    "\n",
    "print(group1['상권_코드_명'].unique())\n",
    "\n",
    "list1=group1['서비스_업종_코드'].unique().tolist()\n",
    "list2=group2['서비스_업종_코드'].unique().tolist()\n",
    "\n",
    "print('< 1분기 >\\n',list1,'\\n\\n < 2분기 >\\n',list2)\n",
    "print('\\n2019년 1분기 업종 갯수 :', len(list1))\n",
    "print('2019년 2분기 업종 갯수 :', len(list2))\n",
    "\n",
    "print(\"-> 공통 업종 수 : \",len(set(list1)&set(list2)))"
   ]
  },
  {
   "cell_type": "code",
   "execution_count": 20,
   "metadata": {
    "id": "c6z58526OH1e"
   },
   "outputs": [],
   "source": [
    "for i in range(0,len(region_2019_list)):\n",
    "    #하나의 지역을 추출해낸다 (EX) 이태원로54길\n",
    "    group1 = seoul2019_1[seoul2019_1['상권_코드']==region_2019_list[i]]\n",
    "    group2 = seoul2019_2[seoul2019_2['상권_코드']==region_2019_list[i]]\n",
    "\n",
    "    # 서비스업종코드 비교를 위해 서비스 업종 코드를 오름차순으로 정렬한다\n",
    "    group1= group1.sort_values(by=['서비스_업종_코드'])\n",
    "    group2= group2.sort_values(by=['서비스_업종_코드'])\n",
    "    \n",
    "    #seoul2019데이터에서 삭제하기 위해 기존 index를 index 칼럼으로 생성한다\n",
    "    group1=group1.reset_index()\n",
    "    group2=group2.reset_index()\n",
    "\n",
    "    j1=0 #group1의 행\n",
    "    j2=0 #group2의 행\n",
    "    \n",
    "    while True:\n",
    "        if group1.iloc[j1,7] == group2.iloc[j2,7]: #동일 지역의 서비스업종 코드 비교\n",
    "            j1=j1+1\n",
    "            j2=j2+1\n",
    "        elif group1.iloc[j1,7] > group2.iloc[j2,7]: #1분기에 해당 업종이 존재하지 않을 경우 2분기 데이터에서 해당업종 삭제\n",
    "            seoul2019_2.drop([group2.iloc[j2,0]],axis=0,inplace=True)\n",
    "            j2=j2+1\n",
    "        else:                                       #2분기에 해당 업종이 존재하지 않을 경우 1분기 데이터에서 해당업종 삭제\n",
    "            seoul2019_1.drop([group1.iloc[j1,0]],axis=0,inplace=True)\n",
    "            j1=j1+1\n",
    "       \n",
    "        if j1==len(group1) or j2==len(group2): #한 분기에서 남은 업종이 없으면 종료\n",
    "            #끝에 남아있는 업종이 있으면 삭제\n",
    "            while True:\n",
    "                if j2 <= len(group2)-1:\n",
    "                    seoul2019_2.drop([group2.iloc[j2,0]],axis=0,inplace=True)\n",
    "                    j2=j2+1\n",
    "                else: break\n",
    "            while True:\n",
    "                if j1 <=len(group1)-1:\n",
    "                    seoul2019_1.drop([group1.iloc[j1,0]],axis=0,inplace=True)\n",
    "                    j1=j1+1\n",
    "                else: break\n",
    "            break"
   ]
  },
  {
   "cell_type": "markdown",
   "metadata": {
    "id": "xdESvJTgOH1i"
   },
   "source": [
    "결손 업종 삭제 후 업종 수가 같아진 것을 확인"
   ]
  },
  {
   "cell_type": "code",
   "execution_count": 21,
   "metadata": {
    "id": "ZFfWXV77OH1j",
    "outputId": "8db1b72f-6caa-49af-abce-f4ae3542f7a5",
    "scrolled": false
   },
   "outputs": [
    {
     "name": "stdout",
     "output_type": "stream",
     "text": [
      "['이태원로54길']\n",
      "< 1분기 >\n",
      " ['CS100001', 'CS100002', 'CS100003', 'CS100004', 'CS100005', 'CS100006', 'CS100008', 'CS100009', 'CS100010', 'CS200006', 'CS200007', 'CS200008', 'CS200016', 'CS200017', 'CS200019', 'CS200024', 'CS200028', 'CS200029', 'CS200030', 'CS200031', 'CS200034', 'CS200037', 'CS300001', 'CS300002', 'CS300004', 'CS300007', 'CS300011', 'CS300014', 'CS300015', 'CS300016', 'CS300017', 'CS300018', 'CS300020', 'CS300022', 'CS300024', 'CS300028', 'CS300043'] \n",
      "\n",
      " < 2분기 >\n",
      " ['CS100001', 'CS100002', 'CS100003', 'CS100004', 'CS100005', 'CS100006', 'CS100008', 'CS100009', 'CS100010', 'CS200006', 'CS200007', 'CS200008', 'CS200016', 'CS200017', 'CS200019', 'CS200024', 'CS200028', 'CS200029', 'CS200030', 'CS200031', 'CS200034', 'CS200037', 'CS300001', 'CS300002', 'CS300004', 'CS300007', 'CS300011', 'CS300014', 'CS300015', 'CS300016', 'CS300017', 'CS300018', 'CS300020', 'CS300022', 'CS300024', 'CS300028', 'CS300043']\n",
      "\n",
      "2019년 1분기 업종 갯수 : 37\n",
      "2019년 2분기 업종 갯수 : 37\n",
      "-> 공통 업종 수 :  37\n"
     ]
    }
   ],
   "source": [
    "group1 = seoul2019_1[seoul2019_1['상권_코드']==region_2019_list[70]]\n",
    "group2 = seoul2019_2[seoul2019_2['상권_코드']==region_2019_list[70]]\n",
    "\n",
    "group1= group1.sort_values(by=['서비스_업종_코드'])\n",
    "group2= group2.sort_values(by=['서비스_업종_코드'])\n",
    "\n",
    "print(group1['상권_코드_명'].unique())\n",
    "\n",
    "list1=group1['서비스_업종_코드'].unique().tolist()\n",
    "list2=group2['서비스_업종_코드'].unique().tolist()\n",
    "\n",
    "print('< 1분기 >\\n',list1,'\\n\\n < 2분기 >\\n',list2)\n",
    "print('\\n2019년 1분기 업종 갯수 :', len(list1))\n",
    "print('2019년 2분기 업종 갯수 :', len(list2))\n",
    "print(\"-> 공통 업종 수 : \",len(set(list1)&set(list2)))"
   ]
  },
  {
   "cell_type": "markdown",
   "metadata": {
    "id": "28YrDetdOH1m"
   },
   "source": [
    "# 2-2. 2020년 1,2분기 동일상권 결손 업종 처리"
   ]
  },
  {
   "cell_type": "code",
   "execution_count": 22,
   "metadata": {
    "id": "tx0n0h5dY1hk",
    "outputId": "59ef4144-988f-476b-eee5-66f97515d381",
    "scrolled": true
   },
   "outputs": [],
   "source": [
    "seoul2020_1=seoul2020[seoul2020['기준_분기_코드']==1]\n",
    "seoul2020_2=seoul2020[seoul2020['기준_분기_코드']==2]"
   ]
  },
  {
   "cell_type": "markdown",
   "metadata": {
    "id": "NGRAR-3BY1hv"
   },
   "source": [
    "필요한 열 추출"
   ]
  },
  {
   "cell_type": "code",
   "execution_count": 23,
   "metadata": {
    "id": "vgi3RGOvY1hx"
   },
   "outputs": [],
   "source": [
    "seoul2020_1=seoul2020_1[['기준_년_코드','기준_분기_코드','상권_구분_코드','상권_구분_코드_명','상권_코드','상권_코드_명','서비스_업종_코드','서비스_업종_코드_명','당월_매출_금액','당월_매출_건수','점포수']]\n",
    "seoul2020_2=seoul2020_2[['기준_년_코드','기준_분기_코드','상권_구분_코드','상권_구분_코드_명','상권_코드','상권_코드_명','서비스_업종_코드','서비스_업종_코드_명','당월_매출_금액','당월_매출_건수','점포수']]"
   ]
  },
  {
   "cell_type": "code",
   "execution_count": 24,
   "metadata": {
    "id": "P4ISPFePY1iC",
    "outputId": "5dd7cf47-1bb0-44db-9d7a-b6e16825045d"
   },
   "outputs": [
    {
     "data": {
      "text/html": [
       "<div>\n",
       "<style scoped>\n",
       "    .dataframe tbody tr th:only-of-type {\n",
       "        vertical-align: middle;\n",
       "    }\n",
       "\n",
       "    .dataframe tbody tr th {\n",
       "        vertical-align: top;\n",
       "    }\n",
       "\n",
       "    .dataframe thead th {\n",
       "        text-align: right;\n",
       "    }\n",
       "</style>\n",
       "<table border=\"1\" class=\"dataframe\">\n",
       "  <thead>\n",
       "    <tr style=\"text-align: right;\">\n",
       "      <th></th>\n",
       "      <th>기준_년_코드</th>\n",
       "      <th>기준_분기_코드</th>\n",
       "      <th>상권_구분_코드</th>\n",
       "      <th>상권_구분_코드_명</th>\n",
       "      <th>상권_코드</th>\n",
       "      <th>상권_코드_명</th>\n",
       "      <th>서비스_업종_코드</th>\n",
       "      <th>서비스_업종_코드_명</th>\n",
       "      <th>당월_매출_금액</th>\n",
       "      <th>당월_매출_건수</th>\n",
       "      <th>점포수</th>\n",
       "    </tr>\n",
       "  </thead>\n",
       "  <tbody>\n",
       "    <tr>\n",
       "      <th>66509</th>\n",
       "      <td>2020</td>\n",
       "      <td>1</td>\n",
       "      <td>A</td>\n",
       "      <td>골목상권</td>\n",
       "      <td>1000001</td>\n",
       "      <td>계동길</td>\n",
       "      <td>CS100002</td>\n",
       "      <td>중식음식점</td>\n",
       "      <td>25767161</td>\n",
       "      <td>1413</td>\n",
       "      <td>1</td>\n",
       "    </tr>\n",
       "    <tr>\n",
       "      <th>66494</th>\n",
       "      <td>2020</td>\n",
       "      <td>1</td>\n",
       "      <td>A</td>\n",
       "      <td>골목상권</td>\n",
       "      <td>1000001</td>\n",
       "      <td>계동길</td>\n",
       "      <td>CS300017</td>\n",
       "      <td>시계및귀금속</td>\n",
       "      <td>405970117</td>\n",
       "      <td>1072</td>\n",
       "      <td>2</td>\n",
       "    </tr>\n",
       "    <tr>\n",
       "      <th>66508</th>\n",
       "      <td>2020</td>\n",
       "      <td>1</td>\n",
       "      <td>A</td>\n",
       "      <td>골목상권</td>\n",
       "      <td>1000001</td>\n",
       "      <td>계동길</td>\n",
       "      <td>CS100003</td>\n",
       "      <td>일식음식점</td>\n",
       "      <td>55484866</td>\n",
       "      <td>1272</td>\n",
       "      <td>3</td>\n",
       "    </tr>\n",
       "  </tbody>\n",
       "</table>\n",
       "</div>"
      ],
      "text/plain": [
       "       기준_년_코드  기준_분기_코드 상권_구분_코드 상권_구분_코드_명    상권_코드 상권_코드_명 서비스_업종_코드  \\\n",
       "66509     2020         1        A       골목상권  1000001     계동길  CS100002   \n",
       "66494     2020         1        A       골목상권  1000001     계동길  CS300017   \n",
       "66508     2020         1        A       골목상권  1000001     계동길  CS100003   \n",
       "\n",
       "      서비스_업종_코드_명   당월_매출_금액  당월_매출_건수  점포수  \n",
       "66509       중식음식점   25767161      1413    1  \n",
       "66494      시계및귀금속  405970117      1072    2  \n",
       "66508       일식음식점   55484866      1272    3  "
      ]
     },
     "execution_count": 24,
     "metadata": {},
     "output_type": "execute_result"
    }
   ],
   "source": [
    "seoul2020_1.head(3)"
   ]
  },
  {
   "cell_type": "markdown",
   "metadata": {
    "id": "f_dtP2lfY1ie"
   },
   "source": [
    "\n",
    "# 2020 1,2분기 상권별로 업종비교"
   ]
  },
  {
   "cell_type": "code",
   "execution_count": 25,
   "metadata": {},
   "outputs": [
    {
     "name": "stdout",
     "output_type": "stream",
     "text": [
      "1009\n"
     ]
    }
   ],
   "source": [
    "region_2020_list=seoul2020['상권_코드'].unique().tolist()\n",
    "print(len(region_2020_list))"
   ]
  },
  {
   "cell_type": "markdown",
   "metadata": {},
   "source": [
    "동일지역 업종 리스트와 갯수가 상이하다는 것을 확인"
   ]
  },
  {
   "cell_type": "code",
   "execution_count": 26,
   "metadata": {
    "id": "9nTuB532Y1if",
    "outputId": "0b8d11cc-5b50-4439-c5c1-f9b76e466fa7"
   },
   "outputs": [
    {
     "name": "stdout",
     "output_type": "stream",
     "text": [
      "['망우로21길'] \n",
      "\n",
      "< 1분기 >\n",
      " ['CS100001', 'CS100002', 'CS100003', 'CS100004', 'CS100008', 'CS100009', 'CS100010', 'CS200001', 'CS200002', 'CS200005', 'CS200006', 'CS200008', 'CS200028', 'CS200037', 'CS300002', 'CS300006', 'CS300007', 'CS300011', 'CS300014', 'CS300017', 'CS300018', 'CS300028', 'CS300033', 'CS300036'] \n",
      "\n",
      " < 2분기 >\n",
      " ['CS100001', 'CS100002', 'CS100003', 'CS100004', 'CS100008', 'CS100009', 'CS100010', 'CS200001', 'CS200002', 'CS200003', 'CS200005', 'CS200006', 'CS200008', 'CS200028', 'CS200031', 'CS200037', 'CS300002', 'CS300006', 'CS300007', 'CS300011', 'CS300014', 'CS300018', 'CS300028', 'CS300033', 'CS300036', 'CS300043']\n",
      "\n",
      "2020년 1분기 업종 갯수 : 24\n",
      "2020년 2분기 업종 갯수 : 26\n",
      "-> 공통 업종 수 :  23\n"
     ]
    }
   ],
   "source": [
    "group1 = seoul2020_1[seoul2020_1['상권_코드']==region_2020_list[180]]\n",
    "group2 = seoul2020_2[seoul2020_2['상권_코드']==region_2020_list[180]]\n",
    "\n",
    "group1= group1.sort_values(by=['서비스_업종_코드'])\n",
    "group2= group2.sort_values(by=['서비스_업종_코드'])\n",
    "\n",
    "print(group1['상권_코드_명'].unique(),\"\\n\") #상권이름\n",
    "\n",
    "list1=group1['서비스_업종_코드'].unique().tolist()\n",
    "list2=group2['서비스_업종_코드'].unique().tolist()\n",
    "\n",
    "print('< 1분기 >\\n',list1,'\\n\\n < 2분기 >\\n',list2)\n",
    "print('\\n2020년 1분기 업종 갯수 :', len(list1))\n",
    "print('2020년 2분기 업종 갯수 :', len(list2))\n",
    "print(\"-> 공통 업종 수 : \",len(set(list1)&set(list2)))"
   ]
  },
  {
   "cell_type": "code",
   "execution_count": 27,
   "metadata": {
    "id": "QBbsXkq8Y1io",
    "scrolled": true
   },
   "outputs": [],
   "source": [
    "for i in range(0,len(region_2020_list)):\n",
    "\n",
    "    #하나의 지역을 추출해낸다 (EX) 망우로21길\n",
    "    group1 = seoul2020_1[seoul2020_1['상권_코드']==region_2020_list[i]]\n",
    "    group2 = seoul2020_2[seoul2020_2['상권_코드']==region_2020_list[i]]\n",
    "\n",
    "    # 서비스업종코드 비교를 위해 서비스 업종 코드를 오름차순으로 정렬한다\n",
    "    group1= group1.sort_values(by=['서비스_업종_코드'])\n",
    "    group2= group2.sort_values(by=['서비스_업종_코드'])\n",
    "\n",
    "    \n",
    "    #seoul2020데이터에서 삭제하기 위해 기존 index를 index 칼럼으로 생성한다\n",
    "    group1=group1.reset_index()\n",
    "    group2=group2.reset_index()\n",
    "\n",
    "    j1=0 #group1의 행\n",
    "    j2=0 #group2의 행\n",
    "    \n",
    "    while True:\n",
    "        if group1.iloc[j1,7] == group2.iloc[j2,7]:\n",
    "            j1=j1+1\n",
    "            j2=j2+1\n",
    "        elif group1.iloc[j1,7] > group2.iloc[j2,7]: #1분기에 해당 업종이 존재하지 않을 경우 2분기 데이터에서 해당업종 삭제\n",
    "            seoul2020_2.drop([group2.iloc[j2,0]],axis=0,inplace=True)\n",
    "            j2=j2+1\n",
    "        else:                                       #2분기에 해당 업종이 존재하지 않을 경우 1분기 데이터에서 해당업종 삭제\n",
    "            seoul2020_1.drop([group1.iloc[j1,0]],axis=0,inplace=True)\n",
    "            j1=j1+1\n",
    "    \n",
    "        if j1==len(group1) or j2==len(group2): #한 분기의 업종리스트가 끝이 나면\n",
    "            while True:\n",
    "                if j2 <= len(group2)-1:\n",
    "                    seoul2020_2.drop([group2.iloc[j2,0]],axis=0,inplace=True)\n",
    "                    j2=j2+1\n",
    "                else: break\n",
    "            while True:\n",
    "                if j1 <=len(group1)-1:\n",
    "                    seoul2020_1.drop([group1.iloc[j1,0]],axis=0,inplace=True)\n",
    "                    j1=j1+1\n",
    "                else: break\n",
    "            break"
   ]
  },
  {
   "cell_type": "markdown",
   "metadata": {},
   "source": [
    "결손 업종 삭제 후 업종 수가 같아진 것을 확인"
   ]
  },
  {
   "cell_type": "code",
   "execution_count": 28,
   "metadata": {
    "id": "Izk-VZGbY1iz",
    "outputId": "dc5b327a-c0de-44b0-c84d-4a0e95957afe",
    "scrolled": true
   },
   "outputs": [
    {
     "name": "stdout",
     "output_type": "stream",
     "text": [
      "['망우로21길'] \n",
      "\n",
      "< 1분기 >\n",
      " ['CS100001', 'CS100002', 'CS100003', 'CS100004', 'CS100008', 'CS100009', 'CS100010', 'CS200001', 'CS200002', 'CS200005', 'CS200006', 'CS200008', 'CS200028', 'CS200037', 'CS300002', 'CS300006', 'CS300007', 'CS300011', 'CS300014', 'CS300018', 'CS300028', 'CS300033', 'CS300036'] \n",
      "\n",
      " < 2분기 >\n",
      " ['CS100001', 'CS100002', 'CS100003', 'CS100004', 'CS100008', 'CS100009', 'CS100010', 'CS200001', 'CS200002', 'CS200005', 'CS200006', 'CS200008', 'CS200028', 'CS200037', 'CS300002', 'CS300006', 'CS300007', 'CS300011', 'CS300014', 'CS300018', 'CS300028', 'CS300033', 'CS300036']\n",
      "\n",
      "2020년 1분기 업종 갯수 : 23\n",
      "2020년 2분기 업종 갯수 : 23\n",
      "-> 공통 업종 수 :  23\n"
     ]
    }
   ],
   "source": [
    "group1 = seoul2020_1[seoul2020_1['상권_코드']==region_2020_list[180]]\n",
    "group2 = seoul2020_2[seoul2020_2['상권_코드']==region_2020_list[180]]\n",
    "\n",
    "group1= group1.sort_values(by=['서비스_업종_코드'])\n",
    "group2= group2.sort_values(by=['서비스_업종_코드'])\n",
    "\n",
    "print(group1['상권_코드_명'].unique(),\"\\n\") #상권이름\n",
    "\n",
    "list1=group1['서비스_업종_코드'].unique().tolist()\n",
    "list2=group2['서비스_업종_코드'].unique().tolist()\n",
    "\n",
    "print('< 1분기 >\\n',list1,'\\n\\n < 2분기 >\\n',list2)\n",
    "print('\\n2020년 1분기 업종 갯수 :', len(list1))\n",
    "print('2020년 2분기 업종 갯수 :', len(list2))\n",
    "print(\"-> 공통 업종 수 : \",len(set(list1)&set(list2)))"
   ]
  },
  {
   "cell_type": "markdown",
   "metadata": {
    "id": "fp3Re9n5Y1kF"
   },
   "source": [
    "# 2-3. 2019년도 1분기,2분기 / 2020년도 1분기,2분기 동일 상권 결손 업종 삭제"
   ]
  },
  {
   "cell_type": "code",
   "execution_count": 29,
   "metadata": {},
   "outputs": [
    {
     "name": "stdout",
     "output_type": "stream",
     "text": [
      "1009\n"
     ]
    }
   ],
   "source": [
    "region_all_list = list(set(region_2019_list) & set(region_2020_list)) #1.처리로 이미 2019년도와 2020년 지역이 동일하도록 처리완료\n",
    "print(len(region_all_list))"
   ]
  },
  {
   "cell_type": "markdown",
   "metadata": {},
   "source": [
    "동일지역 업종 리스트와 갯수가 상이하다는 것을 확인"
   ]
  },
  {
   "cell_type": "code",
   "execution_count": 30,
   "metadata": {},
   "outputs": [
    {
     "name": "stdout",
     "output_type": "stream",
     "text": [
      "['이태원로54길']\n",
      "< 2019년 1분기 >\n",
      " ['CS100001', 'CS100002', 'CS100003', 'CS100004', 'CS100005', 'CS100006', 'CS100008', 'CS100009', 'CS100010', 'CS200006', 'CS200007', 'CS200008', 'CS200016', 'CS200017', 'CS200019', 'CS200024', 'CS200028', 'CS200029', 'CS200030', 'CS200031', 'CS200034', 'CS200037', 'CS300001', 'CS300002', 'CS300004', 'CS300007', 'CS300011', 'CS300014', 'CS300015', 'CS300016', 'CS300017', 'CS300018', 'CS300020', 'CS300022', 'CS300024', 'CS300028', 'CS300043'] \n",
      "\n",
      " < 2020년 1분기 >\n",
      " ['CS100001', 'CS100002', 'CS100003', 'CS100004', 'CS100006', 'CS100008', 'CS100009', 'CS100010', 'CS200007', 'CS200028', 'CS200030', 'CS200031', 'CS300001', 'CS300002', 'CS300010', 'CS300011', 'CS300015', 'CS300016', 'CS300020', 'CS300022', 'CS300024', 'CS300028', 'CS300029']\n",
      "\n",
      "2019년 1분기 업종 갯수 : 37\n",
      "2020년 1분기 업종 갯수 : 23\n",
      "-> 공통 업종 수 :  21\n"
     ]
    }
   ],
   "source": [
    "group1 = seoul2019_1[seoul2019_1['상권_코드']==region_all_list[70]]\n",
    "group2 = seoul2020_1[seoul2020_1['상권_코드']==region_all_list[70]]\n",
    "\n",
    "group1= group1.sort_values(by=['서비스_업종_코드'])\n",
    "group2= group2.sort_values(by=['서비스_업종_코드'])\n",
    "\n",
    "print(group1['상권_코드_명'].unique())\n",
    "\n",
    "list1=group1['서비스_업종_코드'].unique().tolist()\n",
    "list2=group2['서비스_업종_코드'].unique().tolist()\n",
    "\n",
    "print('< 2019년 1분기 >\\n',list1,'\\n\\n < 2020년 1분기 >\\n',list2)\n",
    "print('\\n2019년 1분기 업종 갯수 :', len(list1))\n",
    "print('2020년 1분기 업종 갯수 :', len(list2))\n",
    "print(\"-> 공통 업종 수 : \",len(set(list1)&set(list2)))"
   ]
  },
  {
   "cell_type": "code",
   "execution_count": 31,
   "metadata": {
    "id": "6de8zZafY1kG",
    "outputId": "1c15c92a-d287-405f-8fdc-fc9b98f91262"
   },
   "outputs": [],
   "source": [
    "# 각 년도의 1분기와 2분기는 결손 업종을 이미 처리해놨기 때문에 년도별 한분기씩만 비교해도 된다.\n",
    "# 2019년 1분기와 2020년 1분기의 동일지역 결손 업종을 비교하여 삭제처리\n",
    "for i in range(0,len(region_all_list)):\n",
    "\n",
    "    #하나의 지역을 추출해낸다 (EX) 이태원로54길\n",
    "    group19_1 = seoul2019_1[seoul2019_1['상권_코드']==region_all_list[i]]\n",
    "    group19_2 = seoul2019_2[seoul2019_2['상권_코드']==region_all_list[i]]\n",
    "    group20_1 = seoul2020_1[seoul2020_1['상권_코드']==region_all_list[i]]\n",
    "    group20_2 = seoul2020_2[seoul2020_2['상권_코드']==region_all_list[i]]\n",
    "\n",
    "    # 서비스업종코드 비교를 위해 서비스 업종 코드를 오름차순으로 정렬한다\n",
    "    group19_1= group19_1.sort_values(by=['서비스_업종_코드'])\n",
    "    group19_2= group19_2.sort_values(by=['서비스_업종_코드'])\n",
    "    group20_1= group20_1.sort_values(by=['서비스_업종_코드'])\n",
    "    group20_2= group20_2.sort_values(by=['서비스_업종_코드'])\n",
    "\n",
    "    \n",
    "    #기존 index를 index 칼럼으로 생성한다\n",
    "    group19_1=group19_1.reset_index()\n",
    "    group19_2=group19_2.reset_index()\n",
    "    group20_1=group20_1.reset_index()\n",
    "    group20_2=group20_2.reset_index()\n",
    "\n",
    "    j1=0 \n",
    "    j2=0 \n",
    "    \n",
    "    #각 년도 1분기 2분기는 같은 지역, 같은업종이므로, 1분기 그룹df만 비교\n",
    "    while True:\n",
    "        if group19_1.iloc[j1,7]== group20_1.iloc[j2,7]:\n",
    "            j1=j1+1\n",
    "            j2=j2+1\n",
    "        elif group19_1.iloc[j1,7] > group20_1.iloc[j2,7]: #2019에 해당 업종이 존재하지 않을 경우 2020데이터에서 해당업종 삭제\n",
    "            seoul2020_1.drop([group20_1.iloc[j2,0]],axis=0,inplace=True)\n",
    "            seoul2020_2.drop([group20_2.iloc[j2,0]],axis=0,inplace=True)\n",
    "            j2=j2+1\n",
    "        else:                                       #2020에 해당 업종이 존재하지 않을 경우 2019데이터에서 해당업종 삭제\n",
    "            seoul2019_1.drop([group19_1.iloc[j1,0]],axis=0,inplace=True)\n",
    "            seoul2019_2.drop([group19_2.iloc[j1,0]],axis=0,inplace=True)\n",
    "            j1=j1+1\n",
    "        \n",
    "        if j1==len(group19_1) or j2==len(group20_1): #한 분기의 업종리스트가 끝이 나면\n",
    "            while True:\n",
    "                if j2 <= len(group20_1)-1:\n",
    "                    seoul2020_1.drop([group20_1.iloc[j2,0]],axis=0,inplace=True)\n",
    "                    seoul2020_2.drop([group20_2.iloc[j2,0]],axis=0,inplace=True)\n",
    "                    j2=j2+1\n",
    "                else: break\n",
    "            while True:\n",
    "                if j1 <=len(group19_1)-1:\n",
    "                    seoul2019_1.drop([group19_1.iloc[j1,0]],axis=0,inplace=True)\n",
    "                    seoul2019_2.drop([group19_2.iloc[j1,0]],axis=0,inplace=True)\n",
    "                    j1=j1+1\n",
    "                else: break\n",
    "            break"
   ]
  },
  {
   "cell_type": "code",
   "execution_count": 32,
   "metadata": {},
   "outputs": [
    {
     "name": "stdout",
     "output_type": "stream",
     "text": [
      "['이태원로54길']\n",
      "< 2019년 1분기 >\n",
      " ['CS100001', 'CS100002', 'CS100003', 'CS100004', 'CS100006', 'CS100008', 'CS100009', 'CS100010', 'CS200007', 'CS200028', 'CS200030', 'CS200031', 'CS300001', 'CS300002', 'CS300011', 'CS300015', 'CS300016', 'CS300020', 'CS300022', 'CS300024', 'CS300028'] \n",
      "\n",
      " < 2020년 1분기 >\n",
      " ['CS100001', 'CS100002', 'CS100003', 'CS100004', 'CS100006', 'CS100008', 'CS100009', 'CS100010', 'CS200007', 'CS200028', 'CS200030', 'CS200031', 'CS300001', 'CS300002', 'CS300011', 'CS300015', 'CS300016', 'CS300020', 'CS300022', 'CS300024', 'CS300028']\n",
      "\n",
      "2019년 1분기 업종 갯수 : 21\n",
      "2020년 1분기 업종 갯수 : 21\n",
      "-> 공통 업종 수 :  21\n"
     ]
    }
   ],
   "source": [
    "group1 = seoul2019_1[seoul2019_1['상권_코드']==region_all_list[70]]\n",
    "group2 = seoul2020_1[seoul2020_1['상권_코드']==region_all_list[70]]\n",
    "\n",
    "group1= group1.sort_values(by=['서비스_업종_코드'])\n",
    "group2= group2.sort_values(by=['서비스_업종_코드'])\n",
    "\n",
    "print(group1['상권_코드_명'].unique())\n",
    "\n",
    "list1=group1['서비스_업종_코드'].unique().tolist()\n",
    "list2=group2['서비스_업종_코드'].unique().tolist()\n",
    "\n",
    "print('< 2019년 1분기 >\\n',list1,'\\n\\n < 2020년 1분기 >\\n',list2)\n",
    "print('\\n2019년 1분기 업종 갯수 :', len(list1))\n",
    "print('2020년 1분기 업종 갯수 :', len(list2))\n",
    "print(\"-> 공통 업종 수 : \",len(set(list1)&set(list2)))"
   ]
  },
  {
   "cell_type": "code",
   "execution_count": 33,
   "metadata": {},
   "outputs": [],
   "source": [
    "result=pd.concat([seoul2019_1,seoul2019_2,seoul2020_1,seoul2020_2])"
   ]
  },
  {
   "cell_type": "code",
   "execution_count": 34,
   "metadata": {},
   "outputs": [
    {
     "data": {
      "text/html": [
       "<div>\n",
       "<style scoped>\n",
       "    .dataframe tbody tr th:only-of-type {\n",
       "        vertical-align: middle;\n",
       "    }\n",
       "\n",
       "    .dataframe tbody tr th {\n",
       "        vertical-align: top;\n",
       "    }\n",
       "\n",
       "    .dataframe thead th {\n",
       "        text-align: right;\n",
       "    }\n",
       "</style>\n",
       "<table border=\"1\" class=\"dataframe\">\n",
       "  <thead>\n",
       "    <tr style=\"text-align: right;\">\n",
       "      <th></th>\n",
       "      <th>기준_년_코드</th>\n",
       "      <th>기준_분기_코드</th>\n",
       "      <th>상권_구분_코드</th>\n",
       "      <th>상권_구분_코드_명</th>\n",
       "      <th>상권_코드</th>\n",
       "      <th>상권_코드_명</th>\n",
       "      <th>서비스_업종_코드</th>\n",
       "      <th>서비스_업종_코드_명</th>\n",
       "      <th>당월_매출_금액</th>\n",
       "      <th>당월_매출_건수</th>\n",
       "      <th>점포수</th>\n",
       "    </tr>\n",
       "  </thead>\n",
       "  <tbody>\n",
       "    <tr>\n",
       "      <th>15167</th>\n",
       "      <td>2019</td>\n",
       "      <td>1</td>\n",
       "      <td>A</td>\n",
       "      <td>골목상권</td>\n",
       "      <td>1000001</td>\n",
       "      <td>계동길</td>\n",
       "      <td>CS200008</td>\n",
       "      <td>한의원</td>\n",
       "      <td>274558800</td>\n",
       "      <td>3498</td>\n",
       "      <td>6</td>\n",
       "    </tr>\n",
       "    <tr>\n",
       "      <th>33460</th>\n",
       "      <td>2019</td>\n",
       "      <td>1</td>\n",
       "      <td>A</td>\n",
       "      <td>골목상권</td>\n",
       "      <td>1000001</td>\n",
       "      <td>계동길</td>\n",
       "      <td>CS100002</td>\n",
       "      <td>중식음식점</td>\n",
       "      <td>244087512</td>\n",
       "      <td>8684</td>\n",
       "      <td>4</td>\n",
       "    </tr>\n",
       "    <tr>\n",
       "      <th>32320</th>\n",
       "      <td>2019</td>\n",
       "      <td>1</td>\n",
       "      <td>A</td>\n",
       "      <td>골목상권</td>\n",
       "      <td>1000001</td>\n",
       "      <td>계동길</td>\n",
       "      <td>CS100006</td>\n",
       "      <td>패스트푸드점</td>\n",
       "      <td>418080410</td>\n",
       "      <td>28824</td>\n",
       "      <td>7</td>\n",
       "    </tr>\n",
       "  </tbody>\n",
       "</table>\n",
       "</div>"
      ],
      "text/plain": [
       "       기준_년_코드  기준_분기_코드 상권_구분_코드 상권_구분_코드_명    상권_코드 상권_코드_명 서비스_업종_코드  \\\n",
       "15167     2019         1        A       골목상권  1000001     계동길  CS200008   \n",
       "33460     2019         1        A       골목상권  1000001     계동길  CS100002   \n",
       "32320     2019         1        A       골목상권  1000001     계동길  CS100006   \n",
       "\n",
       "      서비스_업종_코드_명   당월_매출_금액  당월_매출_건수  점포수  \n",
       "15167         한의원  274558800      3498    6  \n",
       "33460       중식음식점  244087512      8684    4  \n",
       "32320      패스트푸드점  418080410     28824    7  "
      ]
     },
     "execution_count": 34,
     "metadata": {},
     "output_type": "execute_result"
    }
   ],
   "source": [
    "result.head(3)"
   ]
  },
  {
   "cell_type": "code",
   "execution_count": 35,
   "metadata": {
    "scrolled": true
   },
   "outputs": [],
   "source": [
    "result=result.reset_index(drop=True)"
   ]
  },
  {
   "cell_type": "code",
   "execution_count": 36,
   "metadata": {
    "scrolled": true
   },
   "outputs": [
    {
     "data": {
      "text/html": [
       "<div>\n",
       "<style scoped>\n",
       "    .dataframe tbody tr th:only-of-type {\n",
       "        vertical-align: middle;\n",
       "    }\n",
       "\n",
       "    .dataframe tbody tr th {\n",
       "        vertical-align: top;\n",
       "    }\n",
       "\n",
       "    .dataframe thead th {\n",
       "        text-align: right;\n",
       "    }\n",
       "</style>\n",
       "<table border=\"1\" class=\"dataframe\">\n",
       "  <thead>\n",
       "    <tr style=\"text-align: right;\">\n",
       "      <th></th>\n",
       "      <th>기준_년_코드</th>\n",
       "      <th>기준_분기_코드</th>\n",
       "      <th>상권_구분_코드</th>\n",
       "      <th>상권_구분_코드_명</th>\n",
       "      <th>상권_코드</th>\n",
       "      <th>상권_코드_명</th>\n",
       "      <th>서비스_업종_코드</th>\n",
       "      <th>서비스_업종_코드_명</th>\n",
       "      <th>당월_매출_금액</th>\n",
       "      <th>당월_매출_건수</th>\n",
       "      <th>점포수</th>\n",
       "    </tr>\n",
       "  </thead>\n",
       "  <tbody>\n",
       "    <tr>\n",
       "      <th>0</th>\n",
       "      <td>2019</td>\n",
       "      <td>1</td>\n",
       "      <td>A</td>\n",
       "      <td>골목상권</td>\n",
       "      <td>1000001</td>\n",
       "      <td>계동길</td>\n",
       "      <td>CS200008</td>\n",
       "      <td>한의원</td>\n",
       "      <td>274558800</td>\n",
       "      <td>3498</td>\n",
       "      <td>6</td>\n",
       "    </tr>\n",
       "    <tr>\n",
       "      <th>1</th>\n",
       "      <td>2019</td>\n",
       "      <td>1</td>\n",
       "      <td>A</td>\n",
       "      <td>골목상권</td>\n",
       "      <td>1000001</td>\n",
       "      <td>계동길</td>\n",
       "      <td>CS100002</td>\n",
       "      <td>중식음식점</td>\n",
       "      <td>244087512</td>\n",
       "      <td>8684</td>\n",
       "      <td>4</td>\n",
       "    </tr>\n",
       "    <tr>\n",
       "      <th>2</th>\n",
       "      <td>2019</td>\n",
       "      <td>1</td>\n",
       "      <td>A</td>\n",
       "      <td>골목상권</td>\n",
       "      <td>1000001</td>\n",
       "      <td>계동길</td>\n",
       "      <td>CS100006</td>\n",
       "      <td>패스트푸드점</td>\n",
       "      <td>418080410</td>\n",
       "      <td>28824</td>\n",
       "      <td>7</td>\n",
       "    </tr>\n",
       "  </tbody>\n",
       "</table>\n",
       "</div>"
      ],
      "text/plain": [
       "   기준_년_코드  기준_분기_코드 상권_구분_코드 상권_구분_코드_명    상권_코드 상권_코드_명 서비스_업종_코드  \\\n",
       "0     2019         1        A       골목상권  1000001     계동길  CS200008   \n",
       "1     2019         1        A       골목상권  1000001     계동길  CS100002   \n",
       "2     2019         1        A       골목상권  1000001     계동길  CS100006   \n",
       "\n",
       "  서비스_업종_코드_명   당월_매출_금액  당월_매출_건수  점포수  \n",
       "0         한의원  274558800      3498    6  \n",
       "1       중식음식점  244087512      8684    4  \n",
       "2      패스트푸드점  418080410     28824    7  "
      ]
     },
     "execution_count": 36,
     "metadata": {},
     "output_type": "execute_result"
    }
   ],
   "source": [
    "result.head(3)"
   ]
  },
  {
   "cell_type": "code",
   "execution_count": 37,
   "metadata": {},
   "outputs": [],
   "source": [
    "if not os.path.exists('seoul2019_2020.csv'):\n",
    "    result.to_csv('seoul2019_2020.csv',index=False,mode='w',encoding='utf-8-sig')\n",
    "else:\n",
    "    result.to_csv('seoul2019_2020.csv',header=False,index=False, mode='a',encoding='utf-8-sig')"
   ]
  },
  {
   "cell_type": "code",
   "execution_count": null,
   "metadata": {},
   "outputs": [],
   "source": []
  },
  {
   "cell_type": "code",
   "execution_count": null,
   "metadata": {},
   "outputs": [],
   "source": []
  }
 ],
 "metadata": {
  "colab": {
   "collapsed_sections": [
    "kBzLZCKrOH1Y",
    "28YrDetdOH1m",
    "NGRAR-3BY1hv",
    "UrNOz-cSY1iK",
    "f_dtP2lfY1ie",
    "3BRU3uoiY1jA",
    "QPOdfaf0Y1jk",
    "fp3Re9n5Y1kF"
   ],
   "name": "2019,2020년도_분기별_업종_전처리.ipynb의 사본",
   "provenance": []
  },
  "kernelspec": {
   "display_name": "Python 3",
   "language": "python",
   "name": "python3"
  },
  "language_info": {
   "codemirror_mode": {
    "name": "ipython",
    "version": 3
   },
   "file_extension": ".py",
   "mimetype": "text/x-python",
   "name": "python",
   "nbconvert_exporter": "python",
   "pygments_lexer": "ipython3",
   "version": "3.8.3"
  }
 },
 "nbformat": 4,
 "nbformat_minor": 1
}
