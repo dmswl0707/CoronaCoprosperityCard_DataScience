{
  "nbformat": 4,
  "nbformat_minor": 0,
  "metadata": {
    "colab": {
      "name": "pre_precessing_CardCSV.ipynb",
      "provenance": [],
      "private_outputs": true,
      "authorship_tag": "ABX9TyP6opyx6rbM7aaskxLNOJFH",
      "include_colab_link": true
    },
    "kernelspec": {
      "name": "python3",
      "display_name": "Python 3"
    }
  },
  "cells": [
    {
      "cell_type": "markdown",
      "metadata": {
        "id": "view-in-github",
        "colab_type": "text"
      },
      "source": [
        "<a href=\"https://colab.research.google.com/github/dmswl0707/CoronaCoprosperityCard_DataScience/blob/main/pre_precessing_CardCSV.ipynb\" target=\"_parent\"><img src=\"https://colab.research.google.com/assets/colab-badge.svg\" alt=\"Open In Colab\"/></a>"
      ]
    },
    {
      "cell_type": "code",
      "metadata": {
        "id": "mkxBfJDlM_i4"
      },
      "source": [
        "#1. data1에서 결제건수와 판매업종 추출\n",
        "#2. data2에서 나이와 이용업종 추출 (판매업종=이용업종)\n",
        "#3. 반복된 값 정리 -ing\n",
        "#4. 판매량이 많은 연령 추출 \n",
        "#   ex) 판매액, 판매건수 : (20,1위),(40,2위),(30,3위),(50,4위),(60,5위)\n",
        "#5. 소비성향(k-means)\n",
        "#   ex) 5개 업종 군집으로 구분\n",
        "\n",
        "###가게분류_list=data1['receipt_dttm']\n",
        "#가게분류_val==가게분류_list.values.tolist()\n",
        "#mrhst_induty_cl_nm 재분류(caltm '업종'카테고리에 맞게)\n",
        "#비율\n",
        "\n",
        "###소비성향...\n",
        "\n",
        "\n",
        "import numpy as np\n",
        "import pandas as pd\n",
        "\n",
        "from google.colab import drive\n",
        "drive.mount('/content/drive')\n",
        "\n",
        "filename1='/content/drive/My Drive/Colab Notebooks/data/revised_data/sale_list.csv' \n",
        "data1=pd.read_csv(filename1) \n",
        "\n",
        "filename2='/content/drive/My Drive/Colab Notebooks/data/revised_data/earning_list.csv' \n",
        "data2=pd.read_csv(filename2) \n",
        "\n",
        "filename3='/content/drive/My Drive/Colab Notebooks/data/revised_data/age_list.csv' \n",
        "data3=pd.read_csv(filename3) \n",
        "\n",
        "print(data1)\n",
        "print(data2)\n",
        "print(data3)"
      ],
      "execution_count": null,
      "outputs": []
    },
    {
      "cell_type": "code",
      "metadata": {
        "id": "Cfbo5Gme3B4p"
      },
      "source": [
        "data1=pd.DataFrame(data1, columns=['mrhst_induty_cl_nm','selng_cascnt'])\n",
        "data01=data1.mrhst_induty_cl_nm.to_list()\n",
        "\n",
        "data1_list = []\n",
        "for v in data01:\n",
        "    if v not in data1_list:\n",
        "        data1_list.append(v)\n",
        "print(data1_list)"
      ],
      "execution_count": null,
      "outputs": []
    },
    {
      "cell_type": "code",
      "metadata": {
        "id": "BiurhxLQ6gjB"
      },
      "source": [
        "\n",
        "data2=pd.DataFrame(data2, columns=['mrhst_induty_cl_nm','selng_cascnt'])\n",
        "data02=data2.mrhst_induty_cl_nm.to_list()\n",
        "\n",
        "data2_list = []\n",
        "for v in data02:\n",
        "    if v not in data2_list:\n",
        "        data2_list.append(v)\n",
        "print(data2_list)"
      ],
      "execution_count": null,
      "outputs": []
    },
    {
      "cell_type": "code",
      "metadata": {
        "id": "AMQHxIiU7VTo"
      },
      "source": [
        "data3=pd.DataFrame(data3, columns=['catm','age'])\n",
        "data03=data3.catm.to_list()\n",
        "\n",
        "data3_list = []\n",
        "for v in data03:\n",
        "    if v not in data3_list:\n",
        "        data3_list.append(v)\n",
        "print(data3_list)\n"
      ],
      "execution_count": null,
      "outputs": []
    },
    {
      "cell_type": "code",
      "metadata": {
        "id": "Bm_16iyu87bu"
      },
      "source": [
        "#기타전문점=기타전문점, 택시=x, 인터넷=인터넷,인터넷mall, 이동통신요금=이동통신요금, 생명보험=생명보험, 세금=조세서비스(특약), 조세서비스, 기타=...\n",
        "#\n",
        "\n",
        "store={}\n"
      ],
      "execution_count": null,
      "outputs": []
    }
  ]
}