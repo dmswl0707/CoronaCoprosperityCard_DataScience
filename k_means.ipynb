{
  "nbformat": 4,
  "nbformat_minor": 0,
  "metadata": {
    "colab": {
      "name": "k_means.ipynb",
      "provenance": [],
      "private_outputs": true,
      "authorship_tag": "ABX9TyPO6PAy3I1fNaa50s1gQaw5",
      "include_colab_link": true
    },
    "kernelspec": {
      "name": "python3",
      "display_name": "Python 3"
    }
  },
  "cells": [
    {
      "cell_type": "markdown",
      "metadata": {
        "id": "view-in-github",
        "colab_type": "text"
      },
      "source": [
        "<a href=\"https://colab.research.google.com/github/dmswl0707/CoronaCoprosperityCard_DataScience/blob/main/k_means.ipynb\" target=\"_parent\"><img src=\"https://colab.research.google.com/assets/colab-badge.svg\" alt=\"Open In Colab\"/></a>"
      ]
    },
    {
      "cell_type": "code",
      "metadata": {
        "id": "COcT_64MUIZH"
      },
      "source": [
        "import pandas as pd\n",
        "import matplotlib\n",
        "import matplitlib.pyplot as plt\n",
        "from matplotlib import style\n",
        "import numpy as np\n",
        "from sklearn.datasets import make)bllobs\n",
        "\n",
        "style.use('seaborn-talk')\n",
        "krfont={'family:NanumGothic', 'weight:bold','size':10}\n",
        "matplotlib.rc('font', **krfont)\n",
        "matplotlib.rcParam['axes.unicode_minus']=False\n",
        "\n",
        "x, y =make_blobs(n_sample=150, n_feature=2 , centers=3, cluster=5, cluster_Std=0.5\n",
        "                 shuffle=True, random_state=0)\n",
        "\n",
        "plt.scatter(x[:,1], c='lightgray', maker='0', s=50)\n",
        "plt.grid(True)\n",
        "plt.show()\n",
        "\n",
        "from sklearn.cluster import kmeans\n",
        "\n",
        "init_centroid='random'\n",
        "\n",
        "km=KMeans(n_cluster=5, init=init_centroid, random_state=0)\n",
        "y_km=km.fit_predict(x)\n",
        "\n",
        "plt.scatter(x[y_km=0,0],x[y_km=0,1], c='green', maker='0', s=50, label='클러스터1')\n",
        "plt.scatter(x[y_km=0,0],x[y_km=0,1], c='green', maker='0', s=50, label='클러스터2')\n",
        "plt.scatter(x[y_km=0,0],x[y_km=0,1], c='green', maker='0', s=50, label='클러스터3')\n",
        "plt.scatter(x[y_km=0,0],x[y_km=0,1], c='green', maker='0', s=50, label='클러스터중심')\n",
        "\n",
        "plt.legend()\n",
        "plt.grid(True)\n",
        "plt.show()\n",
        "\n",
        "\n",
        "\n"
      ],
      "execution_count": null,
      "outputs": []
    }
  ]
}