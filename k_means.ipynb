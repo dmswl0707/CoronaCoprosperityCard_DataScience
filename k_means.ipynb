{
  "nbformat": 4,
  "nbformat_minor": 0,
  "metadata": {
    "colab": {
      "name": "k_means.ipynb",
      "provenance": [],
      "collapsed_sections": [],
      "authorship_tag": "ABX9TyNVl34xj5JdnT/FGtks3F6u",
      "include_colab_link": true
    },
    "kernelspec": {
      "name": "python3",
      "display_name": "Python 3"
    },
    "accelerator": "GPU"
  },
  "cells": [
    {
      "cell_type": "markdown",
      "metadata": {
        "id": "view-in-github",
        "colab_type": "text"
      },
      "source": [
        "<a href=\"https://colab.research.google.com/github/dmswl0707/CoronaCoprosperityCard_DataScience/blob/main/k_means.ipynb\" target=\"_parent\"><img src=\"https://colab.research.google.com/assets/colab-badge.svg\" alt=\"Open In Colab\"/></a>"
      ]
    },
    {
      "cell_type": "code",
      "metadata": {
        "id": "Gc7Urk_e6tD8"
      },
      "source": [
        "#######데이터 불러오기\n",
        "######텍스트 마이닝 - word2vec\n",
        "######클러스터 갯수 설정(엘보우)\n",
        "######군집분석\n",
        "\n",
        "##개념 한번씩 찾아보세요"
      ],
      "execution_count": null,
      "outputs": []
    },
    {
      "cell_type": "code",
      "metadata": {
        "id": "fNj6m8t57CQE"
      },
      "source": [
        "import pandas as pd\n",
        "import matplotlib\n",
        "import matplotlib.pyplot as plt\n",
        "from matplotlib import style\n",
        "import numpy as np\n",
        "from sklearn.datasets import make_blobs\n",
        "\n",
        "#####데이터 불러오기\n",
        "\n",
        "#twenty_store.....구글 드라이브에서 불러오기\n",
        "\n"
      ],
      "execution_count": null,
      "outputs": []
    },
    {
      "cell_type": "code",
      "metadata": {
        "id": "wOAHYBAy7NGy"
      },
      "source": [
        "####텍스트 마이닝\n",
        "\n",
        "from gensim.models import Word2Vec\n",
        "import matplotlib.pyplot as plt\n",
        "\n",
        "def plot_2d_graph(vocabs, xs, ys):\n",
        "    plt.figure(figsize=(8,6))\n",
        "    plt.scatter(xs, ys, marker='o')\n",
        "    for i,v in enumerate(vocabs):\n",
        "        plt.annotate(v, xy=(xs[i]],ys[i]))\n",
        "\n",
        "sentence=[]\n",
        "\n",
        "#모델 구성\n",
        "model=Word2Vec(sentence, size=,window, min_count, workers=)\n",
        "\n",
        "#단어 벡터를 구한다\n",
        "Word_vectors=model.wv\n",
        "\n",
        "vocabs=word_vectors.vocab.keys()\n",
        "word_vectors_list=[word_vectors[] for v in vocabs]\n",
        "\n",
        "#결과 1 : 단어간 유사도 확인 \n",
        "print(word_vectors.similarity(w1='',w2=''))\n",
        "\n",
        "from sklearn.decomposition import PCA\n",
        "pca=PCA()\n",
        "xys=pca.fit_transform(word_vectors_list)\n",
        "xs=xys[,]\n",
        "ys=xys[,]\n",
        "\n",
        "#결과 2 : 단어간 유사도 확인 \n",
        "print(word_vectors.similarity(w1='',w2=''))\n",
        "\n",
        "from sklearn.decomposition import PCA\n",
        "pca=PCA()\n",
        "xys=pca.fit_transform(word_vectors_list)\n",
        "xs=xys[,]\n",
        "ys=xys[,]\n",
        "\n",
        "# 최종 모델을 저장\n",
        "model.save('word2vec.model')\n",
        "model=word2vec.load('word2vec.model')\n",
        "\n"
      ],
      "execution_count": null,
      "outputs": []
    },
    {
      "cell_type": "code",
      "metadata": {
        "id": "CQ6O0tdS7Ojk"
      },
      "source": [
        "#####엘보우\n",
        "\n",
        "def elbow(X):\n",
        "    sse=[]\n",
        "    for i in range(1, 11):\n",
        "        km=KMeans(n_clusters=i, init='K-means++', random_state=0)\n",
        "        km.fit(X)\n",
        "        sse.append(km.intertia_)\n",
        "\n",
        "    plt.plot(range(1,11),sse, marker='o')\n",
        "    plt.xlabel('클러스터 갯수')\n",
        "    plt.ylabel('SSE')\n",
        "    plt.show()\n",
        "\n",
        "elbow(X)"
      ],
      "execution_count": null,
      "outputs": []
    },
    {
      "cell_type": "code",
      "metadata": {
        "id": "COcT_64MUIZH"
      },
      "source": [
        "####클러스터링\n",
        "\n",
        "style.use('seaborn-talk')\n",
        "krfont={'family' : 'Gothic', 'weight' : 'bold','size' : 10}\n",
        "matplotlib.rc('font', **krfont)\n",
        "matplotlib.rcParams['axes.unicode_minus']=False\n",
        "\n",
        "x, y =make_blobs(n_samples=150, n_features=2 , centers=3, cluster_std=0.5,\n",
        "                 shuffle = True, random_state = 0)\n",
        "\n",
        "plt.scatter(x[:,1], x[:,1], c='lightgray', marker='o', s=50)\n",
        "plt.grid(True)\n",
        "plt.show()\n",
        "\n",
        "from sklearn.cluster import KMeans\n",
        "\n",
        "init_centroid='random'\n",
        "\n",
        "km=KMeans(n_clusters=5, init=init_centroid, random_state=0)\n",
        "y_km=km.fit_predict(x)\n",
        "\n",
        "plt.scatter(x[y_km==0,0],x[y_km==0,1], c='green', marker='o',\n",
        "            s=50, label='클러스터1')\n",
        "plt.scatter(x[y_km==0,0],x[y_km==0,1], c='yellow', marker='o',\n",
        "            s=50, label='클러스터2')\n",
        "plt.scatter(x[y_km==0,0],x[y_km==0,1], c='blue', marker='o',\n",
        "            s=50, label='클러스터3')\n",
        "plt.scatter(x[y_km==0,0],x[y_km==0,1], c='red', marker='o',\n",
        "            s=50, label='클러스터중심')\n",
        "\n",
        "plt.legend()\n",
        "plt.grid(True)\n",
        "plt.show()\n",
        "\n",
        "\n",
        "\n"
      ],
      "execution_count": null,
      "outputs": []
    }
  ]
}