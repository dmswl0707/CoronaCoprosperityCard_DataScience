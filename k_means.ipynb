{
  "nbformat": 4,
  "nbformat_minor": 0,
  "metadata": {
    "colab": {
      "name": "k_means.ipynb",
      "provenance": [],
      "collapsed_sections": [],
      "authorship_tag": "ABX9TyNF0QnB7L0W8Yxmfjz6o7F7",
      "include_colab_link": true
    },
    "kernelspec": {
      "name": "python3",
      "display_name": "Python 3"
    },
    "accelerator": "GPU"
  },
  "cells": [
    {
      "cell_type": "markdown",
      "metadata": {
        "id": "view-in-github",
        "colab_type": "text"
      },
      "source": [
        "<a href=\"https://colab.research.google.com/github/dmswl0707/CoronaCoprosperityCard_DataScience/blob/main/k_means.ipynb\" target=\"_parent\"><img src=\"https://colab.research.google.com/assets/colab-badge.svg\" alt=\"Open In Colab\"/></a>"
      ]
    },
    {
      "cell_type": "code",
      "metadata": {
        "id": "Gc7Urk_e6tD8"
      },
      "source": [
        "#######데이터 불러오기\n",
        "######텍스트 마이닝 - word2vec\n",
        "######클러스터 갯수 설정(엘보우)\n",
        "######군집분석\n",
        "\n",
        "##개념 한번씩 찾아보세요"
      ],
      "execution_count": null,
      "outputs": []
    },
    {
      "cell_type": "code",
      "metadata": {
        "id": "fNj6m8t57CQE",
        "outputId": "c06d07bd-e8f4-4597-d38b-808bdd9bc64e",
        "colab": {
          "base_uri": "https://localhost:8080/"
        }
      },
      "source": [
        "import pandas as pd\n",
        "import matplotlib\n",
        "import matplotlib.pyplot as plt\n",
        "from matplotlib import style\n",
        "import numpy as np\n",
        "import openpyxl\n",
        "from sklearn.datasets import make_blobs\n",
        "\n",
        "#####데이터 불러오기\n",
        "\n",
        "file_dir1 ='/content/drive/My Drive/Colab Notebooks/data/revised_data/twenty_store.xlsx'\n",
        "file_dir2 ='/content/drive/My Drive/Colab Notebooks/data/revised_data/thirty_store.xlsx'\n",
        "file_dir3 ='/content/drive/My Drive/Colab Notebooks/data/revised_data/forty_store.xlsx'\n",
        "file_dir4 ='/content/drive/My Drive/Colab Notebooks/data/revised_data/fifty_store.xlsx'\n",
        "\n",
        "from google.colab import drive\n",
        "drive.mount('/content/drive') #구글 드라이브에 접근\n",
        "twenty_store = pd.read_excel(file_dir1, sheet_name = 'Sheet1')\n",
        "thirty_store = pd.read_excel(file_dir2, sheet_name = 'Sheet1')\n",
        "forty_store = pd.read_excel(file_dir3, sheet_name = 'Sheet1')\n",
        "fifty_store = pd.read_excel(file_dir4, sheet_name = 'Sheet1')\n",
        "\n",
        "#인덱스 재설정, '업종' 출력\n",
        "twenty_store.columns=['num','연도','상권','업종','값']\n",
        "twenty_store=twenty_store['업종']\n",
        "print(twenty_store)\n",
        "\n",
        "thirty_store.columns=['num','연도','상권','업종','값']\n",
        "thirty_store=thirty_store['업종']\n",
        "print(twenty_store)\n",
        "\n",
        "forty_store.columns=['num','연도','상권','업종','값']\n",
        "forty_store=forty_store['업종']\n",
        "print(twenty_store)\n",
        "\n",
        "fifty_store.columns=['num','연도','상권','업종','값']\n",
        "fifty_store=fifty_store['업종']\n",
        "print(twenty_store)"
      ],
      "execution_count": 7,
      "outputs": [
        {
          "output_type": "stream",
          "text": [
            "Drive already mounted at /content/drive; to attempt to forcibly remount, call drive.mount(\"/content/drive\", force_remount=True).\n",
            "0           커피-음료\n",
            "1             편의점\n",
            "2            일반의류\n",
            "3             편의점\n",
            "4           커피-음료\n",
            "          ...    \n",
            "195         커피-음료\n",
            "196    컴퓨터및주변장치판매\n",
            "197          일반의류\n",
            "198          슈퍼마켓\n",
            "199         한식음식점\n",
            "Name: 업종, Length: 200, dtype: object\n",
            "0           커피-음료\n",
            "1             편의점\n",
            "2            일반의류\n",
            "3             편의점\n",
            "4           커피-음료\n",
            "          ...    \n",
            "195         커피-음료\n",
            "196    컴퓨터및주변장치판매\n",
            "197          일반의류\n",
            "198          슈퍼마켓\n",
            "199         한식음식점\n",
            "Name: 업종, Length: 200, dtype: object\n",
            "0           커피-음료\n",
            "1             편의점\n",
            "2            일반의류\n",
            "3             편의점\n",
            "4           커피-음료\n",
            "          ...    \n",
            "195         커피-음료\n",
            "196    컴퓨터및주변장치판매\n",
            "197          일반의류\n",
            "198          슈퍼마켓\n",
            "199         한식음식점\n",
            "Name: 업종, Length: 200, dtype: object\n",
            "0           커피-음료\n",
            "1             편의점\n",
            "2            일반의류\n",
            "3             편의점\n",
            "4           커피-음료\n",
            "          ...    \n",
            "195         커피-음료\n",
            "196    컴퓨터및주변장치판매\n",
            "197          일반의류\n",
            "198          슈퍼마켓\n",
            "199         한식음식점\n",
            "Name: 업종, Length: 200, dtype: object\n"
          ],
          "name": "stdout"
        }
      ]
    },
    {
      "cell_type": "code",
      "metadata": {
        "id": "wOAHYBAy7NGy",
        "outputId": "2c77d9a7-4fb1-4b75-eda4-6e626e48d247",
        "colab": {
          "base_uri": "https://localhost:8080/",
          "height": 130
        }
      },
      "source": [
        "####텍스트 마이닝\n",
        "\n",
        "from gensim.models import Word2Vec\n",
        "import matplotlib.pyplot as plt\n",
        "\n",
        "def plot_2d_graph(vocabs, xs, ys):\n",
        "    plt.figure(figsize=(8,6))\n",
        "    plt.scatter(xs, ys, marker='o')\n",
        "    for i,v in enumerate(vocabs):\n",
        "        plt.annotate(v, xy=(xs[i],ys[i]))\n",
        "\n",
        "sentence=[print(twenty_store)]\n",
        "\n",
        "#모델 구성\n",
        "model=Word2Vec(sentences, size=300, window=3, min_count=1, workers=1)\n",
        "\n",
        "#단어 벡터를 구한다\n",
        "Word_vectors=model.wv\n",
        "\n",
        "vocabs=word_vectors.vocab.keys()\n",
        "word_vectors_list=[word_vectors[v] for v in vocabs]\n",
        "\n",
        "#결과 1 : 단어간 유사도 확인 \n",
        "print(word_vectors.similarity(w1='커피-음료',w2='음식점'))\n",
        "\n",
        "from sklearn.decomposition import PCA\n",
        "pca = PCA()\n",
        "xys = pca.fit_transform(word_vectors_list)\n",
        "xs = xys[,]\n",
        "ys = xys[,]\n",
        "\n",
        "#결과 2 : 단어간 유사도 확인 \n",
        "print(word_vectors.similarity(w1='',w2=''))\n",
        "\n",
        "from sklearn.decomposition import PCA\n",
        "pca=PCA()\n",
        "xys=pca.fit_transform(word_vectors_list)\n",
        "xs=xys[,]\n",
        "ys=xys[,]\n",
        "\n",
        "# 최종 모델을 저장\n",
        "model.save('word2vec.model')\n",
        "model=word2vec.load('word2vec.model')\n",
        "\n"
      ],
      "execution_count": 8,
      "outputs": [
        {
          "output_type": "error",
          "ename": "SyntaxError",
          "evalue": "ignored",
          "traceback": [
            "\u001b[0;36m  File \u001b[0;32m\"<ipython-input-8-fd224167d9ba>\"\u001b[0;36m, line \u001b[0;32m29\u001b[0m\n\u001b[0;31m    xs=xys[,]\u001b[0m\n\u001b[0m           ^\u001b[0m\n\u001b[0;31mSyntaxError\u001b[0m\u001b[0;31m:\u001b[0m invalid syntax\n"
          ]
        }
      ]
    },
    {
      "cell_type": "code",
      "metadata": {
        "id": "CQ6O0tdS7Ojk",
        "outputId": "d3951558-ca1a-4126-8371-560816edf2ba",
        "colab": {
          "base_uri": "https://localhost:8080/",
          "height": 198
        }
      },
      "source": [
        "#####엘보우\n",
        "\n",
        "def elbow(X):\n",
        "    sse=[]\n",
        "    for i in range(1, 11):\n",
        "        km=KMeans(n_clusters=i, init='K-means++', random_state=0)\n",
        "        km.fit(X)\n",
        "        sse.append(km.intertia_)\n",
        "\n",
        "    plt.plot(range(1,11),sse, marker='o')\n",
        "    plt.xlabel('클러스터 갯수')\n",
        "    plt.ylabel('SSE')\n",
        "    plt.show()\n",
        "\n",
        "elbow(X)"
      ],
      "execution_count": null,
      "outputs": [
        {
          "output_type": "error",
          "ename": "NameError",
          "evalue": "ignored",
          "traceback": [
            "\u001b[0;31m---------------------------------------------------------------------------\u001b[0m",
            "\u001b[0;31mNameError\u001b[0m                                 Traceback (most recent call last)",
            "\u001b[0;32m<ipython-input-5-7f7fc1ce38ff>\u001b[0m in \u001b[0;36m<module>\u001b[0;34m()\u001b[0m\n\u001b[1;32m     13\u001b[0m     \u001b[0mplt\u001b[0m\u001b[0;34m.\u001b[0m\u001b[0mshow\u001b[0m\u001b[0;34m(\u001b[0m\u001b[0;34m)\u001b[0m\u001b[0;34m\u001b[0m\u001b[0;34m\u001b[0m\u001b[0m\n\u001b[1;32m     14\u001b[0m \u001b[0;34m\u001b[0m\u001b[0m\n\u001b[0;32m---> 15\u001b[0;31m \u001b[0melbow\u001b[0m\u001b[0;34m(\u001b[0m\u001b[0mX\u001b[0m\u001b[0;34m)\u001b[0m\u001b[0;34m\u001b[0m\u001b[0;34m\u001b[0m\u001b[0m\n\u001b[0m",
            "\u001b[0;31mNameError\u001b[0m: name 'X' is not defined"
          ]
        }
      ]
    },
    {
      "cell_type": "code",
      "metadata": {
        "id": "COcT_64MUIZH",
        "outputId": "f5b631a0-bf2e-4f3d-92d7-6ea387e80839",
        "colab": {
          "base_uri": "https://localhost:8080/",
          "height": 1000
        }
      },
      "source": [
        "####클러스터링\n",
        "\n",
        "style.use('seaborn-talk')\n",
        "krfont={'family' : 'Gothic', 'weight' : 'bold','size' : 10}\n",
        "matplotlib.rc('font', **krfont)\n",
        "matplotlib.rcParams['axes.unicode_minus']=False\n",
        "\n",
        "x, y =make_blobs(n_samples=150, n_features=2 , centers=3, cluster_std=0.5,\n",
        "                 shuffle = True, random_state = 0)\n",
        "\n",
        "plt.scatter(x[:,1], x[:,1], c='lightgray', marker='o', s=50)\n",
        "plt.grid(True)\n",
        "plt.show()\n",
        "\n",
        "from sklearn.cluster import KMeans\n",
        "\n",
        "init_centroid='random'\n",
        "\n",
        "km=KMeans(n_clusters=5, init=init_centroid, random_state=0)\n",
        "y_km=km.fit_predict(x)\n",
        "\n",
        "plt.scatter(x[y_km==0,0],x[y_km==0,1], c='green', marker='o',\n",
        "            s=50, label='클러스터1')\n",
        "plt.scatter(x[y_km==0,0],x[y_km==0,1], c='yellow', marker='o',\n",
        "            s=50, label='클러스터2')\n",
        "plt.scatter(x[y_km==0,0],x[y_km==0,1], c='blue', marker='o',\n",
        "            s=50, label='클러스터3')\n",
        "plt.scatter(x[y_km==0,0],x[y_km==0,1], c='red', marker='o',\n",
        "            s=50, label='클러스터중심')\n",
        "\n",
        "plt.legend()\n",
        "plt.grid(True)\n",
        "plt.show()\n",
        "\n",
        "\n",
        "\n"
      ],
      "execution_count": null,
      "outputs": [
        {
          "output_type": "stream",
          "text": [
            "findfont: Font family ['Gothic'] not found. Falling back to DejaVu Sans.\n"
          ],
          "name": "stderr"
        },
        {
          "output_type": "display_data",
          "data": {
            "image/png": "[encoded data removed]",
            "text/plain": [
              "<Figure size 748.8x514.8 with 1 Axes>"
            ]
          },
          "metadata": {
            "tags": [],
            "needs_background": "light"
          }
        },
        {
          "output_type": "stream",
          "text": [
            "/usr/local/lib/python3.6/dist-packages/matplotlib/backends/backend_agg.py:214: RuntimeWarning: Glyph 53364 missing from current font.\n",
            "  font.set_text(s, 0.0, flags=flags)\n",
            "/usr/local/lib/python3.6/dist-packages/matplotlib/backends/backend_agg.py:214: RuntimeWarning: Glyph 47084 missing from current font.\n",
            "  font.set_text(s, 0.0, flags=flags)\n",
            "/usr/local/lib/python3.6/dist-packages/matplotlib/backends/backend_agg.py:214: RuntimeWarning: Glyph 49828 missing from current font.\n",
            "  font.set_text(s, 0.0, flags=flags)\n",
            "/usr/local/lib/python3.6/dist-packages/matplotlib/backends/backend_agg.py:214: RuntimeWarning: Glyph 53552 missing from current font.\n",
            "  font.set_text(s, 0.0, flags=flags)\n",
            "/usr/local/lib/python3.6/dist-packages/matplotlib/backends/backend_agg.py:214: RuntimeWarning: Glyph 51473 missing from current font.\n",
            "  font.set_text(s, 0.0, flags=flags)\n",
            "/usr/local/lib/python3.6/dist-packages/matplotlib/backends/backend_agg.py:214: RuntimeWarning: Glyph 49900 missing from current font.\n",
            "  font.set_text(s, 0.0, flags=flags)\n",
            "/usr/local/lib/python3.6/dist-packages/matplotlib/backends/backend_agg.py:183: RuntimeWarning: Glyph 53364 missing from current font.\n",
            "  font.set_text(s, 0, flags=flags)\n",
            "/usr/local/lib/python3.6/dist-packages/matplotlib/backends/backend_agg.py:183: RuntimeWarning: Glyph 47084 missing from current font.\n",
            "  font.set_text(s, 0, flags=flags)\n",
            "/usr/local/lib/python3.6/dist-packages/matplotlib/backends/backend_agg.py:183: RuntimeWarning: Glyph 49828 missing from current font.\n",
            "  font.set_text(s, 0, flags=flags)\n",
            "/usr/local/lib/python3.6/dist-packages/matplotlib/backends/backend_agg.py:183: RuntimeWarning: Glyph 53552 missing from current font.\n",
            "  font.set_text(s, 0, flags=flags)\n",
            "/usr/local/lib/python3.6/dist-packages/matplotlib/backends/backend_agg.py:183: RuntimeWarning: Glyph 51473 missing from current font.\n",
            "  font.set_text(s, 0, flags=flags)\n",
            "/usr/local/lib/python3.6/dist-packages/matplotlib/backends/backend_agg.py:183: RuntimeWarning: Glyph 49900 missing from current font.\n",
            "  font.set_text(s, 0, flags=flags)\n"
          ],
          "name": "stderr"
        },
        {
          "output_type": "display_data",
          "data": {
            "image/png": "[encoded data removed]",
            "text/plain": [
              "<Figure size 748.8x514.8 with 1 Axes>"
            ]
          },
          "metadata": {
            "tags": [],
            "needs_background": "light"
          }
        }
      ]
    }
  ]
}