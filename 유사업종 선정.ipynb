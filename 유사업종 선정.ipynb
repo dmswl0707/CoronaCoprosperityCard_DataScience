{
 "cells": [
  {
   "cell_type": "code",
   "execution_count": 1,
   "metadata": {},
   "outputs": [],
   "source": [
    "import gensim\n",
    "model = gensim.models.Word2Vec.load('ko/ko.bin') \n",
    "#https://github.com/Kyubyong/wordvectors word2vec 한국어 모델"
   ]
  },
  {
   "cell_type": "code",
   "execution_count": 2,
   "metadata": {},
   "outputs": [
    {
     "data": {
      "text/plain": [
       "0.30066097"
      ]
     },
     "execution_count": 2,
     "metadata": {},
     "output_type": "execute_result"
    }
   ],
   "source": [
    "model.wv.similarity('주식', '반찬')"
   ]
  },
  {
   "cell_type": "code",
   "execution_count": 3,
   "metadata": {},
   "outputs": [
    {
     "data": {
      "text/plain": [
       "0.20880778"
      ]
     },
     "execution_count": 3,
     "metadata": {},
     "output_type": "execute_result"
    }
   ],
   "source": [
    "model.wv.similarity('주식', '돈')"
   ]
  },
  {
   "cell_type": "code",
   "execution_count": 4,
   "metadata": {},
   "outputs": [
    {
     "data": {
      "text/plain": [
       "[('지분', 0.659886360168457),\n",
       " ('증권', 0.6218825578689575),\n",
       " ('사채', 0.617996335029602),\n",
       " ('자본금', 0.6030240058898926),\n",
       " ('현물', 0.5963727235794067),\n",
       " ('주주', 0.5927848815917969),\n",
       " ('코스닥', 0.5803253650665283),\n",
       " ('모회사', 0.579328179359436),\n",
       " ('상장', 0.5687190890312195),\n",
       " ('어음', 0.5640698075294495)]"
      ]
     },
     "execution_count": 4,
     "metadata": {},
     "output_type": "execute_result"
    }
   ],
   "source": [
    "model.wv.most_similar('주식')"
   ]
  },
  {
   "cell_type": "code",
   "execution_count": 5,
   "metadata": {},
   "outputs": [],
   "source": [
    "import pandas as pd\n",
    "import numpy as np\n",
    "import os\n",
    "\n",
    "seoul=pd.read_csv(\"seoul2020.csv\",encoding = 'euc-kr')\n",
    "services = seoul['서비스_업종_코드_명'].unique().tolist()"
   ]
  },
  {
   "cell_type": "code",
   "execution_count": 6,
   "metadata": {},
   "outputs": [],
   "source": [
    "Word_vectors=model.wv\n",
    "vocabs=Word_vectors.vocab.keys()\n",
    "vocabs_list=list(vocabs)"
   ]
  },
  {
   "cell_type": "code",
   "execution_count": 7,
   "metadata": {},
   "outputs": [],
   "source": [
    "model_services_list= []\n",
    "\n",
    "for i in range(0,len(vocabs_list)):\n",
    "    for j in range(0,len(services)):\n",
    "        if vocabs_list[i] == services[j]:\n",
    "            model_services_list.append(vocabs_list[i])\n",
    "            break"
   ]
  },
  {
   "cell_type": "code",
   "execution_count": 8,
   "metadata": {},
   "outputs": [
    {
     "data": {
      "text/plain": [
       "18"
      ]
     },
     "execution_count": 8,
     "metadata": {},
     "output_type": "execute_result"
    }
   ],
   "source": [
    "len(model_services_list)"
   ]
  },
  {
   "cell_type": "code",
   "execution_count": 9,
   "metadata": {},
   "outputs": [
    {
     "data": {
      "text/plain": [
       "45"
      ]
     },
     "execution_count": 9,
     "metadata": {},
     "output_type": "execute_result"
    }
   ],
   "source": [
    "not_in_model=list(set(services) - set(model_services_list))\n",
    "len(not_in_model)"
   ]
  },
  {
   "cell_type": "code",
   "execution_count": 11,
   "metadata": {},
   "outputs": [],
   "source": [
    "service_dict = {}\n",
    "service_dict['일반의원']='병원'\n",
    "service_dict['당구장']='당구'\n",
    "service_dict['청과상']='과일'\n",
    "service_dict['일반의류']='의류'\n",
    "service_dict['피부관리실']='피부'\n",
    "service_dict['일식음식점']='초밥'\n",
    "service_dict['부동산중개업']='부동산'\n",
    "service_dict['자동차수리']='수리'\n",
    "service_dict['분식전문점']='떡볶이'\n",
    "service_dict['자전거 및 기타운송장비']='자전거'\n",
    "service_dict['양식음식점']='스테이크'\n",
    "service_dict['스포츠 강습']= '체육'\n",
    "service_dict['가전제품']= '냉장고'\n",
    "service_dict['스포츠클럽']='운동장'\n",
    "service_dict['반찬가게']='반찬'\n",
    "service_dict['조명용품']='조명'\n",
    "service_dict['한의원']='한약'\n",
    "service_dict['수산물판매']='수산물'\n",
    "service_dict['외국어학원']='학원'\n",
    "service_dict['컴퓨터및주변장치판매']='컴퓨터'\n",
    "service_dict['패스트푸드점']='패스트푸드'\n",
    "service_dict['커피-음료']='커피'\n",
    "service_dict['치킨전문점']='치킨'\n",
    "service_dict['미곡판매']='미곡'\n",
    "service_dict['중식음식점']='짜장면'\n",
    "service_dict['일반교습학원']='강습소'\n",
    "service_dict['섬유제품']='섬유'\n",
    "service_dict['운동/경기용품']='라켓'\n",
    "service_dict['고시원']='방'\n",
    "service_dict['치과의원']='치과'\n",
    "service_dict['전자상거래업']='노트북'\n",
    "service_dict['철물점']='망치'\n",
    "service_dict['호프-간이주점']='술'\n",
    "service_dict['가전제품수리']='검수'\n",
    "service_dict['세탁소']='세탁'\n",
    "service_dict['PC방']='게임'\n",
    "service_dict['자동차미용']='승용차'\n",
    "service_dict['한식음식점']='한식'\n",
    "service_dict['육류판매']='육류'\n",
    "service_dict['시계및귀금속']='귀금속'\n",
    "service_dict['의료기기']='의료'\n",
    "service_dict['골프연습장']='골프'\n",
    "service_dict['예술학원']='예술'\n",
    "service_dict['제과점']='제과'\n",
    "service_dict['네일숍']='미용'"
   ]
  },
  {
   "cell_type": "code",
   "execution_count": 12,
   "metadata": {},
   "outputs": [],
   "source": [
    "Word_vectors=model.wv\n",
    "all_list = model_services_list + list(service_dict.values())\n",
    "Word_vectors_list=[Word_vectors[v] for v in all_list]"
   ]
  },
  {
   "cell_type": "markdown",
   "metadata": {},
   "source": [
    "# 모든 업종 단어 간 유사도 시각화"
   ]
  },
  {
   "cell_type": "code",
   "execution_count": 68,
   "metadata": {},
   "outputs": [
    {
     "data": {
      "text/plain": [
       "Text(0.5, 1.0, '2020년 소비업종 간 유사도')"
      ]
     },
     "execution_count": 68,
     "metadata": {},
     "output_type": "execute_result"
    },
    {
     "name": "stderr",
     "output_type": "stream",
     "text": [
      "C:\\Users\\ing06\\anaconda-new\\lib\\site-packages\\matplotlib\\backends\\backend_agg.py:214: RuntimeWarning: Glyph 8722 missing from current font.\n",
      "  font.set_text(s, 0.0, flags=flags)\n",
      "C:\\Users\\ing06\\anaconda-new\\lib\\site-packages\\matplotlib\\backends\\backend_agg.py:183: RuntimeWarning: Glyph 8722 missing from current font.\n",
      "  font.set_text(s, 0, flags=flags)\n"
     ]
    },
    {
     "data": {
      "image/png": "[encoded data removed]",
      "text/plain": [
       "<Figure size 720x720 with 1 Axes>"
      ]
     },
     "metadata": {
      "needs_background": "light"
     },
     "output_type": "display_data"
    }
   ],
   "source": [
    "import matplotlib.pyplot as plt\n",
    "from sklearn.decomposition import PCA\n",
    "pca = PCA(n_components=2)\n",
    "xys = pca.fit_transform(Word_vectors_list)\n",
    "xs = xys[:,0]\n",
    "ys = xys[:,1]\n",
    "\n",
    "def plot_2d_graph(vocabs, xs, ys):\n",
    "    plt.figure(figsize=(10,10))\n",
    "    plt.scatter(xs, ys, marker='o')\n",
    "    #for i,v in enumerate(vocabs):\n",
    "        #plt.annotate(v, xy=(xs[i],ys[i]))\n",
    "\n",
    "import matplotlib\n",
    "matplotlib.rc('font', family='HYsanB')\n",
    "plot_2d_graph(list(all_list),xs,ys)\n",
    "plt.xlabel('각 업종의 단어벡터 x값',size=15)\n",
    "plt.ylabel('각 업종의 단어벡터 y값',size=15)\n",
    "plt.title('2020년 소비업종 간 유사도',size=25)"
   ]
  },
  {
   "cell_type": "code",
   "execution_count": 15,
   "metadata": {},
   "outputs": [
    {
     "data": {
      "text/plain": [
       "63"
      ]
     },
     "execution_count": 15,
     "metadata": {},
     "output_type": "execute_result"
    }
   ],
   "source": [
    "len(Word_vectors_list)"
   ]
  },
  {
   "cell_type": "markdown",
   "metadata": {},
   "source": [
    "# 클러스터링 결과로 나온 빈도수 높은 업종- 유사도 업종 찾기"
   ]
  },
  {
   "cell_type": "code",
   "execution_count": 22,
   "metadata": {},
   "outputs": [],
   "source": [
    "high_services_list = ['한식음식점',\n",
    "'화장품',\n",
    "'의료기기',\n",
    "'PC방',\n",
    "'편의점',\n",
    "'컴퓨터및주변장치판매'] #빈도수 높은 업종"
   ]
  },
  {
   "cell_type": "code",
   "execution_count": 23,
   "metadata": {},
   "outputs": [
    {
     "data": {
      "text/plain": [
       "['한식', '화장품', '의료', '게임', '편의점', '컴퓨터']"
      ]
     },
     "execution_count": 23,
     "metadata": {},
     "output_type": "execute_result"
    }
   ],
   "source": [
    "in_model_high_services_list=[]\n",
    "\n",
    "for i in range(0,len(high_services_list)):\n",
    "    if high_services_list[i] in service_dict:\n",
    "        in_model_high_services_list.append(service_dict[high_services_list[i]])\n",
    "    else:\n",
    "        in_model_high_services_list.append(high_services_list[i])\n",
    "        \n",
    "in_model_high_services_list"
   ]
  },
  {
   "cell_type": "code",
   "execution_count": 27,
   "metadata": {},
   "outputs": [
    {
     "data": {
      "text/plain": [
       "57"
      ]
     },
     "execution_count": 27,
     "metadata": {},
     "output_type": "execute_result"
    }
   ],
   "source": [
    "compare_services_list =list(set(all_list) - set(in_model_high_services_list))\n",
    "len(compare_services_list)\n",
    "#compare_services_list"
   ]
  },
  {
   "cell_type": "code",
   "execution_count": 25,
   "metadata": {},
   "outputs": [
    {
     "data": {
      "text/plain": [
       "['떡볶이', '의류', '의약품', '노트북', '슈퍼마켓', '노트북']"
      ]
     },
     "execution_count": 25,
     "metadata": {},
     "output_type": "execute_result"
    }
   ],
   "source": [
    "result_list = []\n",
    "\n",
    "for i in range(0,len(in_model_high_services_list)):\n",
    "    max = -1\n",
    "    save_index=-1\n",
    "    for j in range(0,len(compare_services_list)):\n",
    "        temp = model.wv.similarity(in_model_high_services_list[i],compare_services_list[j])\n",
    "        if(max<temp):\n",
    "            max = temp\n",
    "            save_index = j\n",
    "    result_list.append(compare_services_list[save_index])\n",
    "    \n",
    "\n",
    "result_list    "
   ]
  },
  {
   "cell_type": "code",
   "execution_count": 28,
   "metadata": {},
   "outputs": [
    {
     "data": {
      "text/plain": [
       "['분식전문점', '일반의류', '의약품', '전자상거래업', '슈퍼마켓', '전자상거래업']"
      ]
     },
     "execution_count": 28,
     "metadata": {},
     "output_type": "execute_result"
    }
   ],
   "source": [
    "reverse_dict = {v:k for k,v in service_dict.items()}\n",
    "\n",
    "real_result_list = []\n",
    "for i in range(0,len(result_list)):\n",
    "    if result_list[i] in reverse_dict:\n",
    "        real_result_list.append(reverse_dict[result_list[i]])\n",
    "    else:\n",
    "         real_result_list.append(result_list[i])\n",
    "real_result_list"
   ]
  },
  {
   "cell_type": "code",
   "execution_count": 60,
   "metadata": {},
   "outputs": [
    {
     "data": {
      "text/html": [
       "<div>\n",
       "<style scoped>\n",
       "    .dataframe tbody tr th:only-of-type {\n",
       "        vertical-align: middle;\n",
       "    }\n",
       "\n",
       "    .dataframe tbody tr th {\n",
       "        vertical-align: top;\n",
       "    }\n",
       "\n",
       "    .dataframe thead th {\n",
       "        text-align: right;\n",
       "    }\n",
       "</style>\n",
       "<table border=\"1\" class=\"dataframe\">\n",
       "  <thead>\n",
       "    <tr style=\"text-align: right;\">\n",
       "      <th></th>\n",
       "      <th>타겟 업종</th>\n",
       "      <th>유사 업종</th>\n",
       "    </tr>\n",
       "  </thead>\n",
       "  <tbody>\n",
       "    <tr>\n",
       "      <th>0</th>\n",
       "      <td>한식음식점</td>\n",
       "      <td>분식전문점</td>\n",
       "    </tr>\n",
       "    <tr>\n",
       "      <th>1</th>\n",
       "      <td>화장품</td>\n",
       "      <td>일반의류</td>\n",
       "    </tr>\n",
       "    <tr>\n",
       "      <th>2</th>\n",
       "      <td>의료기기</td>\n",
       "      <td>의약품</td>\n",
       "    </tr>\n",
       "    <tr>\n",
       "      <th>3</th>\n",
       "      <td>PC방</td>\n",
       "      <td>전자상거래업</td>\n",
       "    </tr>\n",
       "    <tr>\n",
       "      <th>4</th>\n",
       "      <td>편의점</td>\n",
       "      <td>슈퍼마켓</td>\n",
       "    </tr>\n",
       "    <tr>\n",
       "      <th>5</th>\n",
       "      <td>컴퓨터및주변장치판매</td>\n",
       "      <td>전자상거래업</td>\n",
       "    </tr>\n",
       "  </tbody>\n",
       "</table>\n",
       "</div>"
      ],
      "text/plain": [
       "        타겟 업종   유사 업종\n",
       "0       한식음식점   분식전문점\n",
       "1         화장품    일반의류\n",
       "2        의료기기     의약품\n",
       "3         PC방  전자상거래업\n",
       "4         편의점    슈퍼마켓\n",
       "5  컴퓨터및주변장치판매  전자상거래업"
      ]
     },
     "execution_count": 60,
     "metadata": {},
     "output_type": "execute_result"
    }
   ],
   "source": [
    "df = pd.DataFrame()\n",
    "df['타겟 업종'] = high_services_list\n",
    "df['유사 업종'] = real_result_list\n",
    "\n",
    "df"
   ]
  },
  {
   "cell_type": "code",
   "execution_count": 50,
   "metadata": {},
   "outputs": [
    {
     "data": {
      "text/plain": [
       "'한식음식점'"
      ]
     },
     "execution_count": 50,
     "metadata": {},
     "output_type": "execute_result"
    }
   ],
   "source": [
    "df['타겟 업종'][0]"
   ]
  },
  {
   "cell_type": "code",
   "execution_count": 61,
   "metadata": {},
   "outputs": [],
   "source": [
    "similarity_list =[]\n",
    "for i in range(0,df.shape[0]):\n",
    "    num = model.wv.similarity(in_model_high_services_list[i],result_list[i])\n",
    "    similarity_list.append(num)\n",
    "    \n",
    "df['업종간 유사도'] = similarity_list"
   ]
  },
  {
   "cell_type": "code",
   "execution_count": 62,
   "metadata": {},
   "outputs": [
    {
     "data": {
      "text/html": [
       "<div>\n",
       "<style scoped>\n",
       "    .dataframe tbody tr th:only-of-type {\n",
       "        vertical-align: middle;\n",
       "    }\n",
       "\n",
       "    .dataframe tbody tr th {\n",
       "        vertical-align: top;\n",
       "    }\n",
       "\n",
       "    .dataframe thead th {\n",
       "        text-align: right;\n",
       "    }\n",
       "</style>\n",
       "<table border=\"1\" class=\"dataframe\">\n",
       "  <thead>\n",
       "    <tr style=\"text-align: right;\">\n",
       "      <th></th>\n",
       "      <th>타겟 업종</th>\n",
       "      <th>유사 업종</th>\n",
       "      <th>업종간 유사도</th>\n",
       "    </tr>\n",
       "  </thead>\n",
       "  <tbody>\n",
       "    <tr>\n",
       "      <th>0</th>\n",
       "      <td>한식음식점</td>\n",
       "      <td>분식전문점</td>\n",
       "      <td>0.610544</td>\n",
       "    </tr>\n",
       "    <tr>\n",
       "      <th>1</th>\n",
       "      <td>화장품</td>\n",
       "      <td>일반의류</td>\n",
       "      <td>0.769723</td>\n",
       "    </tr>\n",
       "    <tr>\n",
       "      <th>2</th>\n",
       "      <td>의료기기</td>\n",
       "      <td>의약품</td>\n",
       "      <td>0.517541</td>\n",
       "    </tr>\n",
       "    <tr>\n",
       "      <th>3</th>\n",
       "      <td>PC방</td>\n",
       "      <td>전자상거래업</td>\n",
       "      <td>0.519967</td>\n",
       "    </tr>\n",
       "    <tr>\n",
       "      <th>4</th>\n",
       "      <td>편의점</td>\n",
       "      <td>슈퍼마켓</td>\n",
       "      <td>0.780063</td>\n",
       "    </tr>\n",
       "    <tr>\n",
       "      <th>5</th>\n",
       "      <td>컴퓨터및주변장치판매</td>\n",
       "      <td>전자상거래업</td>\n",
       "      <td>0.713032</td>\n",
       "    </tr>\n",
       "  </tbody>\n",
       "</table>\n",
       "</div>"
      ],
      "text/plain": [
       "        타겟 업종   유사 업종   업종간 유사도\n",
       "0       한식음식점   분식전문점  0.610544\n",
       "1         화장품    일반의류  0.769723\n",
       "2        의료기기     의약품  0.517541\n",
       "3         PC방  전자상거래업  0.519967\n",
       "4         편의점    슈퍼마켓  0.780063\n",
       "5  컴퓨터및주변장치판매  전자상거래업  0.713032"
      ]
     },
     "execution_count": 62,
     "metadata": {},
     "output_type": "execute_result"
    }
   ],
   "source": [
    "df"
   ]
  }
 ],
 "metadata": {
  "kernelspec": {
   "display_name": "Python 3",
   "language": "python",
   "name": "python3"
  },
  "language_info": {
   "codemirror_mode": {
    "name": "ipython",
    "version": 3
   },
   "file_extension": ".py",
   "mimetype": "text/x-python",
   "name": "python",
   "nbconvert_exporter": "python",
   "pygments_lexer": "ipython3",
   "version": "3.8.3"
  }
 },
 "nbformat": 4,
 "nbformat_minor": 4
}
