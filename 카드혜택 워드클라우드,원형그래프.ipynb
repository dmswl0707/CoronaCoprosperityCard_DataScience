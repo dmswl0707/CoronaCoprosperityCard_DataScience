{
  "nbformat": 4,
  "nbformat_minor": 0,
  "metadata": {
    "colab": {
      "name": "업종,유사업종 카드혜택 추출.ipynb",
      "private_outputs": true,
      "provenance": [],
      "collapsed_sections": [],
      "authorship_tag": "ABX9TyP/2XOgyURNpYdpiMsg5Ae0",
      "include_colab_link": true
    },
    "kernelspec": {
      "name": "python3",
      "display_name": "Python 3"
    }
  },
  "cells": [
    {
      "cell_type": "markdown",
      "metadata": {
        "id": "view-in-github",
        "colab_type": "text"
      },
      "source": [
        "<a href=\"https://colab.research.google.com/github/dmswl0707/CoronaCoprosperityCard_DataScience/blob/main/%EC%B9%B4%EB%93%9C%ED%98%9C%ED%83%9D%20%EC%9B%8C%EB%93%9C%ED%81%B4%EB%9D%BC%EC%9A%B0%EB%93%9C%2C%EC%9B%90%ED%98%95%EA%B7%B8%EB%9E%98%ED%94%84.ipynb\" target=\"_parent\"><img src=\"https://colab.research.google.com/assets/colab-badge.svg\" alt=\"Open In Colab\"/></a>"
      ]
    },
    {
      "cell_type": "code",
      "metadata": {
        "id": "wO-Cdqu73A3w"
      },
      "source": [
        "#드라이브에 접근할 수 있도록 아래 코드 입력\n",
        "from google.colab import drive\n",
        "drive.mount('/content/drive')"
      ],
      "execution_count": null,
      "outputs": []
    },
    {
      "cell_type": "code",
      "metadata": {
        "id": "5C5nHF2_5Qvp"
      },
      "source": [
        "#불러올 파일의 경로를 filename 변수에 저장\n",
        "pd = open('/content/drive/My Drive/test/card_benefits_text.txt','r')\n",
        "\n",
        "data = pd.read().splitlines()\n",
        "\n",
        "print(type(data))"
      ],
      "execution_count": null,
      "outputs": []
    },
    {
      "cell_type": "code",
      "metadata": {
        "id": "yko_ZezV5UMy"
      },
      "source": [
        "card_benefits = []\n",
        "\n",
        "for line in data:\n",
        "    card_benefits.append(line)\n",
        "pd.close()\n",
        "\n",
        "print(card_benefits)"
      ],
      "execution_count": null,
      "outputs": []
    },
    {
      "cell_type": "code",
      "metadata": {
        "id": "rjDlR1CuIn0t"
      },
      "source": [
        "!apt-get update\n",
        "\n",
        "!apt-get install g++ openjdk-8-jdk python-dev python3-dev\n",
        "\n",
        "!pip3 install JPype1-py3\n",
        "\n",
        "!pip3 install konlpy\n",
        "\n",
        "!JAVA_HOME=\"/usr/lib/jvm/java-8-openjdk-amd64"
      ],
      "execution_count": null,
      "outputs": []
    },
    {
      "cell_type": "code",
      "metadata": {
        "id": "X0aq_37dImFN"
      },
      "source": [
        "#디스플레이 설정\n",
        "from wordcloud import WordCloud \n",
        "\n",
        "import matplotlib.pyplot as plt\n",
        "\n",
        "import numpy as np\n",
        "\n",
        "from PIL import Image\n",
        "\n",
        "from wordcloud import STOPWORDS\n",
        "\n",
        "#마스킹 모양으로 워드클라우드 생성\n",
        "mask = np.array(Image.open('/content/drive/MyDrive/test/다운로드.jpg'))\n",
        "\n",
        "stopwords = set(STOPWORDS)\n",
        "stopwords.add('said')\n",
        "\n",
        "plt.figure(figsize = (8,8))\n",
        "plt.imshow(mask,cmap=plt.cm.gray,interpolation='bilinear')\n",
        "plt.show()"
      ],
      "execution_count": null,
      "outputs": []
    },
    {
      "cell_type": "code",
      "metadata": {
        "id": "82quW7qvIp8k"
      },
      "source": [
        "#형태소 분석기\n",
        "from collections import Counter\n",
        "from konlpy.tag import Okt\n",
        "\n",
        "okt = Okt()"
      ],
      "execution_count": null,
      "outputs": []
    },
    {
      "cell_type": "code",
      "metadata": {
        "id": "JK4074Z5hjCt"
      },
      "source": [
        "sentences_tag = []\n",
        "for sentence in card_benefits:\n",
        "    morph = okt.pos(sentence)\n",
        "    sentences_tag.append(morph)\n",
        "    print(morph)\n",
        "    print('-'*30)"
      ],
      "execution_count": null,
      "outputs": []
    },
    {
      "cell_type": "code",
      "metadata": {
        "id": "KkCb4NINhz29"
      },
      "source": [
        "#명사,형용사만 찾기\n",
        "noun_adj_list = []\n",
        "for sentence1 in sentences_tag:\n",
        "    for word, tag in sentence1:\n",
        "        if tag in ['Noun','Adjective']:\n",
        "            noun_adj_list.append(word)"
      ],
      "execution_count": null,
      "outputs": []
    },
    {
      "cell_type": "code",
      "metadata": {
        "id": "_o-qz8Aymhvl"
      },
      "source": [
        "print(noun_adj_list)"
      ],
      "execution_count": null,
      "outputs": []
    },
    {
      "cell_type": "code",
      "metadata": {
        "id": "aoHjsPRjiEiE"
      },
      "source": [
        "# 선별된 품사별 빈도수 계산 & 상위 빈도 60위 까지 출력\n",
        "counts = Counter(noun_adj_list)\n",
        "print(counts.most_common())"
      ],
      "execution_count": null,
      "outputs": []
    },
    {
      "cell_type": "code",
      "metadata": {
        "id": "_YH-yziniIPJ"
      },
      "source": [
        "words = dict(counts)\n",
        "# del words['시']\n",
        "# del words['및']\n",
        "# del words['점']\n",
        "# del words['일']\n",
        "# del words['기본']\n",
        "# del words['이상']\n",
        "# del words['사용']\n",
        "\n",
        "wordcloud = WordCloud(font_path = '/content/drive/My Drive/test/a시네마B.ttf', background_color='white',max_words=2000, mask=mask,stopwords=stopwords).generate_from_frequencies(words) \n",
        "\n",
        "plt.imshow(wordcloud)\n",
        "plt.axis('off')\n",
        "plt.show()"
      ],
      "execution_count": null,
      "outputs": []
    },
    {
      "cell_type": "code",
      "metadata": {
        "id": "-HgEY6pGz4ha"
      },
      "source": [
        "from matplotlib import font_manager, rc\n",
        "from matplotlib import style"
      ],
      "execution_count": null,
      "outputs": []
    },
    {
      "cell_type": "code",
      "metadata": {
        "id": "--Y6zA-1z-Sg"
      },
      "source": [
        "font_name = font_manager.FontProperties(fname=\"/content/drive/MyDrive/test/a시네마B.ttf\").get_name()\n",
        "rc('font', family=font_name)\n",
        "style.use('ggplot')"
      ],
      "execution_count": null,
      "outputs": []
    },
    {
      "cell_type": "code",
      "metadata": {
        "id": "3geIgfhWxBD9"
      },
      "source": [
        "ratio = []\n",
        "labels = []\n",
        "\n",
        "print(type(ratio))\n",
        "\n",
        "for i in counts.most_common(10):\n",
        "  ratio.append(i[1])\n",
        "  labels.append(i[0])\n",
        "\n",
        "\n",
        "print(ratio)\n",
        "print(labels)\n",
        "\n",
        "plt.pie(ratio, labels=labels, autopct='%.1f%%', startangle=260, counterclock=False, shadow=True)\n",
        "plt.show()"
      ],
      "execution_count": null,
      "outputs": []
    },
    {
      "cell_type": "code",
      "metadata": {
        "id": "X0pscDBkXMDR"
      },
      "source": [
        "# #리스트 내의 명사,형용사만 찾아 상위 단어들 워드클라우드로 제공\n",
        "\n",
        "# def count(x):\n",
        "#   sentences_tag = []\n",
        "#   for sentence in total:\n",
        "#     morph = okt.pos(sentence)\n",
        "#     sentences_tag.append(morph)\n",
        "\n",
        "#   #명사,형용사만 찾기\n",
        "#   noun_adj_list = []\n",
        "#   for sentence1 in sentences_tag:\n",
        "#     for word, tag in sentence1:\n",
        "#         if tag in ['Noun','Adjective']:\n",
        "#             noun_adj_list.append(word)\n",
        "  \n",
        "#   # 선별된 품사별 빈도수 계산 & 상위 빈도 x위 까지 출력\n",
        "#   counts = Counter(noun_adj_list)\n",
        "#   top = counts.most_common(x)\n",
        "#   return top\n",
        "\n",
        "# def wc(top):\n",
        "#   words = dict(top)\n",
        "\n",
        "#   wordcloud = WordCloud(font_path = '/content/drive/My Drive/test/a시네마B.ttf', background_color='white',max_words=2000, mask=mask,stopwords=stopwords).generate_from_frequencies(words) \n",
        "\n",
        "#   plt.imshow(wordcloud)\n",
        "#   plt.axis('off')\n",
        "#   plt.show()"
      ],
      "execution_count": null,
      "outputs": []
    },
    {
      "cell_type": "code",
      "metadata": {
        "id": "JL1Sgysc9kn_"
      },
      "source": [
        "# tt = []"
      ],
      "execution_count": null,
      "outputs": []
    },
    {
      "cell_type": "code",
      "metadata": {
        "id": "QugOs6c1Hpgk"
      },
      "source": [
        "# #쇼핑\n",
        "# total = [s for s in card_benefits if '쇼핑' in s]\n",
        "# top = count(10)\n",
        "# k = 0\n",
        "\n",
        "# for i in top:\n",
        "#   if '쇼핑' in i[0]:\n",
        "#     top.remove(i)\n",
        "\n",
        "# tt = tt + top  \n",
        "\n",
        "# if len(top) >0:\n",
        "#   wc(top)"
      ],
      "execution_count": null,
      "outputs": []
    },
    {
      "cell_type": "code",
      "metadata": {
        "id": "hFQlY0Pq5JSj"
      },
      "source": [
        "# #식음료/외식\n",
        "# total = [s for s in card_benefits if '식음료' in s or '외식' in s]\n",
        "# top = count(10)\n",
        "# k = 0\n",
        "\n",
        "# for i in top:\n",
        "#   if '식음료' in i[0] or '외식' in i[0]:\n",
        "#     top.remove(i)\n",
        "\n",
        "# tt = tt + top  \n",
        "\n",
        "# if len(top) >0:\n",
        "#   wc(top)"
      ],
      "execution_count": null,
      "outputs": []
    },
    {
      "cell_type": "code",
      "metadata": {
        "id": "L2y7itaB5jPB"
      },
      "source": [
        "# #소매업/편의점/마트\n",
        "# total = [s for s in card_benefits if '소매업' in s or '편의점' in s or '마트' in s]\n",
        "# top = count(10)\n",
        "# k = 0\n",
        "\n",
        "# for i in top:\n",
        "#   if '소매업' in i[0] or '편의점' in i[0] or '마트' in i[0]:\n",
        "#     top.remove(i)\n",
        "\n",
        "# tt = tt + top  \n",
        "\n",
        "# if len(top) >0:\n",
        "#   wc(top)"
      ],
      "execution_count": null,
      "outputs": []
    },
    {
      "cell_type": "code",
      "metadata": {
        "id": "V_uO7M0P8Xi8"
      },
      "source": [
        "# #온라인결제/온라인쇼핑\n",
        "# total = [s for s in card_benefits if '온라인결제' in s or '온라인쇼핑' in s]\n",
        "# top = count(10)\n",
        "# k = 0\n",
        "\n",
        "# for i in top:\n",
        "#   if '온라인' in i[0] or '결제' in i[0] or '쇼핑' in i[0]:\n",
        "#     top.remove(i)\n",
        "\n",
        "# tt = tt + top  \n",
        "\n",
        "# if len(top) >0:\n",
        "#   wc(top)"
      ],
      "execution_count": null,
      "outputs": []
    },
    {
      "cell_type": "code",
      "metadata": {
        "id": "5afD-TfH95d8"
      },
      "source": [
        "# #전자기기\n",
        "# total = [s for s in card_benefits if '전자기기' in s]\n",
        "# top = count(10)\n",
        "# k = 0\n",
        "\n",
        "# for i in top:\n",
        "#   if '전자기기' in i[0]:\n",
        "#     top.remove(i)\n",
        "\n",
        "# tt = tt + top  \n",
        "\n",
        "# if len(top) >0:\n",
        "#   wc(top)"
      ],
      "execution_count": null,
      "outputs": []
    },
    {
      "cell_type": "code",
      "metadata": {
        "id": "Dd4S2kDF-aIg"
      },
      "source": [
        "# wc(tt)"
      ],
      "execution_count": null,
      "outputs": []
    }
  ]
}